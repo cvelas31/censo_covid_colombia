{
 "cells": [
  {
   "cell_type": "markdown",
   "metadata": {},
   "source": [
    "# Data Aggregation\n",
    "\n",
    "# Goal\n",
    "Create a aggregation on both dataset (Census and Covid) and join.\n",
    "\n",
    "# Methodology\n",
    "- Do multiple aggregation on the census data by city\n",
    "- Do multiple aggregation on the covid data.\n",
    "- Join the previous two df.\n",
    "- Save this df to s3.\n",
    "\n",
    "### Aggregations\n",
    "- Range ages by city\n",
    "- Gender proportion by city\n",
    "- People by city\n",
    "- Adequate access to public services by city\n",
    "- Internet services by city\n",
    "- Health quality service by city\n",
    "- Life expectancy by city\n",
    "\n",
    "## Sections\n",
    "1. [**Requirements**](#Requirements)\n",
    "2. [**Functions**](#Functions)\n",
    "3. [**Inputs**](#Inputs)\n"
   ]
  },
  {
   "cell_type": "markdown",
   "metadata": {},
   "source": [
    "# Requirements"
   ]
  },
  {
   "cell_type": "code",
   "execution_count": 1,
   "metadata": {
    "scrolled": true
   },
   "outputs": [
    {
     "data": {
      "application/vnd.jupyter.widget-view+json": {
       "model_id": "d782999602d0459d9cfff469c127bf51",
       "version_major": 2,
       "version_minor": 0
      },
      "text/plain": [
       "VBox()"
      ]
     },
     "metadata": {},
     "output_type": "display_data"
    },
    {
     "name": "stdout",
     "output_type": "stream",
     "text": [
      "Starting Spark application\n"
     ]
    },
    {
     "data": {
      "text/html": [
       "<table>\n",
       "<tr><th>ID</th><th>YARN Application ID</th><th>Kind</th><th>State</th><th>Spark UI</th><th>Driver log</th><th>Current session?</th></tr><tr><td>0</td><td>application_1594851155022_0001</td><td>pyspark</td><td>idle</td><td><a target=\"_blank\" href=\"http://ip-172-31-53-75.us-west-2.compute.internal:20888/proxy/application_1594851155022_0001/\">Link</a></td><td><a target=\"_blank\" href=\"http://ip-172-31-62-206.us-west-2.compute.internal:8042/node/containerlogs/container_1594851155022_0001_01_000001/livy\">Link</a></td><td>✔</td></tr></table>"
      ],
      "text/plain": [
       "<IPython.core.display.HTML object>"
      ]
     },
     "metadata": {},
     "output_type": "display_data"
    },
    {
     "data": {
      "application/vnd.jupyter.widget-view+json": {
       "model_id": "",
       "version_major": 2,
       "version_minor": 0
      },
      "text/plain": [
       "FloatProgress(value=0.0, bar_style='info', description='Progress:', layout=Layout(height='25px', width='50%'),…"
      ]
     },
     "metadata": {},
     "output_type": "display_data"
    },
    {
     "name": "stdout",
     "output_type": "stream",
     "text": [
      "SparkSession available as 'spark'.\n"
     ]
    },
    {
     "data": {
      "application/vnd.jupyter.widget-view+json": {
       "model_id": "",
       "version_major": 2,
       "version_minor": 0
      },
      "text/plain": [
       "FloatProgress(value=0.0, bar_style='info', description='Progress:', layout=Layout(height='25px', width='50%'),…"
      ]
     },
     "metadata": {},
     "output_type": "display_data"
    },
    {
     "name": "stdout",
     "output_type": "stream",
     "text": [
      "Collecting pandas\n",
      "  Downloading https://files.pythonhosted.org/packages/af/f3/683bf2547a3eaeec15b39cef86f61e921b3b187f250fcd2b5c5fb4386369/pandas-1.0.5-cp37-cp37m-manylinux1_x86_64.whl (10.1MB)\n",
      "Requirement already satisfied: pytz>=2017.2 in /usr/local/lib/python3.7/site-packages (from pandas)\n",
      "Requirement already satisfied: numpy>=1.13.3 in /usr/local/lib64/python3.7/site-packages (from pandas)\n",
      "Collecting python-dateutil>=2.6.1 (from pandas)\n",
      "  Downloading https://files.pythonhosted.org/packages/d4/70/d60450c3dd48ef87586924207ae8907090de0b306af2bce5d134d78615cb/python_dateutil-2.8.1-py2.py3-none-any.whl (227kB)\n",
      "Requirement already satisfied: six>=1.5 in /usr/local/lib/python3.7/site-packages (from python-dateutil>=2.6.1->pandas)\n",
      "Installing collected packages: python-dateutil, pandas\n",
      "Successfully installed pandas-1.0.5 python-dateutil-2.8.1\n",
      "\n",
      "Collecting boto3\n",
      "  Downloading https://files.pythonhosted.org/packages/f5/d4/854d6c11936b9bc7b2341cf9547fedf16f638437592a8d75e927e1ed62b4/boto3-1.14.21-py2.py3-none-any.whl (128kB)\n",
      "Requirement already satisfied: jmespath<1.0.0,>=0.7.1 in /usr/local/lib/python3.7/site-packages (from boto3)\n",
      "Collecting botocore<1.18.0,>=1.17.21 (from boto3)\n",
      "  Downloading https://files.pythonhosted.org/packages/21/0c/ee102813cd358589549dd07af13f2a7ed012f06ae231612fd6decdac4be3/botocore-1.17.21-py2.py3-none-any.whl (6.3MB)\n",
      "Collecting s3transfer<0.4.0,>=0.3.0 (from boto3)\n",
      "  Downloading https://files.pythonhosted.org/packages/69/79/e6afb3d8b0b4e96cefbdc690f741d7dd24547ff1f94240c997a26fa908d3/s3transfer-0.3.3-py2.py3-none-any.whl (69kB)\n",
      "Collecting urllib3<1.26,>=1.20; python_version != \"3.4\" (from botocore<1.18.0,>=1.17.21->boto3)\n",
      "  Downloading https://files.pythonhosted.org/packages/e1/e5/df302e8017440f111c11cc41a6b432838672f5a70aa29227bf58149dc72f/urllib3-1.25.9-py2.py3-none-any.whl (126kB)\n",
      "Requirement already satisfied: python-dateutil<3.0.0,>=2.1 in /mnt/tmp/1594851417778-0/lib/python3.7/site-packages (from botocore<1.18.0,>=1.17.21->boto3)\n",
      "Collecting docutils<0.16,>=0.10 (from botocore<1.18.0,>=1.17.21->boto3)\n",
      "  Downloading https://files.pythonhosted.org/packages/22/cd/a6aa959dca619918ccb55023b4cb151949c64d4d5d55b3f4ffd7eee0c6e8/docutils-0.15.2-py3-none-any.whl (547kB)\n",
      "Requirement already satisfied: six>=1.5 in /usr/local/lib/python3.7/site-packages (from python-dateutil<3.0.0,>=2.1->botocore<1.18.0,>=1.17.21->boto3)\n",
      "Installing collected packages: urllib3, docutils, botocore, s3transfer, boto3\n",
      "Successfully installed boto3-1.14.21 botocore-1.17.21 docutils-0.15.2 s3transfer-0.3.3 urllib3-1.25.9"
     ]
    }
   ],
   "source": [
    "#installing packages\n",
    "sc.install_pypi_package(\"pandas\")\n",
    "sc.install_pypi_package(\"boto3\")\n",
    "sc.setCheckpointDir('hdfs:///covid')"
   ]
  },
  {
   "cell_type": "code",
   "execution_count": 2,
   "metadata": {},
   "outputs": [
    {
     "data": {
      "application/vnd.jupyter.widget-view+json": {
       "model_id": "fc05aeadff6749bf92d8c935047a5475",
       "version_major": 2,
       "version_minor": 0
      },
      "text/plain": [
       "VBox()"
      ]
     },
     "metadata": {},
     "output_type": "display_data"
    },
    {
     "data": {
      "application/vnd.jupyter.widget-view+json": {
       "model_id": "",
       "version_major": 2,
       "version_minor": 0
      },
      "text/plain": [
       "FloatProgress(value=0.0, bar_style='info', description='Progress:', layout=Layout(height='25px', width='50%'),…"
      ]
     },
     "metadata": {},
     "output_type": "display_data"
    },
    {
     "name": "stdout",
     "output_type": "stream",
     "text": [
      "2048M\n",
      "20"
     ]
    }
   ],
   "source": [
    "import time\n",
    "import os\n",
    "import boto3\n",
    "import gc\n",
    "import sys\n",
    "import numpy as np\n",
    "import pandas as pd\n",
    "import pickle\n",
    "import pyspark\n",
    "from pyspark.sql import SparkSession\n",
    "from pyspark.sql.types import (FloatType, DateType, StructType, StructField, StringType, LongType, \n",
    "    IntegerType, ArrayType, BooleanType, DoubleType)\n",
    "from pyspark.sql import functions as F\n",
    "from pyspark.sql.window import Window\n",
    "from pyspark.ml.feature import VectorAssembler, StandardScaler, QuantileDiscretizer\n",
    "gc.enable()\n",
    "\n",
    "spark = SparkSession.builder.config(\"spark.sql.shuffle.partitions\", 20).appName(\"covid\").getOrCreate()\n",
    "print(spark.sparkContext.getConf().get('spark.driver.memory'))\n",
    "print(spark.sparkContext.getConf().get(\"spark.sql.shuffle.partitions\"))"
   ]
  },
  {
   "cell_type": "markdown",
   "metadata": {},
   "source": [
    "# Functions"
   ]
  },
  {
   "cell_type": "markdown",
   "metadata": {},
   "source": [
    "## Loading data"
   ]
  },
  {
   "cell_type": "code",
   "execution_count": 3,
   "metadata": {},
   "outputs": [
    {
     "data": {
      "application/vnd.jupyter.widget-view+json": {
       "model_id": "ed8b8d465ecd49eb80dc8fa8f0c8d77f",
       "version_major": 2,
       "version_minor": 0
      },
      "text/plain": [
       "VBox()"
      ]
     },
     "metadata": {},
     "output_type": "display_data"
    },
    {
     "data": {
      "application/vnd.jupyter.widget-view+json": {
       "model_id": "",
       "version_major": 2,
       "version_minor": 0
      },
      "text/plain": [
       "FloatProgress(value=0.0, bar_style='info', description='Progress:', layout=Layout(height='25px', width='50%'),…"
      ]
     },
     "metadata": {},
     "output_type": "display_data"
    }
   ],
   "source": [
    "def build_schema_complete(source=\"vivienda\"):\n",
    "    \"\"\"\n",
    "    Build schema for different sources\n",
    "\n",
    "    Parameters:\n",
    "    -----------\n",
    "    source : str\n",
    "        Table source may be: \"VIV\", \"PER\", \"HOG\", \"FALL\", \"MGN\"\n",
    "\n",
    "    Return:\n",
    "    -------\n",
    "    schema : spark.schema\n",
    "        Spark schema for loading source table\n",
    "    \"\"\"\n",
    "    if source == \"fallecidos\":\n",
    "        schema = StructType([StructField(\"U_DPTO\", IntegerType()),\n",
    "                             StructField(\"U_MPIO\", IntegerType()),\n",
    "                             StructField(\"UA_CLASE\", IntegerType()),\n",
    "                             StructField(\"U_EDIFICA\", IntegerType()),\n",
    "                             StructField(\"COD_ENCUESTAS\", IntegerType()),\n",
    "                             StructField(\"U_VIVIENDA\", IntegerType()),\n",
    "                             StructField(\"F_NROHOG\", IntegerType()),\n",
    "                             StructField(\"FA1_NRO_FALL\", IntegerType()),\n",
    "                             StructField(\"FA2_SEXO_FALL\", IntegerType()),\n",
    "                             StructField(\"FA3_EDAD_FALL\", IntegerType()),\n",
    "                             StructField(\"FA4_CERT_DEFUN\", IntegerType()),\n",
    "                             StructField(\"UVA_USO_UNIDAD\", IntegerType()),\n",
    "                             StructField(\"V_TIPO_VIV\", DoubleType()),\n",
    "                             StructField(\"V_CON_OCUP\", DoubleType()),\n",
    "                             StructField(\"V_TOT_HOG\", DoubleType()),\n",
    "                             StructField(\"V_MAT_PARED\", DoubleType()),\n",
    "                             StructField(\"V_MAT_PISO\", DoubleType()),\n",
    "                             StructField(\"VA_EE\", DoubleType()),\n",
    "                             StructField(\"VA1_ESTRATO\", DoubleType()),\n",
    "                             StructField(\"VB_ACU\", DoubleType()),\n",
    "                             StructField(\"VC_ALC\", DoubleType()),\n",
    "                             StructField(\"VD_GAS\", DoubleType()),\n",
    "                             StructField(\"VE_RECBAS\", DoubleType()),\n",
    "                             StructField(\"VE1_QSEM\", DoubleType()),\n",
    "                             StructField(\"VF_INTERNET\", DoubleType()),\n",
    "                             StructField(\"V_TIPO_SERSA\", DoubleType()),\n",
    "                             StructField(\"L_TIPO_INST\", DoubleType()),\n",
    "                             StructField(\"L_EXISTEHOG\", DoubleType()),\n",
    "                             StructField(\"L_TOT_PERL\", DoubleType()),\n",
    "                             StructField(\"H_NRO_CUARTOS_H\", DoubleType()),\n",
    "                             StructField(\"H_NRO_DORMIT_H\", DoubleType()),\n",
    "                             StructField(\"H_DONDE_PREPALIM_H\", DoubleType()),\n",
    "                             StructField(\"H_AGUA_COCIN_H\", DoubleType()),\n",
    "                             StructField(\"HA_NRO_FALL_H\", DoubleType()),\n",
    "                             StructField(\"HA_TOT_PER_H\", DoubleType()),\n",
    "                             StructField(\"UA1_LOCALIDAD\", IntegerType()),\n",
    "                             StructField(\"U_SECT_RUR\", IntegerType()),\n",
    "                             StructField(\"U_SECC_RUR\", IntegerType()),\n",
    "                             StructField(\"UA2_CPOB\", IntegerType()),\n",
    "                             StructField(\"U_SECT_URB\", IntegerType()),\n",
    "                             StructField(\"U_SECC_URB\", IntegerType()),\n",
    "                             StructField(\"U_MZA\", IntegerType()),\n",
    "                             StructField(\"dpto\", StringType()),\n",
    "                             StructField(\"nom_mpio\", StringType()),\n",
    "                             StructField(\"tipo_municipio\", StringType())])\n",
    "    elif source == \"personas\":\n",
    "        schema = StructType([StructField(\"U_DPTO\", IntegerType()),\n",
    "                             StructField(\"U_MPIO\", IntegerType()),\n",
    "                             StructField(\"UA_CLASE\", IntegerType()),\n",
    "                             StructField(\"U_EDIFICA\", IntegerType()),\n",
    "                             StructField(\"COD_ENCUESTAS\", IntegerType()),\n",
    "                             StructField(\"U_VIVIENDA\", IntegerType()),\n",
    "                             StructField(\"P_NROHOG\", IntegerType()),\n",
    "                             StructField(\"P_NRO_PER\", IntegerType()),\n",
    "                             StructField(\"P_SEXO\", IntegerType()),\n",
    "                             StructField(\"P_EDADR\", IntegerType()),\n",
    "                             StructField(\"P_PARENTESCOR\", DoubleType()),\n",
    "                             StructField(\"PA_LUG_NAC\", IntegerType()),\n",
    "                             StructField(\"PA_VIVIA_5ANOS\", DoubleType()),\n",
    "                             StructField(\"PA_VIVIA_1ANO\", DoubleType()),\n",
    "                             StructField(\"P_ENFERMO\", DoubleType()),\n",
    "                             StructField(\"P_QUEHIZO_PPAL\", DoubleType()),\n",
    "                             StructField(\"PA_LO_ATENDIERON\", DoubleType()),\n",
    "                             StructField(\"PA1_CALIDAD_SERV\", DoubleType()),\n",
    "                             StructField(\"CONDICION_FISICA\", DoubleType()),\n",
    "                             StructField(\"P_ALFABETA\", DoubleType()),\n",
    "                             StructField(\"PA_ASISTENCIA\", DoubleType()),\n",
    "                             StructField(\"P_NIVEL_ANOSR\", DoubleType()),\n",
    "                             StructField(\"P_TRABAJO\", DoubleType()),\n",
    "                             StructField(\"P_EST_CIVIL\", DoubleType()),\n",
    "                             StructField(\"PA_HNV\", DoubleType()),\n",
    "                             StructField(\"PA1_THNV\", DoubleType()),\n",
    "                             StructField(\"PA2_HNVH\", DoubleType()),\n",
    "                             StructField(\"PA3_HNVM\", DoubleType()),\n",
    "                             StructField(\"PA_HNVS\", DoubleType()),\n",
    "                             StructField(\"PA1_THSV\", DoubleType()),\n",
    "                             StructField(\"PA2_HSVH\", DoubleType()),\n",
    "                             StructField(\"PA3_HSVM\", DoubleType()),\n",
    "                             StructField(\"PA_HFC\", DoubleType()),\n",
    "                             StructField(\"PA1_THFC\", DoubleType()),\n",
    "                             StructField(\"PA2_HFCH\", DoubleType()),\n",
    "                             StructField(\"PA3_HFCM\", DoubleType()),\n",
    "                             StructField(\"UVA_USO_UNIDAD\", IntegerType()),\n",
    "                             StructField(\"V_TIPO_VIV\", DoubleType()),\n",
    "                             StructField(\"V_CON_OCUP\", DoubleType()),\n",
    "                             StructField(\"V_TOT_HOG\", DoubleType()),\n",
    "                             StructField(\"V_MAT_PARED\", DoubleType()),\n",
    "                             StructField(\"V_MAT_PISO\", DoubleType()),\n",
    "                             StructField(\"VA_EE\", DoubleType()),\n",
    "                             StructField(\"VA1_ESTRATO\", DoubleType()),\n",
    "                             StructField(\"VB_ACU\", DoubleType()),\n",
    "                             StructField(\"VC_ALC\", DoubleType()),\n",
    "                             StructField(\"VD_GAS\", DoubleType()),\n",
    "                             StructField(\"VE_RECBAS\", DoubleType()),\n",
    "                             StructField(\"VE1_QSEM\", DoubleType()),\n",
    "                             StructField(\"VF_INTERNET\", DoubleType()),\n",
    "                             StructField(\"V_TIPO_SERSA\", DoubleType()),\n",
    "                             StructField(\"L_TIPO_INST\", DoubleType()),\n",
    "                             StructField(\"L_EXISTEHOG\", DoubleType()),\n",
    "                             StructField(\"L_TOT_PERL\", DoubleType()),\n",
    "                             StructField(\"H_NRO_CUARTOS_H\", DoubleType()),\n",
    "                             StructField(\"H_NRO_DORMIT_H\", DoubleType()),\n",
    "                             StructField(\"H_DONDE_PREPALIM_H\", DoubleType()),\n",
    "                             StructField(\"H_AGUA_COCIN_H\", DoubleType()),\n",
    "                             StructField(\"HA_NRO_FALL_H\", DoubleType()),\n",
    "                             StructField(\"HA_TOT_PER_H\", DoubleType()),\n",
    "                             StructField(\"UA1_LOCALIDAD\", IntegerType()),\n",
    "                             StructField(\"U_SECT_RUR\", IntegerType()),\n",
    "                             StructField(\"U_SECC_RUR\", IntegerType()),\n",
    "                             StructField(\"UA2_CPOB\", IntegerType()),\n",
    "                             StructField(\"U_SECT_URB\", IntegerType()),\n",
    "                             StructField(\"U_SECC_URB\", IntegerType()),\n",
    "                             StructField(\"U_MZA\", IntegerType()),\n",
    "                             StructField(\"dpto\", StringType()),\n",
    "                             StructField(\"nom_mpio\", StringType()),\n",
    "                             StructField(\"tipo_municipio\", StringType())])\n",
    "    else:\n",
    "        print(\"Source not valid. Enter one of the following sources: fallecidos, personas\")\n",
    "    return schema\n",
    "\n",
    "\n",
    "def build_schema_covid(source=\"covid\"):\n",
    "    \"\"\"\n",
    "    Build schema for different covid sources\n",
    "\n",
    "    Parameters:\n",
    "    -----------\n",
    "    source : str\n",
    "        Table source may be: \"covid\", \"tests\"\n",
    "\n",
    "    Return:\n",
    "    -------\n",
    "    schema : spark.schema\n",
    "        Spark schema for loading source table\n",
    "    \"\"\"\n",
    "    if source == \"covid\":\n",
    "        schema = StructType([StructField(\"fecha_de_notificaci_n\", DateType()),\n",
    "                             StructField(\"c_digo_divipola\", StringType()),\n",
    "                             StructField(\"ciudad_de_ubicaci_n\", StringType()),\n",
    "                             StructField(\"departamento\", StringType()),\n",
    "                             StructField(\"atenci_n\", StringType()),\n",
    "                             StructField(\"edad\", IntegerType()),\n",
    "                             StructField(\"sexo\", StringType()),\n",
    "                             StructField(\"tipo\", StringType()),\n",
    "                             StructField(\"estado\", StringType()),\n",
    "                             StructField(\"pa_s_de_procedencia\", StringType()),\n",
    "                             StructField(\"fis\", DateType()),\n",
    "                             StructField(\"fecha_diagnostico\", DateType()),\n",
    "                             StructField(\"fecha_recuperado\", DateType()),\n",
    "                             StructField(\"fecha_reporte_web\", DateType()),\n",
    "                             StructField(\"tipo_recuperaci_n\", StringType()),\n",
    "                             StructField(\"codigo_departamento\", StringType()),\n",
    "                             StructField(\"codigo_pais\", StringType()),\n",
    "                             StructField(\"pertenencia_etnica\", StringType()),\n",
    "                             StructField(\"nombre_grupo_etnico\", StringType()),\n",
    "                             StructField(\"fecha_de_muerte\", DateType()),\n",
    "                             StructField(\"Asintomatico\", IntegerType()),\n",
    "                             StructField(\"divipola_dpto\", IntegerType()),\n",
    "                             StructField(\"divipola_mpio\", IntegerType())\n",
    "                             ])\n",
    "    elif source == \"tests\":\n",
    "        schema = StructType([StructField(\"fecha\", DateType()),\n",
    "                             StructField(\"acumuladas\", DoubleType()),\n",
    "                             StructField(\"amazonas\", DoubleType()),\n",
    "                             StructField(\"antioquia\", DoubleType()),\n",
    "                             StructField(\"arauca\", DoubleType()),\n",
    "                             StructField(\"atlantico\", DoubleType()),\n",
    "                             StructField(\"bogota\", DoubleType()),\n",
    "                             StructField(\"bolivar\", DoubleType()),\n",
    "                             StructField(\"boyaca\", DoubleType()),\n",
    "                             StructField(\"caldas\", DoubleType()),\n",
    "                             StructField(\"caqueta\", DoubleType()),\n",
    "                             StructField(\"casanare\", DoubleType()),\n",
    "                             StructField(\"cauca\", DoubleType()),\n",
    "                             StructField(\"cesar\", DoubleType()),\n",
    "                             StructField(\"choco\", DoubleType()),\n",
    "                             StructField(\"cordoba\", DoubleType()),\n",
    "                             StructField(\"cundinamarca\", DoubleType()),\n",
    "                             StructField(\"guainia\", DoubleType()),\n",
    "                             StructField(\"guajira\", DoubleType()),\n",
    "                             StructField(\"guaviare\", DoubleType()),\n",
    "                             StructField(\"huila\", DoubleType()),\n",
    "                             StructField(\"magdalena\", DoubleType()),\n",
    "                             StructField(\"meta\", DoubleType()),\n",
    "                             StructField(\"narino\", DoubleType()),\n",
    "                             StructField(\"norte_de_santander\", DoubleType()),\n",
    "                             StructField(\"putumayo\", DoubleType()),\n",
    "                             StructField(\"quindio\", DoubleType()),\n",
    "                             StructField(\"risaralda\", DoubleType()),\n",
    "                             StructField(\"san_andres\", DoubleType()),\n",
    "                             StructField(\"santander\", DoubleType()),\n",
    "                             StructField(\"sucre\", DoubleType()),\n",
    "                             StructField(\"tolima\", DoubleType()),\n",
    "                             StructField(\"valle_del_cauca\", DoubleType()),\n",
    "                             StructField(\"vaupes\", DoubleType()),\n",
    "                             StructField(\"vichada\", DoubleType()),\n",
    "                             StructField(\"procedencia_desconocida\", DoubleType()),\n",
    "                             StructField(\"positivas_acumuladas\", DoubleType()),\n",
    "                             StructField(\"negativas_acumuladas\", DoubleType()),\n",
    "                             StructField(\"positividad_acumulada\", DoubleType()),\n",
    "                             StructField(\"indeterminadas\", DoubleType()),\n",
    "                             StructField(\"barranquilla\", DoubleType()),\n",
    "                             StructField(\"cartagena\", DoubleType()),\n",
    "                             StructField(\"santa_marta\", DoubleType())\n",
    "                             ])\n",
    "    else:\n",
    "        print(\"Source not valid. Enter one of the following sources: 'covid', 'tests'\")\n",
    "    return schema\n",
    "              \n",
    "def build_schema_divipola(source=\"divipola\"):\n",
    "    \"\"\"\n",
    "    Build schema for different covid sources\n",
    "\n",
    "    Parameters:\n",
    "    -----------\n",
    "    source : str\n",
    "        Table source may be: \"covid\", \"tests\"\n",
    "\n",
    "    Return:\n",
    "    -------\n",
    "    schema : spark.schema\n",
    "        Spark schema for loading source table\n",
    "    \"\"\"\n",
    "    if source == \"divipola\":\n",
    "        schema = StructType([StructField(\"cod_depto\", IntegerType()),\n",
    "                             StructField(\"cod_mpio\", IntegerType()),\n",
    "                             StructField(\"dpto\", StringType()),\n",
    "                             StructField(\"nom_mpio\", StringType()),\n",
    "                             StructField(\"tipo_municipio\", StringType())\n",
    "                             ])\n",
    "    else:\n",
    "        print(\"Source not valid. Enter one of the following sources: 'covid', 'tests'\")\n",
    "    return schema\n",
    "              \n",
    "def get_censo_paths(bucket_s3, directory_key):\n",
    "    \"\"\"\n",
    "    Get dictionary of census data for each department\n",
    "    \n",
    "    Parameters:\n",
    "    -----------\n",
    "    bucket_s3 : s3.Bucket\n",
    "        Boto3 Bucket object\n",
    "    directory_key : path\n",
    "        Directory key in S3\n",
    "    \n",
    "    Return:\n",
    "    -------\n",
    "    dict_paths_departments : dict\n",
    "        Dictionary with the data path for each departtment\n",
    "    \"\"\"\n",
    "    dict_paths_departments = {}\n",
    "    for object_summary in bucket_s3.objects.filter(Prefix=directory_key):\n",
    "        name = object_summary.key\n",
    "        if name.endswith(\".CSV\"):\n",
    "            list_paths = name.split(\"/\")\n",
    "            department = list_paths[2].split(\"_\")[1]\n",
    "            if \"MGN\" in list_paths[-1]:\n",
    "                if not(department in dict_paths_departments):\n",
    "                    dict_paths_departments[department] = {}\n",
    "                dict_paths_departments[department].update({\"MGN\": os.path.join(f\"s3a://{bucket_s3.name}\", name)})                \n",
    "            elif \"FALL\" in list_paths[-1]:\n",
    "                if not(department in dict_paths_departments):\n",
    "                    dict_paths_departments[department] = {}\n",
    "                dict_paths_departments[department].update({\"FALL\": os.path.join(f\"s3a://{bucket_s3.name}\", name)})\n",
    "            elif \"HOG\" in list_paths[-1]:\n",
    "                if not(department in dict_paths_departments):\n",
    "                    dict_paths_departments[department] = {}\n",
    "                dict_paths_departments[department].update({\"HOG\": os.path.join(f\"s3a://{bucket_s3.name}\", name)})\n",
    "            elif \"VIV\" in list_paths[-1]:\n",
    "                if not(department in dict_paths_departments):\n",
    "                    dict_paths_departments[department] = {}\n",
    "                dict_paths_departments[department].update({\"VIV\": os.path.join(f\"s3a://{bucket_s3.name}\", name)})\n",
    "            elif \"PER\" in list_paths[-1]:\n",
    "                if not(department in dict_paths_departments):\n",
    "                    dict_paths_departments[department] = {}\n",
    "                dict_paths_departments[department].update({\"PER\": os.path.join(f\"s3a://{bucket_s3.name}\", name)})\n",
    "    return dict_paths_departments"
   ]
  },
  {
   "cell_type": "markdown",
   "metadata": {},
   "source": [
    "## Preprocessing"
   ]
  },
  {
   "cell_type": "code",
   "execution_count": 41,
   "metadata": {},
   "outputs": [
    {
     "data": {
      "application/vnd.jupyter.widget-view+json": {
       "model_id": "84e9c62f883c48ef9bc991d25f0a733a",
       "version_major": 2,
       "version_minor": 0
      },
      "text/plain": [
       "VBox()"
      ]
     },
     "metadata": {},
     "output_type": "display_data"
    },
    {
     "data": {
      "application/vnd.jupyter.widget-view+json": {
       "model_id": "",
       "version_major": 2,
       "version_minor": 0
      },
      "text/plain": [
       "FloatProgress(value=0.0, bar_style='info', description='Progress:', layout=Layout(height='25px', width='50%'),…"
      ]
     },
     "metadata": {},
     "output_type": "display_data"
    }
   ],
   "source": [
    "def add_suffix_to_cols(df, suffix):\n",
    "    for col in df.columns:\n",
    "        df = df.withColumnRenamed(col, col + suffix)\n",
    "    return df\n",
    "\n",
    "def isfloat(value):\n",
    "    try:\n",
    "        float(value)\n",
    "        return True\n",
    "    except ValueError:\n",
    "        return False\n",
    "\n",
    "def add_prefix_to_cols(df, prefix, exclude_cols):\n",
    "    columns_to_prefix = [col for col in df.columns if col not in exclude_cols]\n",
    "    for col in columns_to_prefix:\n",
    "        if col.isdigit():\n",
    "            df = df.withColumnRenamed(col, prefix + col)\n",
    "        elif isfloat(col):\n",
    "            df = df.withColumnRenamed(col, prefix + str(int(float(col))))\n",
    "        else:\n",
    "            df = df.withColumnRenamed(col, prefix + col)\n",
    "    return df\n",
    "\n",
    "def fillna_0(df, exclude_cols):\n",
    "    columns_to_fill = [col for col in df.columns if col not in exclude_cols]\n",
    "    df = df.fillna(0, subset=columns_to_fill)\n",
    "    return df"
   ]
  },
  {
   "cell_type": "markdown",
   "metadata": {},
   "source": [
    "# Inputs"
   ]
  },
  {
   "cell_type": "code",
   "execution_count": 32,
   "metadata": {},
   "outputs": [
    {
     "data": {
      "application/vnd.jupyter.widget-view+json": {
       "model_id": "5e380b2e86734d6f98830ded88d18396",
       "version_major": 2,
       "version_minor": 0
      },
      "text/plain": [
       "VBox()"
      ]
     },
     "metadata": {},
     "output_type": "display_data"
    },
    {
     "data": {
      "application/vnd.jupyter.widget-view+json": {
       "model_id": "",
       "version_major": 2,
       "version_minor": 0
      },
      "text/plain": [
       "FloatProgress(value=0.0, bar_style='info', description='Progress:', layout=Layout(height='25px', width='50%'),…"
      ]
     },
     "metadata": {},
     "output_type": "display_data"
    }
   ],
   "source": [
    "metadata = {\"CENSO\": {\"VIVIENDA\": {\"useful_columns\": ['U_DPTO', 'U_MPIO', 'UA_CLASE', 'U_EDIFICA',\n",
    "                                                      'COD_ENCUESTAS', 'U_VIVIENDA', 'UVA_USO_UNIDAD',\n",
    "                                                      'V_TIPO_VIV', 'V_CON_OCUP', 'V_TOT_HOG',\n",
    "                                                      'V_MAT_PARED', 'V_MAT_PISO', 'VA_EE', 'VA1_ESTRATO', 'VB_ACU', 'VC_ALC',\n",
    "                                                      'VD_GAS', 'VE_RECBAS', 'VE1_QSEM', 'VF_INTERNET', 'V_TIPO_SERSA',\n",
    "                                                      'L_TIPO_INST', 'L_EXISTEHOG', 'L_TOT_PERL']\n",
    "                                   },\n",
    "                      \"HOGAR\": {\"useful_columns\": ['U_DPTO', 'U_MPIO', 'UA_CLASE', 'COD_ENCUESTAS',\n",
    "                                                   'U_VIVIENDA', 'H_NROHOG', 'H_NRO_CUARTOS', 'H_NRO_DORMIT',\n",
    "                                                   'H_DONDE_PREPALIM', 'H_AGUA_COCIN', 'HA_NRO_FALL', 'HA_TOT_PER']},\n",
    "                      \"PERSONAS\": {\"useful_columns\": ['U_DPTO', 'U_MPIO', 'UA_CLASE', 'U_EDIFICA',\n",
    "                                                      'COD_ENCUESTAS', 'U_VIVIENDA', 'P_NROHOG', 'P_NRO_PER', 'P_SEXO',\n",
    "                                                      'P_EDADR', 'P_PARENTESCOR', 'PA_LUG_NAC',\n",
    "                                                      'PA_VIVIA_5ANOS', 'PA_VIVIA_1ANO', 'P_ENFERMO', 'P_QUEHIZO_PPAL',\n",
    "                                                      'PA_LO_ATENDIERON', 'PA1_CALIDAD_SERV', 'CONDICION_FISICA',\n",
    "                                                      'P_ALFABETA', 'PA_ASISTENCIA', 'P_NIVEL_ANOSR', 'P_TRABAJO',\n",
    "                                                      'P_EST_CIVIL', 'PA_HNV', 'PA1_THNV', 'PA2_HNVH', 'PA3_HNVM', 'PA_HNVS',\n",
    "                                                      'PA1_THSV', 'PA2_HSVH', 'PA3_HSVM', 'PA_HFC', 'PA1_THFC', 'PA2_HFCH',\n",
    "                                                      'PA3_HFCM']},\n",
    "                      \"FALLECIDOS\": {\"useful_columns\": ['U_DPTO', 'U_MPIO', 'UA_CLASE', 'COD_ENCUESTAS',\n",
    "                                                        'U_VIVIENDA', 'F_NROHOG', 'FA1_NRO_FALL', 'FA2_SEXO_FALL',\n",
    "                                                        'FA3_EDAD_FALL', 'FA4_CERT_DEFUN']},\n",
    "                      \"GEOREFERENCIACION\": {\"useful_columns\": ['U_DPTO', 'U_MPIO', 'UA_CLASE', 'UA1_LOCALIDAD', 'U_SECT_RUR',\n",
    "                                                               'U_SECC_RUR', 'UA2_CPOB', 'U_SECT_URB', 'U_SECC_URB', 'U_MZA',\n",
    "                                                               'U_EDIFICA', 'COD_ENCUESTAS', 'U_VIVIENDA']},\n",
    "                      \"DIVIPOLA\": {\"useful_columns\": ['cod_depto', 'cod_mpio', 'dpto', 'nom_mpio', 'tipo_municipio']}\n",
    "                      },\n",
    "            }\n",
    "\n",
    "bucket='censo-covid'\n",
    "s3_resource = boto3.resource('s3')\n",
    "bucket_s3 = s3_resource.Bucket(bucket)\n",
    "show = True"
   ]
  },
  {
   "cell_type": "markdown",
   "metadata": {},
   "source": [
    "**Paths**"
   ]
  },
  {
   "cell_type": "code",
   "execution_count": 33,
   "metadata": {},
   "outputs": [
    {
     "data": {
      "application/vnd.jupyter.widget-view+json": {
       "model_id": "159c5fc32c5b40a996a555bb91504fed",
       "version_major": 2,
       "version_minor": 0
      },
      "text/plain": [
       "VBox()"
      ]
     },
     "metadata": {},
     "output_type": "display_data"
    },
    {
     "data": {
      "application/vnd.jupyter.widget-view+json": {
       "model_id": "",
       "version_major": 2,
       "version_minor": 0
      },
      "text/plain": [
       "FloatProgress(value=0.0, bar_style='info', description='Progress:', layout=Layout(height='25px', width='50%'),…"
      ]
     },
     "metadata": {},
     "output_type": "display_data"
    }
   ],
   "source": [
    "censo_covid_bucket_s3 = f\"s3a://{bucket}\"\n",
    "\n",
    "raw_data_path = os.path.join(censo_covid_bucket_s3, \"raw-data\")\n",
    "censo_data_path = os.path.join(raw_data_path, \"censo\")\n",
    "covid_tests_path = os.path.join(raw_data_path, \"covid-tests.csv\")\n",
    "covid_path = os.path.join(raw_data_path, \"covid.csv\")\n",
    "divipola_path = os.path.join(raw_data_path, \"divipola.csv\")\n",
    "\n",
    "dict_paths_departments = get_censo_paths(bucket_s3, directory_key=os.path.join(\"raw-data\", \"censo\"))\n",
    "\n",
    "final_data_path = os.path.join(censo_covid_bucket_s3, \"final-data\")\n",
    "complete_personas_path = os.path.join(final_data_path, \"complete_personas\")\n",
    "complete_fallecidos_path = os.path.join(final_data_path, \"complete_fallecidos\")\n",
    "\n",
    "aggregates_personas_path = os.path.join(final_data_path, \"aggregates_personas\")"
   ]
  },
  {
   "cell_type": "markdown",
   "metadata": {},
   "source": [
    "# Pipeline"
   ]
  },
  {
   "cell_type": "markdown",
   "metadata": {},
   "source": [
    "### Load_data"
   ]
  },
  {
   "cell_type": "code",
   "execution_count": 35,
   "metadata": {},
   "outputs": [
    {
     "data": {
      "application/vnd.jupyter.widget-view+json": {
       "model_id": "a2c6ee06263c4e24932fd26544938589",
       "version_major": 2,
       "version_minor": 0
      },
      "text/plain": [
       "VBox()"
      ]
     },
     "metadata": {},
     "output_type": "display_data"
    },
    {
     "data": {
      "application/vnd.jupyter.widget-view+json": {
       "model_id": "",
       "version_major": 2,
       "version_minor": 0
      },
      "text/plain": [
       "FloatProgress(value=0.0, bar_style='info', description='Progress:', layout=Layout(height='25px', width='50%'),…"
      ]
     },
     "metadata": {},
     "output_type": "display_data"
    },
    {
     "name": "stdout",
     "output_type": "stream",
     "text": [
      "                           0             1             2             3\n",
      "U_DPTO                    11            11            11            11\n",
      "U_MPIO                     1             1             1             1\n",
      "UA_CLASE                   1             1             1             1\n",
      "U_EDIFICA                  1             1             1             1\n",
      "COD_ENCUESTAS          63612         63612         63612         64570\n",
      "...                      ...           ...           ...           ...\n",
      "U_SECC_URB                 3             3             3             3\n",
      "U_MZA                     13            13            13            21\n",
      "nom_mpio        BOGOTÁ. D.C.  BOGOTÁ. D.C.  BOGOTÁ. D.C.  BOGOTÁ. D.C.\n",
      "tipo_municipio     Municipio     Municipio     Municipio     Municipio\n",
      "dpto            BOGOTÁ. D.C.  BOGOTÁ. D.C.  BOGOTÁ. D.C.  BOGOTÁ. D.C.\n",
      "\n",
      "[70 rows x 4 columns]\n",
      "Length:  20386281"
     ]
    }
   ],
   "source": [
    "complete_personas_data = spark.read.option(\"header\", \"true\").csv(complete_personas_path, \n",
    "                                  schema=build_schema_complete(source=\"personas\"))\n",
    "if show:\n",
    "    complete_personas_data.limit(4).toPandas().T\n",
    "    print(\"Length: \", complete_personas_data.count())"
   ]
  },
  {
   "cell_type": "markdown",
   "metadata": {},
   "source": [
    "### Processing"
   ]
  },
  {
   "cell_type": "markdown",
   "metadata": {},
   "source": [
    "**Personas**"
   ]
  },
  {
   "cell_type": "code",
   "execution_count": 48,
   "metadata": {},
   "outputs": [
    {
     "data": {
      "application/vnd.jupyter.widget-view+json": {
       "model_id": "d04814acdafe4f0aa1e9d80b2c530341",
       "version_major": 2,
       "version_minor": 0
      },
      "text/plain": [
       "VBox()"
      ]
     },
     "metadata": {},
     "output_type": "display_data"
    },
    {
     "data": {
      "application/vnd.jupyter.widget-view+json": {
       "model_id": "",
       "version_major": 2,
       "version_minor": 0
      },
      "text/plain": [
       "FloatProgress(value=0.0, bar_style='info', description='Progress:', layout=Layout(height='25px', width='50%'),…"
      ]
     },
     "metadata": {},
     "output_type": "display_data"
    },
    {
     "name": "stdout",
     "output_type": "stream",
     "text": [
      "                          0          1  ...          3             4\n",
      "dpto              ANTIOQUIA  ANTIOQUIA  ...  ATLÁNTICO     ATLÁNTICO\n",
      "nom_mpio              ANDES    BRICEÑO  ...    BARANOA  SABANAGRANDE\n",
      "P_NIVEL_ANOSR_1         595        213  ...       1300           693\n",
      "P_NIVEL_ANOSR_2       16003       2725  ...      15153          7865\n",
      "P_NIVEL_ANOSR_3        6255        875  ...      10200          5590\n",
      "P_NIVEL_ANOSR_4        6223        584  ...      17674          8292\n",
      "P_NIVEL_ANOSR_5         430         30  ...        776           796\n",
      "P_NIVEL_ANOSR_6          76         12  ...        364           258\n",
      "P_NIVEL_ANOSR_7        1300        232  ...       4521          2045\n",
      "P_NIVEL_ANOSR_8        1280        135  ...       3610          1731\n",
      "P_NIVEL_ANOSR_9         273         19  ...        502           263\n",
      "P_NIVEL_ANOSR_10       2873        646  ...       2124          1501\n",
      "P_NIVEL_ANOSR_99        629         31  ...        601           322\n",
      "\n",
      "[13 rows x 5 columns]\n",
      "Length:  374"
     ]
    }
   ],
   "source": [
    "number_of_people_by_education_level = complete_personas_data.groupby(\"dpto\", \"nom_mpio\").pivot(\"P_NIVEL_ANOSR\")\\\n",
    "                                            .agg(F.count(\"P_NIVEL_ANOSR\"))\n",
    "number_of_people_by_education_level = number_of_people_by_education_level.drop(\"null\")\n",
    "number_of_people_by_education_level = add_prefix_to_cols(number_of_people_by_education_level, \n",
    "                                                         prefix=\"P_NIVEL_ANOSR_\",\n",
    "                                                         exclude_cols=[\"dpto\", \"nom_mpio\"])\n",
    "number_of_people_by_education_level = fillna_0(number_of_people_by_education_level, \n",
    "                                               exclude_cols=[\"dpto\", \"nom_mpio\"])\n",
    "if show:\n",
    "    number_of_people_by_education_level.limit(5).toPandas().T\n",
    "    print(\"Length: \", number_of_people_by_education_level.count())"
   ]
  },
  {
   "cell_type": "code",
   "execution_count": 49,
   "metadata": {},
   "outputs": [
    {
     "data": {
      "application/vnd.jupyter.widget-view+json": {
       "model_id": "258e6328ea014e66b390ea5c9a164de8",
       "version_major": 2,
       "version_minor": 0
      },
      "text/plain": [
       "VBox()"
      ]
     },
     "metadata": {},
     "output_type": "display_data"
    },
    {
     "data": {
      "application/vnd.jupyter.widget-view+json": {
       "model_id": "",
       "version_major": 2,
       "version_minor": 0
      },
      "text/plain": [
       "FloatProgress(value=0.0, bar_style='info', description='Progress:', layout=Layout(height='25px', width='50%'),…"
      ]
     },
     "metadata": {},
     "output_type": "display_data"
    },
    {
     "name": "stdout",
     "output_type": "stream",
     "text": [
      "                    0          1          2          3                 4\n",
      "dpto        ANTIOQUIA  ANTIOQUIA  ANTIOQUIA  ANTIOQUIA         ANTIOQUIA\n",
      "nom_mpio        ANDES    BRICEÑO  CONCORDIA      PEQUE  VIGÍA DEL FUERTE\n",
      "P_EDADR_1        2207        444        907        577               897\n",
      "P_EDADR_2        2613        593       1044        630              1054\n",
      "P_EDADR_3        3006        728       1397        735              1081\n",
      "P_EDADR_4        3457        599       1556        770               988\n",
      "P_EDADR_5        3321        511       1242        606               672\n",
      "P_EDADR_6        2873        445       1155        515               587\n",
      "P_EDADR_7        2630        438        981        467               474\n",
      "P_EDADR_8        2689        416       1074        471               408\n",
      "P_EDADR_9        2508        327       1025        410               395\n",
      "P_EDADR_10       2396        301       1057        405               362\n",
      "P_EDADR_11       2345        303       1068        352               261\n",
      "P_EDADR_12       2173        262        941        272               301\n",
      "P_EDADR_13       1950        183        779        233               178\n",
      "P_EDADR_14       1475        141        657        183               129\n",
      "P_EDADR_15       1053         97        468        171                91\n",
      "P_EDADR_16        653         74        356        164               120\n",
      "P_EDADR_17        405         49        212        109                87\n",
      "P_EDADR_18        234         21        127         52                31\n",
      "P_EDADR_19        109         10         38         27                16\n",
      "P_EDADR_20         31          4          9          5                 7\n",
      "P_EDADR_21         16          0          2          1                 0\n",
      "Length:  374"
     ]
    }
   ],
   "source": [
    "number_of_people_by_age = complete_personas_data.groupby(\"dpto\", \"nom_mpio\").pivot(\"P_EDADR\")\\\n",
    "                                            .agg(F.count(\"P_EDADR\"))\n",
    "number_of_people_by_age = number_of_people_by_age.drop(\"null\")\n",
    "number_of_people_by_age = add_prefix_to_cols(number_of_people_by_age, \n",
    "                                             prefix=\"P_EDADR_\",\n",
    "                                             exclude_cols=[\"dpto\", \"nom_mpio\"])\n",
    "number_of_people_by_age = fillna_0(number_of_people_by_age, \n",
    "                                               exclude_cols=[\"dpto\", \"nom_mpio\"])\n",
    "if show:\n",
    "    number_of_people_by_age.limit(5).toPandas().T\n",
    "    print(\"Length: \", number_of_people_by_age.count())"
   ]
  },
  {
   "cell_type": "code",
   "execution_count": 50,
   "metadata": {},
   "outputs": [
    {
     "data": {
      "application/vnd.jupyter.widget-view+json": {
       "model_id": "b823b74985094d409e53c09036f8674d",
       "version_major": 2,
       "version_minor": 0
      },
      "text/plain": [
       "VBox()"
      ]
     },
     "metadata": {},
     "output_type": "display_data"
    },
    {
     "data": {
      "application/vnd.jupyter.widget-view+json": {
       "model_id": "",
       "version_major": 2,
       "version_minor": 0
      },
      "text/plain": [
       "FloatProgress(value=0.0, bar_style='info', description='Progress:', layout=Layout(height='25px', width='50%'),…"
      ]
     },
     "metadata": {},
     "output_type": "display_data"
    },
    {
     "name": "stdout",
     "output_type": "stream",
     "text": [
      "                       0                       1       2          3        4\n",
      "dpto           ANTIOQUIA               ANTIOQUIA  BOYACÁ  ATLÁNTICO   CALDAS\n",
      "nom_mpio       CONCORDIA  SAN JOSÉ DE LA MONTAÑA   CHITA    BARANOA  MARMATO\n",
      "VA1_ESTRATO_0         47                      21      12       1481       42\n",
      "VA1_ESTRATO_1       4044                     708    4727      37572     5081\n",
      "VA1_ESTRATO_2       9631                    2071    1924      17164     3051\n",
      "VA1_ESTRATO_3       2090                     122      18       4254       63\n",
      "VA1_ESTRATO_4        125                      15       0         61       22\n",
      "VA1_ESTRATO_5         15                       5       4         33        1\n",
      "VA1_ESTRATO_6          9                       0       0          4        0\n",
      "VA1_ESTRATO_9          7                       5       4         18        3\n",
      "Length:  374"
     ]
    }
   ],
   "source": [
    "number_of_people_per_estrato = complete_personas_data.groupby(\"dpto\", \"nom_mpio\").pivot(\"VA1_ESTRATO\")\\\n",
    "                                            .agg(F.count(\"VA1_ESTRATO\"))\n",
    "number_of_people_per_estrato = number_of_people_per_estrato.drop(\"null\")\n",
    "number_of_people_per_estrato = add_prefix_to_cols(number_of_people_per_estrato, \n",
    "                                                  prefix=\"VA1_ESTRATO_\",\n",
    "                                                  exclude_cols=[\"dpto\", \"nom_mpio\"])\n",
    "number_of_people_per_estrato = fillna_0(number_of_people_per_estrato, \n",
    "                                        exclude_cols=[\"dpto\", \"nom_mpio\"])\n",
    "if show:\n",
    "    number_of_people_per_estrato.limit(5).toPandas().T\n",
    "    print(\"Length: \", number_of_people_per_estrato.count())"
   ]
  },
  {
   "cell_type": "code",
   "execution_count": 51,
   "metadata": {},
   "outputs": [
    {
     "data": {
      "application/vnd.jupyter.widget-view+json": {
       "model_id": "f98f677fe0c04349a1f303814589095e",
       "version_major": 2,
       "version_minor": 0
      },
      "text/plain": [
       "VBox()"
      ]
     },
     "metadata": {},
     "output_type": "display_data"
    },
    {
     "data": {
      "application/vnd.jupyter.widget-view+json": {
       "model_id": "",
       "version_major": 2,
       "version_minor": 0
      },
      "text/plain": [
       "FloatProgress(value=0.0, bar_style='info', description='Progress:', layout=Layout(height='25px', width='50%'),…"
      ]
     },
     "metadata": {},
     "output_type": "display_data"
    },
    {
     "name": "stdout",
     "output_type": "stream",
     "text": [
      "                                                     0  ...          4\n",
      "dpto                                      BOGOTÁ. D.C.  ...  ATLÁNTICO\n",
      "nom_mpio                                  BOGOTÁ. D.C.  ...    SOLEDAD\n",
      "Number_of_people                               7181469  ...     535984\n",
      "Avg_Number_people_per_home                     3.62483  ...    4.56214\n",
      "Number_of_males                                3433586  ...     260921\n",
      "Number_of_females                              3747883  ...     275063\n",
      "Number_of_people_with_electricity              7132834  ...     533101\n",
      "Number_of_people_without_electricity             16706  ...       2538\n",
      "Number_of_people_with_water_access             7109875  ...     527848\n",
      "Number_of_people_without_water_access            39665  ...       7791\n",
      "Number_of_people_with_internet_access          5498193  ...     270974\n",
      "Number_of_people_without_internet_access       1593575  ...     262953\n",
      "Number_of_literate_people                      6484469  ...     471469\n",
      "Number_of_non_literate_people                   143409  ...      16531\n",
      "Really_Good_health_service                       71965  ...       2453\n",
      "Good_health_service                             390670  ...      13550\n",
      "Bad_health_service                               99635  ...       2418\n",
      "Really_Bad_health_service                        28077  ...        692\n",
      "Number_of_sons_out_of_country                   364988  ...      17216\n",
      "\n",
      "[19 rows x 5 columns]\n",
      "Length:  374"
     ]
    }
   ],
   "source": [
    "aggregates_by_city_personas = complete_personas_data.groupby(\"dpto\", \"nom_mpio\")\\\n",
    "            .agg(F.count(F.col(\"U_MPIO\")).alias(\"Number_of_people\"), \n",
    "                 F.avg(F.col(\"HA_TOT_PER_H\")).alias(\"Avg_Number_people_per_home\"), \n",
    "                 F.sum(F.when(F.col(\"P_SEXO\")==1, 1)).alias(\"Number_of_males\"), \n",
    "                 F.sum(F.when(F.col(\"P_SEXO\")==2, 1)).alias(\"Number_of_females\"), \n",
    "                 F.sum(F.when(F.col(\"VA_EE\")==1, 1)).alias(\"Number_of_people_with_electricity\"),\n",
    "                 F.sum(F.when(F.col(\"VA_EE\")==2, 1)).alias(\"Number_of_people_without_electricity\"),\n",
    "                 F.sum(F.when(F.col(\"VB_ACU\")==1, 1)).alias(\"Number_of_people_with_water_access\"),\n",
    "                 F.sum(F.when(F.col(\"VB_ACU\")==2, 1)).alias(\"Number_of_people_without_water_access\"), \n",
    "                 F.sum(F.when(F.col(\"VF_INTERNET\")==1, 1)).alias(\"Number_of_people_with_internet_access\"), \n",
    "                 F.sum(F.when(F.col(\"VF_INTERNET\")==2, 1)).alias(\"Number_of_people_without_internet_access\"),\n",
    "                 F.sum(F.when(F.col(\"P_ALFABETA\")==1, 1)).alias(\"Number_of_literate_people\"), \n",
    "                 F.sum(F.when(F.col(\"P_ALFABETA\")==2, 1)).alias(\"Number_of_non_literate_people\"),\n",
    "                 F.sum(F.when(F.col(\"PA1_CALIDAD_SERV\")==1, 1)).alias(\"Really_Good_health_service\"),\n",
    "                 F.sum(F.when(F.col(\"PA1_CALIDAD_SERV\")==2, 1)).alias(\"Good_health_service\"),\n",
    "                 F.sum(F.when(F.col(\"PA1_CALIDAD_SERV\")==3, 1)).alias(\"Bad_health_service\"),\n",
    "                 F.sum(F.when(F.col(\"PA1_CALIDAD_SERV\")==4, 1)).alias(\"Really_Bad_health_service\"), \n",
    "                 F.sum(F.col(\"PA1_THFC\")).alias(\"Number_of_sons_out_of_country\"))\\\n",
    "            .orderBy(F.col(\"Number_of_people\").desc())\n",
    "if show:\n",
    "    aggregates_by_city_personas.limit(5).toPandas().T\n",
    "    print(\"Length: \", aggregates_by_city_personas.count())"
   ]
  },
  {
   "cell_type": "code",
   "execution_count": 52,
   "metadata": {},
   "outputs": [
    {
     "data": {
      "application/vnd.jupyter.widget-view+json": {
       "model_id": "c255998353d940048a16f05394f3de3a",
       "version_major": 2,
       "version_minor": 0
      },
      "text/plain": [
       "VBox()"
      ]
     },
     "metadata": {},
     "output_type": "display_data"
    },
    {
     "data": {
      "application/vnd.jupyter.widget-view+json": {
       "model_id": "",
       "version_major": 2,
       "version_minor": 0
      },
      "text/plain": [
       "FloatProgress(value=0.0, bar_style='info', description='Progress:', layout=Layout(height='25px', width='50%'),…"
      ]
     },
     "metadata": {},
     "output_type": "display_data"
    },
    {
     "name": "stdout",
     "output_type": "stream",
     "text": [
      "                                                  0  ...                       4\n",
      "dpto                                      ANTIOQUIA  ...               ANTIOQUIA\n",
      "nom_mpio                                      ANDES  ...  SAN JOSÉ DE LA MONTAÑA\n",
      "Number_of_people                              38144  ...                    2952\n",
      "Avg_Number_people_per_home                  3.88865  ...                 4.05759\n",
      "Number_of_males                               19777  ...                    1424\n",
      "Number_of_females                             18367  ...                    1528\n",
      "Number_of_people_with_electricity             36580  ...                    2947\n",
      "Number_of_people_without_electricity            447  ...                       5\n",
      "Number_of_people_with_water_access            24586  ...                    2265\n",
      "Number_of_people_without_water_access         12441  ...                     687\n",
      "Number_of_people_with_internet_access          7550  ...                     729\n",
      "Number_of_people_without_internet_access      29375  ...                    2218\n",
      "Number_of_literate_people                     31404  ...                    2565\n",
      "Number_of_non_literate_people                  3845  ...                     166\n",
      "Really_Good_health_service                      374  ...                      26\n",
      "Good_health_service                            2188  ...                     131\n",
      "Bad_health_service                              456  ...                      17\n",
      "Really_Bad_health_service                       112  ...                       9\n",
      "Number_of_sons_out_of_country                   447  ...                      98\n",
      "VA1_ESTRATO_0                                   291  ...                      21\n",
      "VA1_ESTRATO_1                                 10015  ...                     708\n",
      "VA1_ESTRATO_2                                 23857  ...                    2071\n",
      "VA1_ESTRATO_3                                  2252  ...                     122\n",
      "VA1_ESTRATO_4                                   105  ...                      15\n",
      "VA1_ESTRATO_5                                    11  ...                       5\n",
      "VA1_ESTRATO_6                                    11  ...                       0\n",
      "VA1_ESTRATO_9                                    38  ...                       5\n",
      "P_NIVEL_ANOSR_1                                 595  ...                      88\n",
      "P_NIVEL_ANOSR_2                               16003  ...                    1143\n",
      "P_NIVEL_ANOSR_3                                6255  ...                     561\n",
      "P_NIVEL_ANOSR_4                                6223  ...                     542\n",
      "P_NIVEL_ANOSR_5                                 430  ...                      50\n",
      "P_NIVEL_ANOSR_6                                  76  ...                      18\n",
      "P_NIVEL_ANOSR_7                                1300  ...                     128\n",
      "P_NIVEL_ANOSR_8                                1280  ...                      66\n",
      "P_NIVEL_ANOSR_9                                 273  ...                      31\n",
      "P_NIVEL_ANOSR_10                               2873  ...                     100\n",
      "P_NIVEL_ANOSR_99                                629  ...                      42\n",
      "P_EDADR_1                                      2207  ...                     183\n",
      "P_EDADR_2                                      2613  ...                     259\n",
      "P_EDADR_3                                      3006  ...                     338\n",
      "P_EDADR_4                                      3457  ...                     321\n",
      "P_EDADR_5                                      3321  ...                     266\n",
      "P_EDADR_6                                      2873  ...                     225\n",
      "P_EDADR_7                                      2630  ...                     206\n",
      "P_EDADR_8                                      2689  ...                     187\n",
      "P_EDADR_9                                      2508  ...                     166\n",
      "P_EDADR_10                                     2396  ...                     164\n",
      "P_EDADR_11                                     2345  ...                     195\n",
      "P_EDADR_12                                     2173  ...                     131\n",
      "P_EDADR_13                                     1950  ...                      98\n",
      "P_EDADR_14                                     1475  ...                      86\n",
      "P_EDADR_15                                     1053  ...                      47\n",
      "P_EDADR_16                                      653  ...                      47\n",
      "P_EDADR_17                                      405  ...                      21\n",
      "P_EDADR_18                                      234  ...                       8\n",
      "P_EDADR_19                                      109  ...                       4\n",
      "P_EDADR_20                                       31  ...                       0\n",
      "P_EDADR_21                                       16  ...                       0\n",
      "\n",
      "[59 rows x 5 columns]\n",
      "Length:  374"
     ]
    }
   ],
   "source": [
    "aggregates_by_city_personas = aggregates_by_city_personas.join(number_of_people_per_estrato,\n",
    "                                                               on=[\"dpto\", \"nom_mpio\"],\n",
    "                                                               how=\"left\")\n",
    "aggregates_by_city_personas = aggregates_by_city_personas.join(number_of_people_by_education_level,\n",
    "                                                               on=[\"dpto\", \"nom_mpio\"],\n",
    "                                                               how=\"left\")\n",
    "aggregates_by_city_personas = aggregates_by_city_personas.join(number_of_people_by_age,\n",
    "                                                               on=[\"dpto\", \"nom_mpio\"],\n",
    "                                                               how=\"left\")\n",
    "if show:\n",
    "    aggregates_by_city_personas.limit(5).toPandas().T\n",
    "    print(\"Length: \", aggregates_by_city_personas.count())"
   ]
  },
  {
   "cell_type": "code",
   "execution_count": 54,
   "metadata": {},
   "outputs": [
    {
     "data": {
      "application/vnd.jupyter.widget-view+json": {
       "model_id": "4b5abcf37b3145c584714571500c91ff",
       "version_major": 2,
       "version_minor": 0
      },
      "text/plain": [
       "VBox()"
      ]
     },
     "metadata": {},
     "output_type": "display_data"
    },
    {
     "data": {
      "application/vnd.jupyter.widget-view+json": {
       "model_id": "",
       "version_major": 2,
       "version_minor": 0
      },
      "text/plain": [
       "FloatProgress(value=0.0, bar_style='info', description='Progress:', layout=Layout(height='25px', width='50%'),…"
      ]
     },
     "metadata": {},
     "output_type": "display_data"
    }
   ],
   "source": [
    "aggregates_by_city_personas.repartition(1).write.partitionBy('dpto')\\\n",
    "    .mode('overwrite').option(\"header\",\"true\").csv(aggregates_personas_path)"
   ]
  },
  {
   "cell_type": "code",
   "execution_count": null,
   "metadata": {},
   "outputs": [],
   "source": []
  }
 ],
 "metadata": {
  "kernelspec": {
   "display_name": "PySpark",
   "language": "",
   "name": "pysparkkernel"
  },
  "language_info": {
   "codemirror_mode": {
    "name": "python",
    "version": 2
   },
   "mimetype": "text/x-python",
   "name": "pyspark",
   "pygments_lexer": "python2"
  }
 },
 "nbformat": 4,
 "nbformat_minor": 4
}
