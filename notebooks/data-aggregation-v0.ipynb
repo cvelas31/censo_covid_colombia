{
 "cells": [
  {
   "cell_type": "markdown",
   "metadata": {},
   "source": [
    "# Data Aggregation\n",
    "\n",
    "# Goal\n",
    "Create a aggregation on both dataset (Census and Covid) and join.\n",
    "\n",
    "# Methodology\n",
    "- Do multiple aggregation on the census data by city\n",
    "- Do multiple aggregation on the covid data.\n",
    "- Join the previous two df.\n",
    "- Save this df to s3.\n",
    "\n",
    "### Aggregations\n",
    "**Personas**\n",
    "- VA_EE: 1 Servicio Electrico. Porcentaje de personas con acceso a energia electrica.\n",
    "- VA1_ESTRATO: [0-6, 9] Porcentaje de personas por estrato\n",
    "- VB_ACU: Servicio de acueducto. Porcentaje de personas con acceso a acueducto.\n",
    "- VF_INTERNET: Servicio de Internet\n",
    "- HA_TO_PER: Promedio de personas por hogar\n",
    "- P_EDADR: [0-4, 5-9, 10-14, 15-19, .. >100] Piramide poblacional por ciudad.\n",
    "- P_ALFABETA: Porcentaje de alfabetismo\n",
    "- PA1_CALIDAD_SERV: Promedio calidad de servicio de salud [1-4 ]\n",
    "- P_NIVEL_ANOSR: Personas por nivel educativo (Porcentaje por nivel) [1-9, 10 Ninguno, 99 No informa, NA]\n",
    "- PA1_THFC: Número de hijos q viven fuera de Colombia\n",
    "\n",
    "**Fallecidos**\n",
    "- FA2_SEXO_FALL: Porcentaje fallecidos hombres\n",
    "- FA3_EDAD_FALL: Edad al morir Promedio de edad al morir (Expectativa de Vida)\n",
    "- FA2_SEXO_FALL&FA3_EDAD_FALL: Expectativa de vida por sexo\n",
    "- VA1_ESTRATO&FA3_EDAD_FALL: Expectativa por Estrato\n",
    "- UA_CLASE&FA3_EDAD_FALL: Expectativa por Clase municipal (1 -Cabecera, 2-Centro poblado, 3-Rural Disperso, 4-Resto Rural)\n",
    "\n",
    "**COVID**\n",
    "- FA2_SEXO_FALL: Porcentaje fallecidos hombres\n",
    "- FA3_EDAD_FALL: Edad al morir Promedio de edad al morir (Expectativa de Vida)\n",
    "- FA2_SEXO_FALL&FA3_EDAD_FALL: Expectativa de vida por sexo\n",
    "- VA1_ESTRATO&FA3_EDAD_FALL: Expectativa por Estrato\n",
    "- UA_CLASE&FA3_EDAD_FALL: Expectativa por Clase municipal (1 -Cabecera, 2-Centro poblado, 3-Rural Disperso, 4-Resto Rural)\n",
    "\n",
    "## Sections\n",
    "1. [**Requirements**](#Requirements)\n",
    "2. [**Functions**](#Functions)\n",
    "3. [**Inputs**](#Inputs)\n",
    "4. [**Pipeline**](#Pipeline)"
   ]
  },
  {
   "cell_type": "markdown",
   "metadata": {},
   "source": [
    "# Requirements"
   ]
  },
  {
   "cell_type": "code",
   "execution_count": 1,
   "metadata": {
    "scrolled": true
   },
   "outputs": [
    {
     "data": {
      "application/vnd.jupyter.widget-view+json": {
       "model_id": "10a37e1442764a01a21feb2b193ee2b3",
       "version_major": 2,
       "version_minor": 0
      },
      "text/plain": [
       "VBox()"
      ]
     },
     "metadata": {},
     "output_type": "display_data"
    },
    {
     "name": "stdout",
     "output_type": "stream",
     "text": [
      "Starting Spark application\n"
     ]
    },
    {
     "data": {
      "text/html": [
       "<table>\n",
       "<tr><th>ID</th><th>YARN Application ID</th><th>Kind</th><th>State</th><th>Spark UI</th><th>Driver log</th><th>Current session?</th></tr><tr><td>2</td><td>application_1594932747078_0003</td><td>pyspark</td><td>idle</td><td><a target=\"_blank\" href=\"http://ip-172-31-48-142.us-west-2.compute.internal:20888/proxy/application_1594932747078_0003/\">Link</a></td><td><a target=\"_blank\" href=\"http://ip-172-31-53-136.us-west-2.compute.internal:8042/node/containerlogs/container_1594932747078_0003_01_000001/livy\">Link</a></td><td>✔</td></tr></table>"
      ],
      "text/plain": [
       "<IPython.core.display.HTML object>"
      ]
     },
     "metadata": {},
     "output_type": "display_data"
    },
    {
     "data": {
      "application/vnd.jupyter.widget-view+json": {
       "model_id": "7b687743b1d74bdfb8f924be7359f478",
       "version_major": 2,
       "version_minor": 0
      },
      "text/plain": [
       "FloatProgress(value=0.0, bar_style='info', description='Progress:', layout=Layout(height='25px', width='50%'),…"
      ]
     },
     "metadata": {},
     "output_type": "display_data"
    },
    {
     "name": "stdout",
     "output_type": "stream",
     "text": [
      "SparkSession available as 'spark'.\n"
     ]
    },
    {
     "data": {
      "application/vnd.jupyter.widget-view+json": {
       "model_id": "20360aada08a451ca871ccf93c3553cd",
       "version_major": 2,
       "version_minor": 0
      },
      "text/plain": [
       "FloatProgress(value=0.0, bar_style='info', description='Progress:', layout=Layout(height='25px', width='50%'),…"
      ]
     },
     "metadata": {},
     "output_type": "display_data"
    },
    {
     "name": "stdout",
     "output_type": "stream",
     "text": [
      "Collecting pandas\n",
      "  Using cached https://files.pythonhosted.org/packages/af/f3/683bf2547a3eaeec15b39cef86f61e921b3b187f250fcd2b5c5fb4386369/pandas-1.0.5-cp37-cp37m-manylinux1_x86_64.whl\n",
      "Requirement already satisfied: pytz>=2017.2 in /usr/local/lib/python3.7/site-packages (from pandas)\n",
      "Requirement already satisfied: numpy>=1.13.3 in /usr/local/lib64/python3.7/site-packages (from pandas)\n",
      "Collecting python-dateutil>=2.6.1 (from pandas)\n",
      "  Using cached https://files.pythonhosted.org/packages/d4/70/d60450c3dd48ef87586924207ae8907090de0b306af2bce5d134d78615cb/python_dateutil-2.8.1-py2.py3-none-any.whl\n",
      "Requirement already satisfied: six>=1.5 in /usr/local/lib/python3.7/site-packages (from python-dateutil>=2.6.1->pandas)\n",
      "Installing collected packages: python-dateutil, pandas\n",
      "Successfully installed pandas-1.0.5 python-dateutil-2.8.1\n",
      "\n",
      "Collecting boto3\n",
      "Requirement already satisfied: jmespath<1.0.0,>=0.7.1 in /usr/local/lib/python3.7/site-packages (from boto3)\n",
      "Collecting botocore<1.18.0,>=1.17.22 (from boto3)\n",
      "  Using cached https://files.pythonhosted.org/packages/31/f5/e7bc1a13d038b812d1e1dc55b9cb19f6ac86dbc376eb0cd50df5c991ef46/botocore-1.17.22-py2.py3-none-any.whl\n",
      "Collecting s3transfer<0.4.0,>=0.3.0 (from boto3)\n",
      "  Using cached https://files.pythonhosted.org/packages/69/79/e6afb3d8b0b4e96cefbdc690f741d7dd24547ff1f94240c997a26fa908d3/s3transfer-0.3.3-py2.py3-none-any.whl\n",
      "Collecting urllib3<1.26,>=1.20; python_version != \"3.4\" (from botocore<1.18.0,>=1.17.22->boto3)\n",
      "  Using cached https://files.pythonhosted.org/packages/e1/e5/df302e8017440f111c11cc41a6b432838672f5a70aa29227bf58149dc72f/urllib3-1.25.9-py2.py3-none-any.whl\n",
      "Requirement already satisfied: python-dateutil<3.0.0,>=2.1 in /mnt/tmp/1594937007536-0/lib/python3.7/site-packages (from botocore<1.18.0,>=1.17.22->boto3)\n",
      "Collecting docutils<0.16,>=0.10 (from botocore<1.18.0,>=1.17.22->boto3)\n",
      "  Using cached https://files.pythonhosted.org/packages/22/cd/a6aa959dca619918ccb55023b4cb151949c64d4d5d55b3f4ffd7eee0c6e8/docutils-0.15.2-py3-none-any.whl\n",
      "Requirement already satisfied: six>=1.5 in /usr/local/lib/python3.7/site-packages (from python-dateutil<3.0.0,>=2.1->botocore<1.18.0,>=1.17.22->boto3)\n",
      "Installing collected packages: urllib3, docutils, botocore, s3transfer, boto3\n",
      "Successfully installed boto3-1.14.22 botocore-1.17.22 docutils-0.15.2 s3transfer-0.3.3 urllib3-1.25.9"
     ]
    }
   ],
   "source": [
    "#installing packages\n",
    "sc.install_pypi_package(\"pandas\")\n",
    "sc.install_pypi_package(\"boto3\")\n",
    "sc.setCheckpointDir('hdfs:///covid')"
   ]
  },
  {
   "cell_type": "code",
   "execution_count": 2,
   "metadata": {},
   "outputs": [
    {
     "data": {
      "application/vnd.jupyter.widget-view+json": {
       "model_id": "8e1f8acce5ff473189c14685506b2aa0",
       "version_major": 2,
       "version_minor": 0
      },
      "text/plain": [
       "VBox()"
      ]
     },
     "metadata": {},
     "output_type": "display_data"
    },
    {
     "data": {
      "application/vnd.jupyter.widget-view+json": {
       "model_id": "c8f59f1add404f92a5bbc5880483a3cb",
       "version_major": 2,
       "version_minor": 0
      },
      "text/plain": [
       "FloatProgress(value=0.0, bar_style='info', description='Progress:', layout=Layout(height='25px', width='50%'),…"
      ]
     },
     "metadata": {},
     "output_type": "display_data"
    },
    {
     "name": "stdout",
     "output_type": "stream",
     "text": [
      "2048M\n",
      "20"
     ]
    }
   ],
   "source": [
    "import time\n",
    "import os\n",
    "import boto3\n",
    "import gc\n",
    "import sys\n",
    "import numpy as np\n",
    "import pandas as pd\n",
    "import pickle\n",
    "import pyspark\n",
    "from pyspark.sql import SparkSession\n",
    "from pyspark.sql.types import (FloatType, DateType, StructType, StructField, StringType, LongType, \n",
    "    IntegerType, ArrayType, BooleanType, DoubleType)\n",
    "from pyspark.sql import functions as F\n",
    "from pyspark.sql.window import Window\n",
    "from pyspark.ml.feature import VectorAssembler, StandardScaler, QuantileDiscretizer\n",
    "gc.enable()\n",
    "\n",
    "spark = SparkSession.builder.config(\"spark.sql.shuffle.partitions\", 20).appName(\"covid\").getOrCreate()\n",
    "print(spark.sparkContext.getConf().get('spark.driver.memory'))\n",
    "print(spark.sparkContext.getConf().get(\"spark.sql.shuffle.partitions\"))"
   ]
  },
  {
   "cell_type": "markdown",
   "metadata": {},
   "source": [
    "# Functions"
   ]
  },
  {
   "cell_type": "markdown",
   "metadata": {},
   "source": [
    "## Loading data"
   ]
  },
  {
   "cell_type": "code",
   "execution_count": 3,
   "metadata": {},
   "outputs": [
    {
     "data": {
      "application/vnd.jupyter.widget-view+json": {
       "model_id": "79138d23060448cfbebe35fa39d479bd",
       "version_major": 2,
       "version_minor": 0
      },
      "text/plain": [
       "VBox()"
      ]
     },
     "metadata": {},
     "output_type": "display_data"
    },
    {
     "data": {
      "application/vnd.jupyter.widget-view+json": {
       "model_id": "f1596928796642ec9701cdf5e3b33cea",
       "version_major": 2,
       "version_minor": 0
      },
      "text/plain": [
       "FloatProgress(value=0.0, bar_style='info', description='Progress:', layout=Layout(height='25px', width='50%'),…"
      ]
     },
     "metadata": {},
     "output_type": "display_data"
    }
   ],
   "source": [
    "def build_schema_census(source=\"vivienda\"):\n",
    "    \"\"\"\n",
    "    Build schema for different sources\n",
    "\n",
    "    Parameters:\n",
    "    -----------\n",
    "    source : str\n",
    "        Table source may be: \"VIV\", \"PER\", \"HOG\", \"FALL\", \"MGN\"\n",
    "\n",
    "    Return:\n",
    "    -------\n",
    "    schema : spark.schema\n",
    "        Spark schema for loading source table\n",
    "    \"\"\"\n",
    "    if source == \"VIV\":\n",
    "        schema = StructType([StructField(\"TIPO_REG\", IntegerType()),\n",
    "                             StructField(\"U_DPTO\", IntegerType()),\n",
    "                             StructField(\"U_MPIO\", IntegerType()),\n",
    "                             StructField(\"UA_CLASE\", IntegerType()),\n",
    "                             StructField(\"U_EDIFICA\", IntegerType()),\n",
    "                             StructField(\"COD_ENCUESTAS\", IntegerType()),\n",
    "                             StructField(\"U_VIVIENDA\", IntegerType()),\n",
    "                             StructField(\"UVA_ESTATER\", IntegerType()),\n",
    "                             StructField(\"UVA1_TIPOTER\", DoubleType()),\n",
    "                             StructField(\"UVA2_CODTER\", DoubleType()),\n",
    "                             StructField(\"UVA_ESTA_AREAPROT\", IntegerType()),\n",
    "                             StructField(\"UVA1_COD_AREAPROT\", DoubleType()),\n",
    "                             StructField(\"UVA_USO_UNIDAD\", IntegerType()),\n",
    "                             StructField(\"V_TIPO_VIV\", DoubleType()),\n",
    "                             StructField(\"V_CON_OCUP\", DoubleType()),\n",
    "                             StructField(\"V_TOT_HOG\", DoubleType()),\n",
    "                             StructField(\"V_MAT_PARED\", DoubleType()),\n",
    "                             StructField(\"V_MAT_PISO\", DoubleType()),\n",
    "                             StructField(\"VA_EE\", DoubleType()),\n",
    "                             StructField(\"VA1_ESTRATO\", DoubleType()),\n",
    "                             StructField(\"VB_ACU\", DoubleType()),\n",
    "                             StructField(\"VC_ALC\", DoubleType()),\n",
    "                             StructField(\"VD_GAS\", DoubleType()),\n",
    "                             StructField(\"VE_RECBAS\", DoubleType()),\n",
    "                             StructField(\"VE1_QSEM\", DoubleType()),\n",
    "                             StructField(\"VF_INTERNET\", DoubleType()),\n",
    "                             StructField(\"V_TIPO_SERSA\", DoubleType()),\n",
    "                             StructField(\"L_TIPO_INST\", DoubleType()),\n",
    "                             StructField(\"L_EXISTEHOG\", DoubleType()),\n",
    "                             StructField(\"L_TOT_PERL\", DoubleType())\n",
    "                             ])\n",
    "    elif source == \"HOG\":\n",
    "        schema = StructType([StructField(\"TIPO_REG\", IntegerType()),\n",
    "                             StructField(\"U_DPTO\", IntegerType()),\n",
    "                             StructField(\"U_MPIO\", IntegerType()),\n",
    "                             StructField(\"UA_CLASE\", IntegerType()),\n",
    "                             StructField(\"COD_ENCUESTAS\", IntegerType()),\n",
    "                             StructField(\"U_VIVIENDA\", IntegerType()),\n",
    "                             StructField(\"H_NROHOG\", DoubleType()),\n",
    "                             StructField(\"H_NRO_CUARTOS\", DoubleType()),\n",
    "                             StructField(\"H_NRO_DORMIT\", DoubleType()),\n",
    "                             StructField(\"H_DONDE_PREPALIM\", DoubleType()),\n",
    "                             StructField(\"H_AGUA_COCIN\", DoubleType()),\n",
    "                             StructField(\"HA_NRO_FALL\", DoubleType()),\n",
    "                             StructField(\"HA_TOT_PER\", DoubleType())\n",
    "                             ])\n",
    "    elif source == \"PER\":\n",
    "        schema = StructType([StructField(\"TIPO_REG\", IntegerType()),\n",
    "                             StructField(\"U_DPTO\", IntegerType()),\n",
    "                             StructField(\"U_MPIO\", IntegerType()),\n",
    "                             StructField(\"UA_CLASE\", IntegerType()),\n",
    "                             StructField(\"U_EDIFICA\", IntegerType()),\n",
    "                             StructField(\"COD_ENCUESTAS\", IntegerType()),\n",
    "                             StructField(\"U_VIVIENDA\", IntegerType()),\n",
    "                             StructField(\"P_NROHOG\", DoubleType()),\n",
    "                             StructField(\"P_NRO_PER\", IntegerType()),\n",
    "                             StructField(\"P_SEXO\", IntegerType()),\n",
    "                             StructField(\"P_EDADR\", IntegerType()),\n",
    "                             StructField(\"P_PARENTESCOR\", DoubleType()),\n",
    "                             StructField(\"PA1_GRP_ETNIC\", IntegerType()),\n",
    "                             StructField(\"PA11_COD_ETNIA\", DoubleType()),\n",
    "                             StructField(\"PA12_CLAN\", DoubleType()),\n",
    "                             StructField(\"PA21_COD_VITSA\", DoubleType()),\n",
    "                             StructField(\"PA22_COD_KUMPA\", DoubleType()),\n",
    "                             StructField(\"PA_HABLA_LENG\", DoubleType()),\n",
    "                             StructField(\"PA1_ENTIENDE\", DoubleType()),\n",
    "                             StructField(\"PB_OTRAS_LENG\", DoubleType()),\n",
    "                             StructField(\"PB1_QOTRAS_LENG\", DoubleType()),\n",
    "                             StructField(\"PA_LUG_NAC\", IntegerType()),\n",
    "                             StructField(\"PA_VIVIA_5ANOS\", DoubleType()),\n",
    "                             StructField(\"PA_VIVIA_1ANO\", DoubleType()),\n",
    "                             StructField(\"P_ENFERMO\", DoubleType()),\n",
    "                             StructField(\"P_QUEHIZO_PPAL\", DoubleType()),\n",
    "                             StructField(\"PA_LO_ATENDIERON\", DoubleType()),\n",
    "                             StructField(\"PA1_CALIDAD_SERV\", DoubleType()),\n",
    "                             StructField(\"CONDICION_FISICA\", DoubleType()),\n",
    "                             StructField(\"P_ALFABETA\", DoubleType()),\n",
    "                             StructField(\"PA_ASISTENCIA\", DoubleType()),\n",
    "                             StructField(\"P_NIVEL_ANOSR\", DoubleType()),\n",
    "                             StructField(\"P_TRABAJO\", DoubleType()),\n",
    "                             StructField(\"P_EST_CIVIL\", DoubleType()),\n",
    "                             StructField(\"PA_HNV\", DoubleType()),\n",
    "                             StructField(\"PA1_THNV\", DoubleType()),\n",
    "                             StructField(\"PA2_HNVH\", DoubleType()),\n",
    "                             StructField(\"PA3_HNVM\", DoubleType()),\n",
    "                             StructField(\"PA_HNVS\", DoubleType()),\n",
    "                             StructField(\"PA1_THSV\", DoubleType()),\n",
    "                             StructField(\"PA2_HSVH\", DoubleType()),\n",
    "                             StructField(\"PA3_HSVM\", DoubleType()),\n",
    "                             StructField(\"PA_HFC\", DoubleType()),\n",
    "                             StructField(\"PA1_THFC\", DoubleType()),\n",
    "                             StructField(\"PA2_HFCH\", DoubleType()),\n",
    "                             StructField(\"PA3_HFCM\", DoubleType()),\n",
    "                             StructField(\"PA_UHNV\", DoubleType()),\n",
    "                             StructField(\"PA1_MES_UHNV\", DoubleType()),\n",
    "                             StructField(\"PA2_ANO_UHNV\", DoubleType())\n",
    "                             ])\n",
    "    elif source == \"FALL\":\n",
    "        schema = StructType([StructField(\"TIPO_REG\", IntegerType()),\n",
    "                             StructField(\"U_DPTO\", IntegerType()),\n",
    "                             StructField(\"U_MPIO\", IntegerType()),\n",
    "                             StructField(\"UA_CLASE\", IntegerType()),\n",
    "                             StructField(\"COD_ENCUESTAS\", IntegerType()),\n",
    "                             StructField(\"U_VIVIENDA\", IntegerType()),\n",
    "                             StructField(\"F_NROHOG\", IntegerType()),\n",
    "                             StructField(\"FA1_NRO_FALL\", IntegerType()),\n",
    "                             StructField(\"FA2_SEXO_FALL\", IntegerType()),\n",
    "                             StructField(\"FA3_EDAD_FALL\", IntegerType()),\n",
    "                             StructField(\"FA4_CERT_DEFUN\", IntegerType())\n",
    "                             ])\n",
    "    elif source == \"MGN\":\n",
    "        schema = StructType([StructField(\"U_DPTO\", IntegerType()),\n",
    "                             StructField(\"U_MPIO\", IntegerType()),\n",
    "                             StructField(\"UA_CLASE\", IntegerType()),\n",
    "                             StructField(\"UA1_LOCALIDAD\", IntegerType()),\n",
    "                             StructField(\"U_SECT_RUR\", IntegerType()),\n",
    "                             StructField(\"U_SECC_RUR\", IntegerType()),\n",
    "                             StructField(\"UA2_CPOB\", IntegerType()),\n",
    "                             StructField(\"U_SECT_URB\", IntegerType()),\n",
    "                             StructField(\"U_SECC_URB\", IntegerType()),\n",
    "                             StructField(\"U_MZA\", IntegerType()),\n",
    "                             StructField(\"U_EDIFICA\", IntegerType()),\n",
    "                             StructField(\"COD_ENCUESTAS\", IntegerType()),\n",
    "                             StructField(\"U_VIVIENDA\", IntegerType())\n",
    "                             ])\n",
    "    else:\n",
    "        print(\"Source not valid. Enter one of the following sources: VIV, PER, HOG, FALL, MGN\")\n",
    "    return schema\n",
    "\n",
    "\n",
    "def build_schema_covid(source=\"covid\"):\n",
    "    \"\"\"\n",
    "    Build schema for different covid sources\n",
    "\n",
    "    Parameters:\n",
    "    -----------\n",
    "    source : str\n",
    "        Table source may be: \"covid\", \"tests\"\n",
    "\n",
    "    Return:\n",
    "    -------\n",
    "    schema : spark.schema\n",
    "        Spark schema for loading source table\n",
    "    \"\"\"\n",
    "    if source == \"covid\":\n",
    "        schema = StructType([StructField(\"fecha_de_notificaci_n\", DateType()),\n",
    "                             StructField(\"c_digo_divipola\", StringType()),\n",
    "                             StructField(\"ciudad_de_ubicaci_n\", StringType()),\n",
    "                             StructField(\"departamento\", StringType()),\n",
    "                             StructField(\"atenci_n\", StringType()),\n",
    "                             StructField(\"edad\", IntegerType()),\n",
    "                             StructField(\"sexo\", StringType()),\n",
    "                             StructField(\"tipo\", StringType()),\n",
    "                             StructField(\"estado\", StringType()),\n",
    "                             StructField(\"pa_s_de_procedencia\", StringType()),\n",
    "                             StructField(\"fis\", DateType()),\n",
    "                             StructField(\"fecha_diagnostico\", DateType()),\n",
    "                             StructField(\"fecha_recuperado\", DateType()),\n",
    "                             StructField(\"fecha_reporte_web\", DateType()),\n",
    "                             StructField(\"tipo_recuperaci_n\", StringType()),\n",
    "                             StructField(\"codigo_departamento\", StringType()),\n",
    "                             StructField(\"codigo_pais\", StringType()),\n",
    "                             StructField(\"pertenencia_etnica\", StringType()),\n",
    "                             StructField(\"nombre_grupo_etnico\", StringType()),\n",
    "                             StructField(\"fecha_de_muerte\", DateType()),\n",
    "                             StructField(\"Asintomatico\", IntegerType()),\n",
    "                             StructField(\"divipola_dpto\", IntegerType()),\n",
    "                             StructField(\"divipola_mpio\", IntegerType()),\n",
    "                             StructField(\"edad_q\", IntegerType()),\n",
    "                             StructField(\"muerto\", BooleanType()),\n",
    "                             StructField(\"edad_muerto\", IntegerType()),\n",
    "                             ])\n",
    "    elif source == \"tests\":\n",
    "        schema = StructType([StructField(\"fecha\", DateType()),\n",
    "                             StructField(\"acumuladas\", DoubleType()),\n",
    "                             StructField(\"amazonas\", DoubleType()),\n",
    "                             StructField(\"antioquia\", DoubleType()),\n",
    "                             StructField(\"arauca\", DoubleType()),\n",
    "                             StructField(\"atlantico\", DoubleType()),\n",
    "                             StructField(\"bogota\", DoubleType()),\n",
    "                             StructField(\"bolivar\", DoubleType()),\n",
    "                             StructField(\"boyaca\", DoubleType()),\n",
    "                             StructField(\"caldas\", DoubleType()),\n",
    "                             StructField(\"caqueta\", DoubleType()),\n",
    "                             StructField(\"casanare\", DoubleType()),\n",
    "                             StructField(\"cauca\", DoubleType()),\n",
    "                             StructField(\"cesar\", DoubleType()),\n",
    "                             StructField(\"choco\", DoubleType()),\n",
    "                             StructField(\"cordoba\", DoubleType()),\n",
    "                             StructField(\"cundinamarca\", DoubleType()),\n",
    "                             StructField(\"guainia\", DoubleType()),\n",
    "                             StructField(\"guajira\", DoubleType()),\n",
    "                             StructField(\"guaviare\", DoubleType()),\n",
    "                             StructField(\"huila\", DoubleType()),\n",
    "                             StructField(\"magdalena\", DoubleType()),\n",
    "                             StructField(\"meta\", DoubleType()),\n",
    "                             StructField(\"narino\", DoubleType()),\n",
    "                             StructField(\"norte_de_santander\", DoubleType()),\n",
    "                             StructField(\"putumayo\", DoubleType()),\n",
    "                             StructField(\"quindio\", DoubleType()),\n",
    "                             StructField(\"risaralda\", DoubleType()),\n",
    "                             StructField(\"san_andres\", DoubleType()),\n",
    "                             StructField(\"santander\", DoubleType()),\n",
    "                             StructField(\"sucre\", DoubleType()),\n",
    "                             StructField(\"tolima\", DoubleType()),\n",
    "                             StructField(\"valle_del_cauca\", DoubleType()),\n",
    "                             StructField(\"vaupes\", DoubleType()),\n",
    "                             StructField(\"vichada\", DoubleType()),\n",
    "                             StructField(\"procedencia_desconocida\", DoubleType()),\n",
    "                             StructField(\"positivas_acumuladas\", DoubleType()),\n",
    "                             StructField(\"negativas_acumuladas\", DoubleType()),\n",
    "                             StructField(\"positividad_acumulada\", DoubleType()),\n",
    "                             StructField(\"indeterminadas\", DoubleType()),\n",
    "                             StructField(\"barranquilla\", DoubleType()),\n",
    "                             StructField(\"cartagena\", DoubleType()),\n",
    "                             StructField(\"santa_marta\", DoubleType())\n",
    "                             ])\n",
    "    else:\n",
    "        print(\"Source not valid. Enter one of the following sources: 'covid', 'tests'\")\n",
    "    return schema\n",
    "              \n",
    "def build_schema_divipola(source=\"divipola\"):\n",
    "    \"\"\"\n",
    "    Build schema for different covid sources\n",
    "\n",
    "    Parameters:\n",
    "    -----------\n",
    "    source : str\n",
    "        Table source may be: \"covid\", \"tests\"\n",
    "\n",
    "    Return:\n",
    "    -------\n",
    "    schema : spark.schema\n",
    "        Spark schema for loading source table\n",
    "    \"\"\"\n",
    "    if source == \"divipola\":\n",
    "        schema = StructType([StructField(\"cod_depto\", IntegerType()),\n",
    "                             StructField(\"cod_mpio\", IntegerType()),\n",
    "                             StructField(\"dpto\", StringType()),\n",
    "                             StructField(\"nom_mpio\", StringType()),\n",
    "                             StructField(\"tipo_municipio\", StringType())\n",
    "                             ])\n",
    "    else:\n",
    "        print(\"Source not valid. Enter one of the following sources: 'covid', 'tests'\")\n",
    "    return schema\n",
    "\n",
    "def build_schema_complete(source=\"vivienda\"):\n",
    "    \"\"\"\n",
    "    Build schema for different sources\n",
    "\n",
    "    Parameters:\n",
    "    -----------\n",
    "    source : str\n",
    "        Table source may be: \"VIV\", \"PER\", \"HOG\", \"FALL\", \"MGN\"\n",
    "\n",
    "    Return:\n",
    "    -------\n",
    "    schema : spark.schema\n",
    "        Spark schema for loading source table\n",
    "    \"\"\"\n",
    "    if source == \"fallecidos\":\n",
    "        schema = StructType([StructField(\"U_DPTO\", IntegerType()),\n",
    "                             StructField(\"U_MPIO\", IntegerType()),\n",
    "                             StructField(\"UA_CLASE\", IntegerType()),\n",
    "                             StructField(\"U_EDIFICA\", IntegerType()),\n",
    "                             StructField(\"COD_ENCUESTAS\", IntegerType()),\n",
    "                             StructField(\"U_VIVIENDA\", IntegerType()),\n",
    "                             StructField(\"F_NROHOG\", IntegerType()),\n",
    "                             StructField(\"FA1_NRO_FALL\", IntegerType()),\n",
    "                             StructField(\"FA2_SEXO_FALL\", IntegerType()),\n",
    "                             StructField(\"FA3_EDAD_FALL\", IntegerType()),\n",
    "                             StructField(\"FA4_CERT_DEFUN\", IntegerType()),\n",
    "                             StructField(\"UVA_USO_UNIDAD\", IntegerType()),\n",
    "                             StructField(\"V_TIPO_VIV\", DoubleType()),\n",
    "                             StructField(\"V_CON_OCUP\", DoubleType()),\n",
    "                             StructField(\"V_TOT_HOG\", DoubleType()),\n",
    "                             StructField(\"V_MAT_PARED\", DoubleType()),\n",
    "                             StructField(\"V_MAT_PISO\", DoubleType()),\n",
    "                             StructField(\"VA_EE\", DoubleType()),\n",
    "                             StructField(\"VA1_ESTRATO\", DoubleType()),\n",
    "                             StructField(\"VB_ACU\", DoubleType()),\n",
    "                             StructField(\"VC_ALC\", DoubleType()),\n",
    "                             StructField(\"VD_GAS\", DoubleType()),\n",
    "                             StructField(\"VE_RECBAS\", DoubleType()),\n",
    "                             StructField(\"VE1_QSEM\", DoubleType()),\n",
    "                             StructField(\"VF_INTERNET\", DoubleType()),\n",
    "                             StructField(\"V_TIPO_SERSA\", DoubleType()),\n",
    "                             StructField(\"L_TIPO_INST\", DoubleType()),\n",
    "                             StructField(\"L_EXISTEHOG\", DoubleType()),\n",
    "                             StructField(\"L_TOT_PERL\", DoubleType()),\n",
    "                             StructField(\"H_NRO_CUARTOS_H\", DoubleType()),\n",
    "                             StructField(\"H_NRO_DORMIT_H\", DoubleType()),\n",
    "                             StructField(\"H_DONDE_PREPALIM_H\", DoubleType()),\n",
    "                             StructField(\"H_AGUA_COCIN_H\", DoubleType()),\n",
    "                             StructField(\"HA_NRO_FALL_H\", DoubleType()),\n",
    "                             StructField(\"HA_TOT_PER_H\", DoubleType()),\n",
    "                             StructField(\"UA1_LOCALIDAD\", IntegerType()),\n",
    "                             StructField(\"U_SECT_RUR\", IntegerType()),\n",
    "                             StructField(\"U_SECC_RUR\", IntegerType()),\n",
    "                             StructField(\"UA2_CPOB\", IntegerType()),\n",
    "                             StructField(\"U_SECT_URB\", IntegerType()),\n",
    "                             StructField(\"U_SECC_URB\", IntegerType()),\n",
    "                             StructField(\"U_MZA\", IntegerType()),\n",
    "                             StructField(\"dpto\", StringType()),\n",
    "                             StructField(\"nom_mpio\", StringType()),\n",
    "                             StructField(\"tipo_municipio\", StringType())])\n",
    "    elif source == \"personas\":\n",
    "        schema = StructType([StructField(\"U_DPTO\", IntegerType()),\n",
    "                             StructField(\"U_MPIO\", IntegerType()),\n",
    "                             StructField(\"UA_CLASE\", IntegerType()),\n",
    "                             StructField(\"U_EDIFICA\", IntegerType()),\n",
    "                             StructField(\"COD_ENCUESTAS\", IntegerType()),\n",
    "                             StructField(\"U_VIVIENDA\", IntegerType()),\n",
    "                             StructField(\"P_NROHOG\", IntegerType()),\n",
    "                             StructField(\"P_NRO_PER\", IntegerType()),\n",
    "                             StructField(\"P_SEXO\", IntegerType()),\n",
    "                             StructField(\"P_EDADR\", IntegerType()),\n",
    "                             StructField(\"P_PARENTESCOR\", DoubleType()),\n",
    "                             StructField(\"PA_LUG_NAC\", IntegerType()),\n",
    "                             StructField(\"PA_VIVIA_5ANOS\", DoubleType()),\n",
    "                             StructField(\"PA_VIVIA_1ANO\", DoubleType()),\n",
    "                             StructField(\"P_ENFERMO\", DoubleType()),\n",
    "                             StructField(\"P_QUEHIZO_PPAL\", DoubleType()),\n",
    "                             StructField(\"PA_LO_ATENDIERON\", DoubleType()),\n",
    "                             StructField(\"PA1_CALIDAD_SERV\", DoubleType()),\n",
    "                             StructField(\"CONDICION_FISICA\", DoubleType()),\n",
    "                             StructField(\"P_ALFABETA\", DoubleType()),\n",
    "                             StructField(\"PA_ASISTENCIA\", DoubleType()),\n",
    "                             StructField(\"P_NIVEL_ANOSR\", DoubleType()),\n",
    "                             StructField(\"P_TRABAJO\", DoubleType()),\n",
    "                             StructField(\"P_EST_CIVIL\", DoubleType()),\n",
    "                             StructField(\"PA_HNV\", DoubleType()),\n",
    "                             StructField(\"PA1_THNV\", DoubleType()),\n",
    "                             StructField(\"PA2_HNVH\", DoubleType()),\n",
    "                             StructField(\"PA3_HNVM\", DoubleType()),\n",
    "                             StructField(\"PA_HNVS\", DoubleType()),\n",
    "                             StructField(\"PA1_THSV\", DoubleType()),\n",
    "                             StructField(\"PA2_HSVH\", DoubleType()),\n",
    "                             StructField(\"PA3_HSVM\", DoubleType()),\n",
    "                             StructField(\"PA_HFC\", DoubleType()),\n",
    "                             StructField(\"PA1_THFC\", DoubleType()),\n",
    "                             StructField(\"PA2_HFCH\", DoubleType()),\n",
    "                             StructField(\"PA3_HFCM\", DoubleType()),\n",
    "                             StructField(\"UVA_USO_UNIDAD\", IntegerType()),\n",
    "                             StructField(\"V_TIPO_VIV\", DoubleType()),\n",
    "                             StructField(\"V_CON_OCUP\", DoubleType()),\n",
    "                             StructField(\"V_TOT_HOG\", DoubleType()),\n",
    "                             StructField(\"V_MAT_PARED\", DoubleType()),\n",
    "                             StructField(\"V_MAT_PISO\", DoubleType()),\n",
    "                             StructField(\"VA_EE\", DoubleType()),\n",
    "                             StructField(\"VA1_ESTRATO\", DoubleType()),\n",
    "                             StructField(\"VB_ACU\", DoubleType()),\n",
    "                             StructField(\"VC_ALC\", DoubleType()),\n",
    "                             StructField(\"VD_GAS\", DoubleType()),\n",
    "                             StructField(\"VE_RECBAS\", DoubleType()),\n",
    "                             StructField(\"VE1_QSEM\", DoubleType()),\n",
    "                             StructField(\"VF_INTERNET\", DoubleType()),\n",
    "                             StructField(\"V_TIPO_SERSA\", DoubleType()),\n",
    "                             StructField(\"L_TIPO_INST\", DoubleType()),\n",
    "                             StructField(\"L_EXISTEHOG\", DoubleType()),\n",
    "                             StructField(\"L_TOT_PERL\", DoubleType()),\n",
    "                             StructField(\"H_NRO_CUARTOS_H\", DoubleType()),\n",
    "                             StructField(\"H_NRO_DORMIT_H\", DoubleType()),\n",
    "                             StructField(\"H_DONDE_PREPALIM_H\", DoubleType()),\n",
    "                             StructField(\"H_AGUA_COCIN_H\", DoubleType()),\n",
    "                             StructField(\"HA_NRO_FALL_H\", DoubleType()),\n",
    "                             StructField(\"HA_TOT_PER_H\", DoubleType()),\n",
    "                             StructField(\"UA1_LOCALIDAD\", IntegerType()),\n",
    "                             StructField(\"U_SECT_RUR\", IntegerType()),\n",
    "                             StructField(\"U_SECC_RUR\", IntegerType()),\n",
    "                             StructField(\"UA2_CPOB\", IntegerType()),\n",
    "                             StructField(\"U_SECT_URB\", IntegerType()),\n",
    "                             StructField(\"U_SECC_URB\", IntegerType()),\n",
    "                             StructField(\"U_MZA\", IntegerType()),\n",
    "                             StructField(\"dpto\", StringType()),\n",
    "                             StructField(\"nom_mpio\", StringType()),\n",
    "                             StructField(\"tipo_municipio\", StringType())])\n",
    "    else:\n",
    "        print(\"Source not valid. Enter one of the following sources: fallecidos, personas\")\n",
    "    return schema\n",
    "              \n",
    "def get_censo_paths(bucket_s3, directory_key):\n",
    "    \"\"\"\n",
    "    Get dictionary of census data for each department\n",
    "    \n",
    "    Parameters:\n",
    "    -----------\n",
    "    bucket_s3 : s3.Bucket\n",
    "        Boto3 Bucket object\n",
    "    directory_key : path\n",
    "        Directory key in S3\n",
    "    \n",
    "    Return:\n",
    "    -------\n",
    "    dict_paths_departments : dict\n",
    "        Dictionary with the data path for each departtment\n",
    "    \"\"\"\n",
    "    dict_paths_departments = {}\n",
    "    for object_summary in bucket_s3.objects.filter(Prefix=directory_key):\n",
    "        name = object_summary.key\n",
    "        if name.endswith(\".CSV\"):\n",
    "            list_paths = name.split(\"/\")\n",
    "            department = list_paths[2].split(\"_\")[1]\n",
    "            if \"MGN\" in list_paths[-1]:\n",
    "                if not(department in dict_paths_departments):\n",
    "                    dict_paths_departments[department] = {}\n",
    "                dict_paths_departments[department].update({\"MGN\": os.path.join(f\"s3a://{bucket_s3.name}\", name)})                \n",
    "            elif \"FALL\" in list_paths[-1]:\n",
    "                if not(department in dict_paths_departments):\n",
    "                    dict_paths_departments[department] = {}\n",
    "                dict_paths_departments[department].update({\"FALL\": os.path.join(f\"s3a://{bucket_s3.name}\", name)})\n",
    "            elif \"HOG\" in list_paths[-1]:\n",
    "                if not(department in dict_paths_departments):\n",
    "                    dict_paths_departments[department] = {}\n",
    "                dict_paths_departments[department].update({\"HOG\": os.path.join(f\"s3a://{bucket_s3.name}\", name)})\n",
    "            elif \"VIV\" in list_paths[-1]:\n",
    "                if not(department in dict_paths_departments):\n",
    "                    dict_paths_departments[department] = {}\n",
    "                dict_paths_departments[department].update({\"VIV\": os.path.join(f\"s3a://{bucket_s3.name}\", name)})\n",
    "            elif \"PER\" in list_paths[-1]:\n",
    "                if not(department in dict_paths_departments):\n",
    "                    dict_paths_departments[department] = {}\n",
    "                dict_paths_departments[department].update({\"PER\": os.path.join(f\"s3a://{bucket_s3.name}\", name)})\n",
    "    return dict_paths_departments"
   ]
  },
  {
   "cell_type": "markdown",
   "metadata": {},
   "source": [
    "## Preprocessing"
   ]
  },
  {
   "cell_type": "code",
   "execution_count": 4,
   "metadata": {},
   "outputs": [
    {
     "data": {
      "application/vnd.jupyter.widget-view+json": {
       "model_id": "433c96d0390c431dbd3fc80745a90e33",
       "version_major": 2,
       "version_minor": 0
      },
      "text/plain": [
       "VBox()"
      ]
     },
     "metadata": {},
     "output_type": "display_data"
    },
    {
     "data": {
      "application/vnd.jupyter.widget-view+json": {
       "model_id": "4f350136f00144418a9af4ceca2d0d5a",
       "version_major": 2,
       "version_minor": 0
      },
      "text/plain": [
       "FloatProgress(value=0.0, bar_style='info', description='Progress:', layout=Layout(height='25px', width='50%'),…"
      ]
     },
     "metadata": {},
     "output_type": "display_data"
    }
   ],
   "source": [
    "def add_suffix_to_cols(df, suffix):\n",
    "    for col in df.columns:\n",
    "        df = df.withColumnRenamed(col, col + suffix)\n",
    "    return df\n",
    "\n",
    "def isfloat(value):\n",
    "    try:\n",
    "        float(value)\n",
    "        return True\n",
    "    except ValueError:\n",
    "        return False\n",
    "\n",
    "def add_prefix_to_cols(df, prefix, exclude_cols):\n",
    "    columns_to_prefix = [col for col in df.columns if col not in exclude_cols]\n",
    "    for col in columns_to_prefix:\n",
    "        if col.isdigit():\n",
    "            df = df.withColumnRenamed(col, prefix + col)\n",
    "        elif isfloat(col):\n",
    "            df = df.withColumnRenamed(col, prefix + str(int(float(col))))\n",
    "        else:\n",
    "            df = df.withColumnRenamed(col, prefix + col)\n",
    "    return df\n",
    "\n",
    "def fillna_0(df, exclude_cols):\n",
    "    columns_to_fill = [col for col in df.columns if col not in exclude_cols]\n",
    "    df = df.fillna(0, subset=columns_to_fill)\n",
    "    return df"
   ]
  },
  {
   "cell_type": "markdown",
   "metadata": {},
   "source": [
    "# Inputs"
   ]
  },
  {
   "cell_type": "code",
   "execution_count": 5,
   "metadata": {},
   "outputs": [
    {
     "data": {
      "application/vnd.jupyter.widget-view+json": {
       "model_id": "b1b44cfa8ceb498ca62cd4c5691f371a",
       "version_major": 2,
       "version_minor": 0
      },
      "text/plain": [
       "VBox()"
      ]
     },
     "metadata": {},
     "output_type": "display_data"
    },
    {
     "data": {
      "application/vnd.jupyter.widget-view+json": {
       "model_id": "985ddd4e520e41d3bccb31d9b0a0c447",
       "version_major": 2,
       "version_minor": 0
      },
      "text/plain": [
       "FloatProgress(value=0.0, bar_style='info', description='Progress:', layout=Layout(height='25px', width='50%'),…"
      ]
     },
     "metadata": {},
     "output_type": "display_data"
    }
   ],
   "source": [
    "metadata = {\"CENSO\": {\"VIVIENDA\": {\"useful_columns\": ['U_DPTO', 'U_MPIO', 'UA_CLASE', 'U_EDIFICA',\n",
    "                                                      'COD_ENCUESTAS', 'U_VIVIENDA', 'UVA_USO_UNIDAD',\n",
    "                                                      'V_TIPO_VIV', 'V_CON_OCUP', 'V_TOT_HOG',\n",
    "                                                      'V_MAT_PARED', 'V_MAT_PISO', 'VA_EE', 'VA1_ESTRATO', 'VB_ACU', 'VC_ALC',\n",
    "                                                      'VD_GAS', 'VE_RECBAS', 'VE1_QSEM', 'VF_INTERNET', 'V_TIPO_SERSA',\n",
    "                                                      'L_TIPO_INST', 'L_EXISTEHOG', 'L_TOT_PERL']\n",
    "                                   },\n",
    "                      \"HOGAR\": {\"useful_columns\": ['U_DPTO', 'U_MPIO', 'UA_CLASE', 'COD_ENCUESTAS',\n",
    "                                                   'U_VIVIENDA', 'H_NROHOG', 'H_NRO_CUARTOS', 'H_NRO_DORMIT',\n",
    "                                                   'H_DONDE_PREPALIM', 'H_AGUA_COCIN', 'HA_NRO_FALL', 'HA_TOT_PER']},\n",
    "                      \"PERSONAS\": {\"useful_columns\": ['U_DPTO', 'U_MPIO', 'UA_CLASE', 'U_EDIFICA',\n",
    "                                                      'COD_ENCUESTAS', 'U_VIVIENDA', 'P_NROHOG', 'P_NRO_PER', 'P_SEXO',\n",
    "                                                      'P_EDADR', 'P_PARENTESCOR', 'PA_LUG_NAC',\n",
    "                                                      'PA_VIVIA_5ANOS', 'PA_VIVIA_1ANO', 'P_ENFERMO', 'P_QUEHIZO_PPAL',\n",
    "                                                      'PA_LO_ATENDIERON', 'PA1_CALIDAD_SERV', 'CONDICION_FISICA',\n",
    "                                                      'P_ALFABETA', 'PA_ASISTENCIA', 'P_NIVEL_ANOSR', 'P_TRABAJO',\n",
    "                                                      'P_EST_CIVIL', 'PA_HNV', 'PA1_THNV', 'PA2_HNVH', 'PA3_HNVM', 'PA_HNVS',\n",
    "                                                      'PA1_THSV', 'PA2_HSVH', 'PA3_HSVM', 'PA_HFC', 'PA1_THFC', 'PA2_HFCH',\n",
    "                                                      'PA3_HFCM']},\n",
    "                      \"FALLECIDOS\": {\"useful_columns\": ['U_DPTO', 'U_MPIO', 'UA_CLASE', 'COD_ENCUESTAS',\n",
    "                                                        'U_VIVIENDA', 'F_NROHOG', 'FA1_NRO_FALL', 'FA2_SEXO_FALL',\n",
    "                                                        'FA3_EDAD_FALL', 'FA4_CERT_DEFUN']},\n",
    "                      \"GEOREFERENCIACION\": {\"useful_columns\": ['U_DPTO', 'U_MPIO', 'UA_CLASE', 'UA1_LOCALIDAD', 'U_SECT_RUR',\n",
    "                                                               'U_SECC_RUR', 'UA2_CPOB', 'U_SECT_URB', 'U_SECC_URB', 'U_MZA',\n",
    "                                                               'U_EDIFICA', 'COD_ENCUESTAS', 'U_VIVIENDA']},\n",
    "                      \"DIVIPOLA\": {\"useful_columns\": ['cod_depto', 'cod_mpio', 'dpto', 'nom_mpio', 'tipo_municipio']}\n",
    "                      },\n",
    "            }\n",
    "\n",
    "bucket='censo-covid'\n",
    "s3_resource = boto3.resource('s3')\n",
    "bucket_s3 = s3_resource.Bucket(bucket)\n",
    "show = True"
   ]
  },
  {
   "cell_type": "markdown",
   "metadata": {},
   "source": [
    "**Paths**"
   ]
  },
  {
   "cell_type": "code",
   "execution_count": 6,
   "metadata": {},
   "outputs": [
    {
     "data": {
      "application/vnd.jupyter.widget-view+json": {
       "model_id": "da25cbf09e2144478386fa49eab7fcab",
       "version_major": 2,
       "version_minor": 0
      },
      "text/plain": [
       "VBox()"
      ]
     },
     "metadata": {},
     "output_type": "display_data"
    },
    {
     "data": {
      "application/vnd.jupyter.widget-view+json": {
       "model_id": "6902c61443864a3fbdf2bf93ba7ffd2f",
       "version_major": 2,
       "version_minor": 0
      },
      "text/plain": [
       "FloatProgress(value=0.0, bar_style='info', description='Progress:', layout=Layout(height='25px', width='50%'),…"
      ]
     },
     "metadata": {},
     "output_type": "display_data"
    }
   ],
   "source": [
    "censo_covid_bucket_s3 = f\"s3a://{bucket}\"\n",
    "\n",
    "raw_data_path = os.path.join(censo_covid_bucket_s3, \"raw-data\")\n",
    "censo_data_path = os.path.join(raw_data_path, \"censo\")\n",
    "covid_tests_path = os.path.join(raw_data_path, \"covid-tests.csv\")\n",
    "covid_path = os.path.join(raw_data_path, \"covid.csv\")\n",
    "divipola_path = os.path.join(raw_data_path, \"divipola.csv\")\n",
    "\n",
    "dict_paths_departments = get_censo_paths(bucket_s3, directory_key=os.path.join(\"raw-data\", \"censo\"))\n",
    "\n",
    "final_data_path = os.path.join(censo_covid_bucket_s3, \"final-data\")\n",
    "complete_personas_path = os.path.join(final_data_path, \"complete_personas\")\n",
    "complete_fallecidos_path = os.path.join(final_data_path, \"complete_fallecidos\")\n",
    "\n",
    "aggregates_personas_path = os.path.join(final_data_path, \"aggregates_personas\")\n",
    "aggregates_fallecidos_path = os.path.join(final_data_path, \"aggregates_fallecidos\")\n",
    "aggregates_covid_path = os.path.join(final_data_path, \"aggregates_covid\")\n",
    "\n",
    "join_personas_covid_path = os.path.join(final_data_path, \"join_personas_covid\")\n",
    "join_fallecidos_covid_path = os.path.join(final_data_path, \"join_fallecidos_covid\")"
   ]
  },
  {
   "cell_type": "markdown",
   "metadata": {},
   "source": [
    "# Pipeline"
   ]
  },
  {
   "cell_type": "markdown",
   "metadata": {},
   "source": [
    "### Load_data"
   ]
  },
  {
   "cell_type": "code",
   "execution_count": 7,
   "metadata": {},
   "outputs": [
    {
     "data": {
      "application/vnd.jupyter.widget-view+json": {
       "model_id": "568e916f1acc4614ae3d22f334edfcdf",
       "version_major": 2,
       "version_minor": 0
      },
      "text/plain": [
       "VBox()"
      ]
     },
     "metadata": {},
     "output_type": "display_data"
    },
    {
     "data": {
      "application/vnd.jupyter.widget-view+json": {
       "model_id": "db42f61b03224408a1be940fa4edce42",
       "version_major": 2,
       "version_minor": 0
      },
      "text/plain": [
       "FloatProgress(value=0.0, bar_style='info', description='Progress:', layout=Layout(height='25px', width='50%'),…"
      ]
     },
     "metadata": {},
     "output_type": "display_data"
    },
    {
     "name": "stdout",
     "output_type": "stream",
     "text": [
      "                           0             1             2             3\n",
      "U_DPTO                    11            11            11            11\n",
      "U_MPIO                     1             1             1             1\n",
      "UA_CLASE                   1             1             1             1\n",
      "U_EDIFICA                  1             1             1             1\n",
      "COD_ENCUESTAS          63612         63612         63612         64570\n",
      "...                      ...           ...           ...           ...\n",
      "U_SECC_URB                 3             3             3             3\n",
      "U_MZA                     13            13            13            21\n",
      "nom_mpio        BOGOTÁ. D.C.  BOGOTÁ. D.C.  BOGOTÁ. D.C.  BOGOTÁ. D.C.\n",
      "tipo_municipio     Municipio     Municipio     Municipio     Municipio\n",
      "dpto            BOGOTÁ. D.C.  BOGOTÁ. D.C.  BOGOTÁ. D.C.  BOGOTÁ. D.C.\n",
      "\n",
      "[70 rows x 4 columns]\n",
      "Length:  20386281"
     ]
    }
   ],
   "source": [
    "complete_personas_data = spark.read.option(\"header\", \"true\").csv(complete_personas_path, \n",
    "                                  schema=build_schema_complete(source=\"personas\"))\n",
    "if show:\n",
    "    complete_personas_data.limit(4).toPandas().T\n",
    "    print(\"Length: \", complete_personas_data.count())"
   ]
  },
  {
   "cell_type": "code",
   "execution_count": 8,
   "metadata": {},
   "outputs": [
    {
     "data": {
      "application/vnd.jupyter.widget-view+json": {
       "model_id": "5b07757a9dcc45d7a60a9cbb4ceb5bc7",
       "version_major": 2,
       "version_minor": 0
      },
      "text/plain": [
       "VBox()"
      ]
     },
     "metadata": {},
     "output_type": "display_data"
    },
    {
     "data": {
      "application/vnd.jupyter.widget-view+json": {
       "model_id": "102f2ced35964c12bd8bc232fc010a69",
       "version_major": 2,
       "version_minor": 0
      },
      "text/plain": [
       "FloatProgress(value=0.0, bar_style='info', description='Progress:', layout=Layout(height='25px', width='50%'),…"
      ]
     },
     "metadata": {},
     "output_type": "display_data"
    },
    {
     "name": "stdout",
     "output_type": "stream",
     "text": [
      "                            0          1          2          3\n",
      "U_DPTO                      5          5          5          5\n",
      "U_MPIO                      1          1          1          1\n",
      "UA_CLASE                    1          1          1          1\n",
      "U_EDIFICA                   1          1          1          1\n",
      "COD_ENCUESTAS          156689     752560     804981    1002889\n",
      "U_VIVIENDA                 12          4         68        109\n",
      "F_NROHOG                    1          1          1          1\n",
      "FA1_NRO_FALL                1          1          1          1\n",
      "FA2_SEXO_FALL               2          2          2          2\n",
      "FA3_EDAD_FALL              88         30          0         53\n",
      "FA4_CERT_DEFUN              1          1          2          1\n",
      "UVA_USO_UNIDAD              1          1          1          1\n",
      "V_TIPO_VIV                  2          1          2          2\n",
      "V_CON_OCUP                  1          1          1          1\n",
      "V_TOT_HOG                   1          1          1          1\n",
      "V_MAT_PARED                 1          1          2          2\n",
      "V_MAT_PISO                  2          4          2          2\n",
      "VA_EE                       1          1          1          1\n",
      "VA1_ESTRATO                 5          1          1          2\n",
      "VB_ACU                      1          1          1          1\n",
      "VC_ALC                      1          1          1          1\n",
      "VD_GAS                      1          2          1          1\n",
      "VE_RECBAS                   1          1          1          1\n",
      "VE1_QSEM                    2          2          2          2\n",
      "VF_INTERNET                 1          1          2          2\n",
      "V_TIPO_SERSA                1          1          1          1\n",
      "L_TIPO_INST              None       None       None       None\n",
      "L_EXISTEHOG              None       None       None       None\n",
      "L_TOT_PERL               None       None       None       None\n",
      "H_NRO_CUARTOS_H             7          3          4          3\n",
      "H_NRO_DORMIT_H              3          3          3          2\n",
      "H_DONDE_PREPALIM_H          1          3          1          1\n",
      "H_AGUA_COCIN_H              1          1          1          1\n",
      "HA_NRO_FALL_H               1          1          1          1\n",
      "HA_TOT_PER_H                4          4          3          4\n",
      "UA1_LOCALIDAD               0          0          0          0\n",
      "U_SECT_RUR                  0          0          0          0\n",
      "U_SECC_RUR                  0          0          0          0\n",
      "UA2_CPOB                    0          0          0          0\n",
      "U_SECT_URB               1108       9051        717        717\n",
      "U_SECC_URB                  5          4          9          3\n",
      "U_MZA                       2         24          7         33\n",
      "nom_mpio             MEDELLÍN   MEDELLÍN   MEDELLÍN   MEDELLÍN\n",
      "tipo_municipio      Municipio  Municipio  Municipio  Municipio\n",
      "dpto                ANTIOQUIA  ANTIOQUIA  ANTIOQUIA  ANTIOQUIA\n",
      "Length:  94219"
     ]
    }
   ],
   "source": [
    "complete_fallecidos = spark.read.option(\"header\", \"true\").csv(complete_fallecidos_path, \n",
    "                                  schema=build_schema_complete(source=\"fallecidos\"))\n",
    "if show:\n",
    "    complete_fallecidos.limit(4).toPandas().T\n",
    "    print(\"Length: \", complete_fallecidos.count())"
   ]
  },
  {
   "cell_type": "code",
   "execution_count": 9,
   "metadata": {},
   "outputs": [
    {
     "data": {
      "application/vnd.jupyter.widget-view+json": {
       "model_id": "ea61f98bee054fed8867226bd652938a",
       "version_major": 2,
       "version_minor": 0
      },
      "text/plain": [
       "VBox()"
      ]
     },
     "metadata": {},
     "output_type": "display_data"
    },
    {
     "data": {
      "application/vnd.jupyter.widget-view+json": {
       "model_id": "4f85686438be431383885834ad7bf2e9",
       "version_major": 2,
       "version_minor": 0
      },
      "text/plain": [
       "FloatProgress(value=0.0, bar_style='info', description='Progress:', layout=Layout(height='25px', width='50%'),…"
      ]
     },
     "metadata": {},
     "output_type": "display_data"
    },
    {
     "name": "stdout",
     "output_type": "stream",
     "text": [
      "                                 0  ...            3\n",
      "fecha_de_notificaci_n   2020-03-02  ...   2020-03-09\n",
      "c_digo_divipola              11001  ...        05001\n",
      "ciudad_de_ubicaci_n    Bogotá D.C.  ...     Medellín\n",
      "departamento           Bogotá D.C.  ...    Antioquia\n",
      "atenci_n                Recuperado  ...   Recuperado\n",
      "edad                            19  ...           55\n",
      "sexo                             F  ...            M\n",
      "tipo                     Importado  ...  Relacionado\n",
      "estado                        Leve  ...         Leve\n",
      "pa_s_de_procedencia         ITALIA  ...          nan\n",
      "fis                     2020-02-27  ...   2020-03-06\n",
      "fecha_diagnostico       2020-03-06  ...   2020-03-11\n",
      "fecha_recuperado        2020-03-13  ...   2020-03-26\n",
      "fecha_reporte_web       2020-03-06  ...   2020-03-11\n",
      "tipo_recuperaci_n              PCR  ...          PCR\n",
      "codigo_departamento             11  ...            5\n",
      "codigo_pais                    380  ...          nan\n",
      "pertenencia_etnica            Otro  ...         Otro\n",
      "nombre_grupo_etnico           None  ...         None\n",
      "fecha_de_muerte               None  ...         None\n",
      "Asintomatico                     0  ...            0\n",
      "divipola_dpto                   11  ...            5\n",
      "divipola_mpio                    1  ...            1\n",
      "edad_q                           1  ...            4\n",
      "muerto                       False  ...        False\n",
      "edad_muerto                      0  ...            0\n",
      "\n",
      "[26 rows x 4 columns]\n",
      "Length:  165169"
     ]
    }
   ],
   "source": [
    "covid_data = spark.read.option(\"header\", \"true\").csv(covid_path, \n",
    "                                  schema=build_schema_covid(source=\"covid\"))\n",
    "if show:\n",
    "    covid_data.limit(4).toPandas().T\n",
    "    print(\"Length: \", covid_data.count())"
   ]
  },
  {
   "cell_type": "code",
   "execution_count": 10,
   "metadata": {},
   "outputs": [
    {
     "data": {
      "application/vnd.jupyter.widget-view+json": {
       "model_id": "c208a2c08cee4791a4f1ef4526d44aa2",
       "version_major": 2,
       "version_minor": 0
      },
      "text/plain": [
       "VBox()"
      ]
     },
     "metadata": {},
     "output_type": "display_data"
    },
    {
     "data": {
      "application/vnd.jupyter.widget-view+json": {
       "model_id": "431ba5deee98485b99bdda823bf45c60",
       "version_major": 2,
       "version_minor": 0
      },
      "text/plain": [
       "FloatProgress(value=0.0, bar_style='info', description='Progress:', layout=Layout(height='25px', width='50%'),…"
      ]
     },
     "metadata": {},
     "output_type": "display_data"
    },
    {
     "name": "stdout",
     "output_type": "stream",
     "text": [
      "                        0          1          2           3\n",
      "cod_depto               5          5          5           5\n",
      "cod_mpio                1          2          4          21\n",
      "dpto            ANTIOQUIA  ANTIOQUIA  ANTIOQUIA   ANTIOQUIA\n",
      "nom_mpio         MEDELLÍN  ABEJORRAL   ABRIAQUÍ  ALEJANDRÍA\n",
      "tipo_municipio  Municipio  Municipio  Municipio   Municipio\n",
      "Length:  1121"
     ]
    }
   ],
   "source": [
    "divipola_data = spark.read.option(\"header\", \"true\").csv(divipola_path, \n",
    "                                  schema=build_schema_divipola(source=\"divipola\"))\n",
    "if show:\n",
    "    divipola_data.limit(4).toPandas().T\n",
    "    print(\"Length: \", divipola_data.count())"
   ]
  },
  {
   "cell_type": "markdown",
   "metadata": {},
   "source": [
    "### Processing"
   ]
  },
  {
   "cell_type": "markdown",
   "metadata": {},
   "source": [
    "**Personas**"
   ]
  },
  {
   "cell_type": "code",
   "execution_count": 11,
   "metadata": {},
   "outputs": [
    {
     "data": {
      "application/vnd.jupyter.widget-view+json": {
       "model_id": "f217e551684a4ec59502e1b5e431161d",
       "version_major": 2,
       "version_minor": 0
      },
      "text/plain": [
       "VBox()"
      ]
     },
     "metadata": {},
     "output_type": "display_data"
    },
    {
     "data": {
      "application/vnd.jupyter.widget-view+json": {
       "model_id": "0f7d2d6565b04abba77b9d0acefcacea",
       "version_major": 2,
       "version_minor": 0
      },
      "text/plain": [
       "FloatProgress(value=0.0, bar_style='info', description='Progress:', layout=Layout(height='25px', width='50%'),…"
      ]
     },
     "metadata": {},
     "output_type": "display_data"
    },
    {
     "name": "stdout",
     "output_type": "stream",
     "text": [
      "                                 0                       1  ...         3       4\n",
      "dpto                     ANTIOQUIA               ANTIOQUIA  ...    BOYACÁ  BOYACÁ\n",
      "nom_mpio          VIGÍA DEL FUERTE  SAN JOSÉ DE LA MONTAÑA  ...  ARCABUCO   CHITA\n",
      "P_NIVEL_ANOSR_1                263                      88  ...       145     251\n",
      "P_NIVEL_ANOSR_2               2709                    1143  ...      2288    3523\n",
      "P_NIVEL_ANOSR_3               1340                     561  ...       913    1310\n",
      "P_NIVEL_ANOSR_4                993                     542  ...       863     836\n",
      "P_NIVEL_ANOSR_5                235                      50  ...       132     123\n",
      "P_NIVEL_ANOSR_6                 31                      18  ...         5      91\n",
      "P_NIVEL_ANOSR_7                285                     128  ...       200      87\n",
      "P_NIVEL_ANOSR_8                214                      66  ...       261     108\n",
      "P_NIVEL_ANOSR_9                 59                      31  ...        66      85\n",
      "P_NIVEL_ANOSR_10               522                     100  ...       178     728\n",
      "P_NIVEL_ANOSR_99               591                      42  ...        28      76\n",
      "\n",
      "[13 rows x 5 columns]\n",
      "Length:  374"
     ]
    }
   ],
   "source": [
    "number_of_people_by_education_level = complete_personas_data.groupby(\"dpto\", \"nom_mpio\").pivot(\"P_NIVEL_ANOSR\")\\\n",
    "                                            .agg(F.count(\"P_NIVEL_ANOSR\"))\n",
    "number_of_people_by_education_level = number_of_people_by_education_level.drop(\"null\")\n",
    "number_of_people_by_education_level = add_prefix_to_cols(number_of_people_by_education_level, \n",
    "                                                         prefix=\"P_NIVEL_ANOSR_\",\n",
    "                                                         exclude_cols=[\"dpto\", \"nom_mpio\"])\n",
    "number_of_people_by_education_level = fillna_0(number_of_people_by_education_level, \n",
    "                                               exclude_cols=[\"dpto\", \"nom_mpio\"])\n",
    "if show:\n",
    "    number_of_people_by_education_level.limit(5).toPandas().T\n",
    "    print(\"Length: \", number_of_people_by_education_level.count())"
   ]
  },
  {
   "cell_type": "code",
   "execution_count": 12,
   "metadata": {},
   "outputs": [
    {
     "data": {
      "application/vnd.jupyter.widget-view+json": {
       "model_id": "6eb6065df9d24ba08d37ed63b7588c65",
       "version_major": 2,
       "version_minor": 0
      },
      "text/plain": [
       "VBox()"
      ]
     },
     "metadata": {},
     "output_type": "display_data"
    },
    {
     "data": {
      "application/vnd.jupyter.widget-view+json": {
       "model_id": "57743ccb303a4b39a01ff9d9f8011beb",
       "version_major": 2,
       "version_minor": 0
      },
      "text/plain": [
       "FloatProgress(value=0.0, bar_style='info', description='Progress:', layout=Layout(height='25px', width='50%'),…"
      ]
     },
     "metadata": {},
     "output_type": "display_data"
    },
    {
     "name": "stdout",
     "output_type": "stream",
     "text": [
      "                    0          1  ...          3             4\n",
      "dpto        ANTIOQUIA  ANTIOQUIA  ...  ATLÁNTICO     ATLÁNTICO\n",
      "nom_mpio      BRICEÑO      PEQUE  ...    BARANOA  SABANAGRANDE\n",
      "P_EDADR_1         444        577  ...       4702          2670\n",
      "P_EDADR_2         593        630  ...       4981          2613\n",
      "P_EDADR_3         728        735  ...       5295          2779\n",
      "P_EDADR_4         599        770  ...       5508          2967\n",
      "P_EDADR_5         511        606  ...       5067          2902\n",
      "P_EDADR_6         445        515  ...       4926          2683\n",
      "P_EDADR_7         438        467  ...       4555          2434\n",
      "P_EDADR_8         416        471  ...       4393          2328\n",
      "P_EDADR_9         327        410  ...       3624          1980\n",
      "P_EDADR_10        301        405  ...       3582          1852\n",
      "P_EDADR_11        303        352  ...       3624          1765\n",
      "P_EDADR_12        262        272  ...       3280          1480\n",
      "P_EDADR_13        183        233  ...       2363          1188\n",
      "P_EDADR_14        141        183  ...       1874           871\n",
      "P_EDADR_15         97        171  ...       1338           599\n",
      "P_EDADR_16         74        164  ...       1032           388\n",
      "P_EDADR_17         49        109  ...        772           267\n",
      "P_EDADR_18         21         52  ...        357           148\n",
      "P_EDADR_19         10         27  ...        183            75\n",
      "P_EDADR_20          4          5  ...         56            19\n",
      "P_EDADR_21          0          1  ...         15            18\n",
      "\n",
      "[23 rows x 5 columns]\n",
      "Length:  374"
     ]
    }
   ],
   "source": [
    "number_of_people_by_age = complete_personas_data.groupby(\"dpto\", \"nom_mpio\").pivot(\"P_EDADR\")\\\n",
    "                                            .agg(F.count(\"P_EDADR\"))\n",
    "number_of_people_by_age = number_of_people_by_age.drop(\"null\")\n",
    "number_of_people_by_age = add_prefix_to_cols(number_of_people_by_age, \n",
    "                                             prefix=\"P_EDADR_\",\n",
    "                                             exclude_cols=[\"dpto\", \"nom_mpio\"])\n",
    "number_of_people_by_age = fillna_0(number_of_people_by_age, \n",
    "                                               exclude_cols=[\"dpto\", \"nom_mpio\"])\n",
    "if show:\n",
    "    number_of_people_by_age.limit(5).toPandas().T\n",
    "    print(\"Length: \", number_of_people_by_age.count())"
   ]
  },
  {
   "cell_type": "code",
   "execution_count": 13,
   "metadata": {},
   "outputs": [
    {
     "data": {
      "application/vnd.jupyter.widget-view+json": {
       "model_id": "d7917b5539164445a0d63e15bef8ff20",
       "version_major": 2,
       "version_minor": 0
      },
      "text/plain": [
       "VBox()"
      ]
     },
     "metadata": {},
     "output_type": "display_data"
    },
    {
     "data": {
      "application/vnd.jupyter.widget-view+json": {
       "model_id": "cfee53906e064ef0aed6fce7d5ac2456",
       "version_major": 2,
       "version_minor": 0
      },
      "text/plain": [
       "FloatProgress(value=0.0, bar_style='info', description='Progress:', layout=Layout(height='25px', width='50%'),…"
      ]
     },
     "metadata": {},
     "output_type": "display_data"
    },
    {
     "name": "stdout",
     "output_type": "stream",
     "text": [
      "                                    0       1  ...          3                 4\n",
      "dpto                        ANTIOQUIA  BOYACÁ  ...  ANTIOQUIA         ANTIOQUIA\n",
      "nom_mpio       SAN JOSÉ DE LA MONTAÑA    PAYA  ...      ANDES  VIGÍA DEL FUERTE\n",
      "VA1_ESTRATO_0                      21      13  ...        291               540\n",
      "VA1_ESTRATO_1                     708     221  ...      10015              6594\n",
      "VA1_ESTRATO_2                    2071     438  ...      23857                22\n",
      "VA1_ESTRATO_3                     122       2  ...       2252                14\n",
      "VA1_ESTRATO_4                      15       7  ...        105                 1\n",
      "VA1_ESTRATO_5                       5       0  ...         11                 0\n",
      "VA1_ESTRATO_6                       0       0  ...         11                 0\n",
      "VA1_ESTRATO_9                       5       8  ...         38                 4\n",
      "\n",
      "[10 rows x 5 columns]\n",
      "Length:  374"
     ]
    }
   ],
   "source": [
    "number_of_people_per_estrato = complete_personas_data.groupby(\"dpto\", \"nom_mpio\").pivot(\"VA1_ESTRATO\")\\\n",
    "                                            .agg(F.count(\"VA1_ESTRATO\"))\n",
    "number_of_people_per_estrato = number_of_people_per_estrato.drop(\"null\")\n",
    "number_of_people_per_estrato = add_prefix_to_cols(number_of_people_per_estrato, \n",
    "                                                  prefix=\"VA1_ESTRATO_\",\n",
    "                                                  exclude_cols=[\"dpto\", \"nom_mpio\"])\n",
    "number_of_people_per_estrato = fillna_0(number_of_people_per_estrato, \n",
    "                                        exclude_cols=[\"dpto\", \"nom_mpio\"])\n",
    "if show:\n",
    "    number_of_people_per_estrato.limit(5).toPandas().T\n",
    "    print(\"Length: \", number_of_people_per_estrato.count())"
   ]
  },
  {
   "cell_type": "code",
   "execution_count": 14,
   "metadata": {},
   "outputs": [
    {
     "data": {
      "application/vnd.jupyter.widget-view+json": {
       "model_id": "0b96543ac7034a6cb29c2e4cb96c56b3",
       "version_major": 2,
       "version_minor": 0
      },
      "text/plain": [
       "VBox()"
      ]
     },
     "metadata": {},
     "output_type": "display_data"
    },
    {
     "data": {
      "application/vnd.jupyter.widget-view+json": {
       "model_id": "f580956e78e74cd1bc42b9ecaa7665ae",
       "version_major": 2,
       "version_minor": 0
      },
      "text/plain": [
       "FloatProgress(value=0.0, bar_style='info', description='Progress:', layout=Layout(height='25px', width='50%'),…"
      ]
     },
     "metadata": {},
     "output_type": "display_data"
    },
    {
     "name": "stdout",
     "output_type": "stream",
     "text": [
      "                                                     0  ...          4\n",
      "dpto                                      BOGOTÁ. D.C.  ...  ATLÁNTICO\n",
      "nom_mpio                                  BOGOTÁ. D.C.  ...    SOLEDAD\n",
      "Number_of_people                               7181469  ...     535984\n",
      "Avg_Number_people_per_home                     3.62483  ...    4.56214\n",
      "Number_of_males                                3433586  ...     260921\n",
      "Number_of_females                              3747883  ...     275063\n",
      "Number_of_people_with_electricity              7132834  ...     533101\n",
      "Number_of_people_without_electricity             16706  ...       2538\n",
      "Number_of_people_with_water_access             7109875  ...     527848\n",
      "Number_of_people_without_water_access            39665  ...       7791\n",
      "Number_of_people_with_internet_access          5498193  ...     270974\n",
      "Number_of_people_without_internet_access       1593575  ...     262953\n",
      "Number_of_literate_people                      6484469  ...     471469\n",
      "Number_of_non_literate_people                   143409  ...      16531\n",
      "Really_Good_health_service                       71965  ...       2453\n",
      "Good_health_service                             390670  ...      13550\n",
      "Bad_health_service                               99635  ...       2418\n",
      "Really_Bad_health_service                        28077  ...        692\n",
      "Number_of_sons_out_of_country                   364988  ...      17216\n",
      "\n",
      "[19 rows x 5 columns]\n",
      "Length:  374"
     ]
    }
   ],
   "source": [
    "aggregates_by_city_personas = complete_personas_data.groupby(\"dpto\", \"nom_mpio\")\\\n",
    "            .agg(F.count(F.col(\"U_MPIO\")).alias(\"Number_of_people\"), \n",
    "                 F.avg(F.col(\"HA_TOT_PER_H\")).alias(\"Avg_Number_people_per_home\"), \n",
    "                 F.sum(F.when(F.col(\"P_SEXO\")==1, 1)).alias(\"Number_of_males\"), \n",
    "                 F.sum(F.when(F.col(\"P_SEXO\")==2, 1)).alias(\"Number_of_females\"), \n",
    "                 F.sum(F.when(F.col(\"VA_EE\")==1, 1)).alias(\"Number_of_people_with_electricity\"),\n",
    "                 F.sum(F.when(F.col(\"VA_EE\")==2, 1)).alias(\"Number_of_people_without_electricity\"),\n",
    "                 F.sum(F.when(F.col(\"VB_ACU\")==1, 1)).alias(\"Number_of_people_with_water_access\"),\n",
    "                 F.sum(F.when(F.col(\"VB_ACU\")==2, 1)).alias(\"Number_of_people_without_water_access\"), \n",
    "                 F.sum(F.when(F.col(\"VF_INTERNET\")==1, 1)).alias(\"Number_of_people_with_internet_access\"), \n",
    "                 F.sum(F.when(F.col(\"VF_INTERNET\")==2, 1)).alias(\"Number_of_people_without_internet_access\"),\n",
    "                 F.sum(F.when(F.col(\"P_ALFABETA\")==1, 1)).alias(\"Number_of_literate_people\"), \n",
    "                 F.sum(F.when(F.col(\"P_ALFABETA\")==2, 1)).alias(\"Number_of_non_literate_people\"),\n",
    "                 F.sum(F.when(F.col(\"PA1_CALIDAD_SERV\")==1, 1)).alias(\"Really_Good_health_service\"),\n",
    "                 F.sum(F.when(F.col(\"PA1_CALIDAD_SERV\")==2, 1)).alias(\"Good_health_service\"),\n",
    "                 F.sum(F.when(F.col(\"PA1_CALIDAD_SERV\")==3, 1)).alias(\"Bad_health_service\"),\n",
    "                 F.sum(F.when(F.col(\"PA1_CALIDAD_SERV\")==4, 1)).alias(\"Really_Bad_health_service\"), \n",
    "                 F.sum(F.col(\"PA1_THFC\")).alias(\"Number_of_sons_out_of_country\"))\\\n",
    "            .orderBy(F.col(\"Number_of_people\").desc())\n",
    "if show:\n",
    "    aggregates_by_city_personas.limit(5).toPandas().T\n",
    "    print(\"Length: \", aggregates_by_city_personas.count())"
   ]
  },
  {
   "cell_type": "code",
   "execution_count": 15,
   "metadata": {},
   "outputs": [
    {
     "data": {
      "application/vnd.jupyter.widget-view+json": {
       "model_id": "c97e01fa6ed0481496f505b26635ce20",
       "version_major": 2,
       "version_minor": 0
      },
      "text/plain": [
       "VBox()"
      ]
     },
     "metadata": {},
     "output_type": "display_data"
    },
    {
     "data": {
      "application/vnd.jupyter.widget-view+json": {
       "model_id": "84c490ff9cd54599a5d3861de65bb5e4",
       "version_major": 2,
       "version_minor": 0
      },
      "text/plain": [
       "FloatProgress(value=0.0, bar_style='info', description='Progress:', layout=Layout(height='25px', width='50%'),…"
      ]
     },
     "metadata": {},
     "output_type": "display_data"
    },
    {
     "name": "stdout",
     "output_type": "stream",
     "text": [
      "                                                  0  ...                       4\n",
      "dpto                                      ANTIOQUIA  ...               ANTIOQUIA\n",
      "nom_mpio                                      ANDES  ...  SAN JOSÉ DE LA MONTAÑA\n",
      "Number_of_people                              38144  ...                    2952\n",
      "Avg_Number_people_per_home                  3.88865  ...                 4.05759\n",
      "Number_of_males                               19777  ...                    1424\n",
      "Number_of_females                             18367  ...                    1528\n",
      "Number_of_people_with_electricity             36580  ...                    2947\n",
      "Number_of_people_without_electricity            447  ...                       5\n",
      "Number_of_people_with_water_access            24586  ...                    2265\n",
      "Number_of_people_without_water_access         12441  ...                     687\n",
      "Number_of_people_with_internet_access          7550  ...                     729\n",
      "Number_of_people_without_internet_access      29375  ...                    2218\n",
      "Number_of_literate_people                     31404  ...                    2565\n",
      "Number_of_non_literate_people                  3845  ...                     166\n",
      "Really_Good_health_service                      374  ...                      26\n",
      "Good_health_service                            2188  ...                     131\n",
      "Bad_health_service                              456  ...                      17\n",
      "Really_Bad_health_service                       112  ...                       9\n",
      "Number_of_sons_out_of_country                   447  ...                      98\n",
      "VA1_ESTRATO_0                                   291  ...                      21\n",
      "VA1_ESTRATO_1                                 10015  ...                     708\n",
      "VA1_ESTRATO_2                                 23857  ...                    2071\n",
      "VA1_ESTRATO_3                                  2252  ...                     122\n",
      "VA1_ESTRATO_4                                   105  ...                      15\n",
      "VA1_ESTRATO_5                                    11  ...                       5\n",
      "VA1_ESTRATO_6                                    11  ...                       0\n",
      "VA1_ESTRATO_9                                    38  ...                       5\n",
      "P_NIVEL_ANOSR_1                                 595  ...                      88\n",
      "P_NIVEL_ANOSR_2                               16003  ...                    1143\n",
      "P_NIVEL_ANOSR_3                                6255  ...                     561\n",
      "P_NIVEL_ANOSR_4                                6223  ...                     542\n",
      "P_NIVEL_ANOSR_5                                 430  ...                      50\n",
      "P_NIVEL_ANOSR_6                                  76  ...                      18\n",
      "P_NIVEL_ANOSR_7                                1300  ...                     128\n",
      "P_NIVEL_ANOSR_8                                1280  ...                      66\n",
      "P_NIVEL_ANOSR_9                                 273  ...                      31\n",
      "P_NIVEL_ANOSR_10                               2873  ...                     100\n",
      "P_NIVEL_ANOSR_99                                629  ...                      42\n",
      "P_EDADR_1                                      2207  ...                     183\n",
      "P_EDADR_2                                      2613  ...                     259\n",
      "P_EDADR_3                                      3006  ...                     338\n",
      "P_EDADR_4                                      3457  ...                     321\n",
      "P_EDADR_5                                      3321  ...                     266\n",
      "P_EDADR_6                                      2873  ...                     225\n",
      "P_EDADR_7                                      2630  ...                     206\n",
      "P_EDADR_8                                      2689  ...                     187\n",
      "P_EDADR_9                                      2508  ...                     166\n",
      "P_EDADR_10                                     2396  ...                     164\n",
      "P_EDADR_11                                     2345  ...                     195\n",
      "P_EDADR_12                                     2173  ...                     131\n",
      "P_EDADR_13                                     1950  ...                      98\n",
      "P_EDADR_14                                     1475  ...                      86\n",
      "P_EDADR_15                                     1053  ...                      47\n",
      "P_EDADR_16                                      653  ...                      47\n",
      "P_EDADR_17                                      405  ...                      21\n",
      "P_EDADR_18                                      234  ...                       8\n",
      "P_EDADR_19                                      109  ...                       4\n",
      "P_EDADR_20                                       31  ...                       0\n",
      "P_EDADR_21                                       16  ...                       0\n",
      "\n",
      "[59 rows x 5 columns]\n",
      "Length:  374"
     ]
    }
   ],
   "source": [
    "aggregates_by_city_personas = aggregates_by_city_personas.join(number_of_people_per_estrato,\n",
    "                                                               on=[\"dpto\", \"nom_mpio\"],\n",
    "                                                               how=\"left\")\n",
    "aggregates_by_city_personas = aggregates_by_city_personas.join(number_of_people_by_education_level,\n",
    "                                                               on=[\"dpto\", \"nom_mpio\"],\n",
    "                                                               how=\"left\")\n",
    "aggregates_by_city_personas = aggregates_by_city_personas.join(number_of_people_by_age,\n",
    "                                                               on=[\"dpto\", \"nom_mpio\"],\n",
    "                                                               how=\"left\")\n",
    "if show:\n",
    "    aggregates_by_city_personas.limit(5).toPandas().T\n",
    "    print(\"Length: \", aggregates_by_city_personas.count())"
   ]
  },
  {
   "cell_type": "code",
   "execution_count": 16,
   "metadata": {},
   "outputs": [
    {
     "data": {
      "application/vnd.jupyter.widget-view+json": {
       "model_id": "d5d148a7840e4f8ebbbdb7c820916a29",
       "version_major": 2,
       "version_minor": 0
      },
      "text/plain": [
       "VBox()"
      ]
     },
     "metadata": {},
     "output_type": "display_data"
    },
    {
     "data": {
      "application/vnd.jupyter.widget-view+json": {
       "model_id": "2d5450bf992248b5a6638bd7b96764c4",
       "version_major": 2,
       "version_minor": 0
      },
      "text/plain": [
       "FloatProgress(value=0.0, bar_style='info', description='Progress:', layout=Layout(height='25px', width='50%'),…"
      ]
     },
     "metadata": {},
     "output_type": "display_data"
    }
   ],
   "source": [
    "aggregates_by_city_personas.repartition(1).write.partitionBy('dpto')\\\n",
    "    .mode('overwrite').option(\"header\",\"true\").csv(aggregates_personas_path)"
   ]
  },
  {
   "cell_type": "markdown",
   "metadata": {},
   "source": [
    "**Falllecidos**"
   ]
  },
  {
   "cell_type": "code",
   "execution_count": 17,
   "metadata": {},
   "outputs": [
    {
     "data": {
      "application/vnd.jupyter.widget-view+json": {
       "model_id": "28fbc35f847c4ac2ab82cce2489273e9",
       "version_major": 2,
       "version_minor": 0
      },
      "text/plain": [
       "VBox()"
      ]
     },
     "metadata": {},
     "output_type": "display_data"
    },
    {
     "data": {
      "application/vnd.jupyter.widget-view+json": {
       "model_id": "2bf2957e7a53414798828e6e9acbcc11",
       "version_major": 2,
       "version_minor": 0
      },
      "text/plain": [
       "FloatProgress(value=0.0, bar_style='info', description='Progress:', layout=Layout(height='25px', width='50%'),…"
      ]
     },
     "metadata": {},
     "output_type": "display_data"
    },
    {
     "name": "stdout",
     "output_type": "stream",
     "text": [
      "                                          0          1             2\n",
      "dpto                           BOGOTÁ. D.C.  ANTIOQUIA     ATLÁNTICO\n",
      "nom_mpio                       BOGOTÁ. D.C.   MEDELLÍN  BARRANQUILLA\n",
      "Number_of_people_fallecidos           26929      11382          4172\n",
      "Number_of_dead_males                  14416       6353          2268\n",
      "Number_of_dead_females                12482       5021          1899\n",
      "Avg_Age_w_0s                        64.5836    62.5208       67.8588\n",
      "Avg_Death_Age                        74.138    73.0997        74.553\n",
      "Avg_Death_Age_Male                  70.9326     69.653       70.4102\n",
      "Avg_Death_Age_Female                74.9669    75.3202       76.5482\n",
      "Avg_Death_Age_Estrato1              70.1874    69.1686       68.9175\n",
      "Avg_Death_Age_Estrato2              72.8915    71.1722        72.172\n",
      "Avg_Death_Age_Estrato3              74.9028    74.1777       77.8544\n",
      "Avg_Death_Age_Estrato4              78.7467     77.984       77.6998\n",
      "Avg_Death_Age_Estrato5              78.4073    77.7988       83.0824\n",
      "Avg_Death_Age_Estrato6              77.7197    81.0687       101.759\n",
      "Number_of_dead_Estrato1                2887       1593          1321\n",
      "Number_of_dead_Estrato2               10658       4254          1031\n",
      "Number_of_dead_Estrato3                9685       3440          1098\n",
      "Number_of_dead_Estrato4                2285        955           429\n",
      "Number_of_dead_Estrato5                 725        747           185\n",
      "Number_of_dead_Estrato6                 498        288            82\n",
      "Avg_Death_Age_Cabecera              74.1581    73.2034       74.5603\n",
      "Avg_Death_Age_Centro_Poblado           None       None          None\n",
      "Avg_Death_Age_Rural_Disperso           None       None          None\n",
      "Avg_Death_Age_Resto_Rural           69.1099    66.4097         67.75\n",
      "Number_of_dead_Cabecera               26825      11207          4168\n",
      "Number_of_dead_Centro_Poblado          None       None          None\n",
      "Number_of_dead_Rural_Disperso          None       None          None\n",
      "Number_of_dead_Resto_Rural              104        175             4\n",
      "Length:  373"
     ]
    }
   ],
   "source": [
    "aggregates_fallecidos = complete_fallecidos.groupby(\"dpto\", \"nom_mpio\")\\\n",
    "            .agg(F.count(F.col(\"U_MPIO\")).alias(\"Number_of_people_fallecidos\"), \n",
    "                 F.sum(F.when(F.col(\"FA2_SEXO_FALL\")==1, 1)).alias(\"Number_of_dead_males\"), \n",
    "                 F.sum(F.when(F.col(\"FA2_SEXO_FALL\")==2, 1)).alias(\"Number_of_dead_females\"), \n",
    "                 F.avg(F.col(\"FA3_EDAD_FALL\")).alias(\"Avg_Age_w_0s\"),\n",
    "                 F.avg(F.when(F.col(\"FA3_EDAD_FALL\")>30, F.col(\"FA3_EDAD_FALL\"))).alias(\"Avg_Death_Age\"), \n",
    "                 F.avg(F.when((F.col(\"FA2_SEXO_FALL\")==1)&(F.col(\"FA3_EDAD_FALL\")>30),\n",
    "                              F.col(\"FA3_EDAD_FALL\"))).alias(\"Avg_Death_Age_Male\"), \n",
    "                 F.avg(F.when((F.col(\"FA2_SEXO_FALL\")==2)&(F.col(\"FA3_EDAD_FALL\")>30),\n",
    "                              F.col(\"FA3_EDAD_FALL\"))).alias(\"Avg_Death_Age_Female\"), \n",
    "                 F.avg(F.when((F.col(\"VA1_ESTRATO\")==1)&(F.col(\"FA3_EDAD_FALL\")>30),\n",
    "                              F.col(\"FA3_EDAD_FALL\"))).alias(\"Avg_Death_Age_Estrato1\"), \n",
    "                 F.avg(F.when((F.col(\"VA1_ESTRATO\")==2)&(F.col(\"FA3_EDAD_FALL\")>30),\n",
    "                              F.col(\"FA3_EDAD_FALL\"))).alias(\"Avg_Death_Age_Estrato2\"), \n",
    "                 F.avg(F.when((F.col(\"VA1_ESTRATO\")==3)&(F.col(\"FA3_EDAD_FALL\")>30),\n",
    "                              F.col(\"FA3_EDAD_FALL\"))).alias(\"Avg_Death_Age_Estrato3\"), \n",
    "                 F.avg(F.when((F.col(\"VA1_ESTRATO\")==4)&(F.col(\"FA3_EDAD_FALL\")>30),\n",
    "                              F.col(\"FA3_EDAD_FALL\"))).alias(\"Avg_Death_Age_Estrato4\"), \n",
    "                 F.avg(F.when((F.col(\"VA1_ESTRATO\")==5)&(F.col(\"FA3_EDAD_FALL\")>30),\n",
    "                              F.col(\"FA3_EDAD_FALL\"))).alias(\"Avg_Death_Age_Estrato5\"), \n",
    "                 F.avg(F.when((F.col(\"VA1_ESTRATO\")==6)&(F.col(\"FA3_EDAD_FALL\")>30),\n",
    "                              F.col(\"FA3_EDAD_FALL\"))).alias(\"Avg_Death_Age_Estrato6\"), \n",
    "                 F.sum(F.when((F.col(\"VA1_ESTRATO\")==1)&(F.col(\"FA3_EDAD_FALL\")>30), \n",
    "                              1)).alias(\"Number_of_dead_Estrato1\"), \n",
    "                 F.sum(F.when((F.col(\"VA1_ESTRATO\")==2)&(F.col(\"FA3_EDAD_FALL\")>30), \n",
    "                              1)).alias(\"Number_of_dead_Estrato2\"), \n",
    "                 F.sum(F.when((F.col(\"VA1_ESTRATO\")==3)&(F.col(\"FA3_EDAD_FALL\")>30), \n",
    "                              1)).alias(\"Number_of_dead_Estrato3\"), \n",
    "                 F.sum(F.when((F.col(\"VA1_ESTRATO\")==4)&(F.col(\"FA3_EDAD_FALL\")>30), \n",
    "                              1)).alias(\"Number_of_dead_Estrato4\"), \n",
    "                 F.sum(F.when((F.col(\"VA1_ESTRATO\")==5)&(F.col(\"FA3_EDAD_FALL\")>30), \n",
    "                              1)).alias(\"Number_of_dead_Estrato5\"), \n",
    "                 F.sum(F.when((F.col(\"VA1_ESTRATO\")==6)&(F.col(\"FA3_EDAD_FALL\")>30), \n",
    "                              1)).alias(\"Number_of_dead_Estrato6\"), \n",
    "                 F.avg(F.when((F.col(\"UA_CLASE\")==1)&(F.col(\"FA3_EDAD_FALL\")>30),\n",
    "                              F.col(\"FA3_EDAD_FALL\"))).alias(\"Avg_Death_Age_Cabecera\"), \n",
    "                 F.avg(F.when((F.col(\"UA_CLASE\")==2)&(F.col(\"FA3_EDAD_FALL\")>30),\n",
    "                              F.col(\"FA3_EDAD_FALL\"))).alias(\"Avg_Death_Age_Centro_Poblado\"), \n",
    "                 F.avg(F.when((F.col(\"UA_CLASE\")==3)&(F.col(\"FA3_EDAD_FALL\")>30),\n",
    "                              F.col(\"FA3_EDAD_FALL\"))).alias(\"Avg_Death_Age_Rural_Disperso\"), \n",
    "                 F.avg(F.when((F.col(\"UA_CLASE\")==4)&(F.col(\"FA3_EDAD_FALL\")>30),\n",
    "                              F.col(\"FA3_EDAD_FALL\"))).alias(\"Avg_Death_Age_Resto_Rural\"), \n",
    "                 F.sum(F.when((F.col(\"UA_CLASE\")==1)&(F.col(\"FA3_EDAD_FALL\")>30), \n",
    "                              1)).alias(\"Number_of_dead_Cabecera\"), \n",
    "                 F.sum(F.when((F.col(\"UA_CLASE\")==1)&(F.col(\"FA3_EDAD_FALL\")>30), \n",
    "                              1)).alias(\"Number_of_dead_Centro_Poblado\"), \n",
    "                 F.sum(F.when((F.col(\"UA_CLASE\")==1)&(F.col(\"FA3_EDAD_FALL\")>30),\n",
    "                              1)).alias(\"Number_of_dead_Rural_Disperso\"), \n",
    "                 F.sum(F.when((F.col(\"UA_CLASE\")==1)&(F.col(\"FA3_EDAD_FALL\")>30),\n",
    "                              1)).alias(\"Number_of_dead_Resto_Rural\"),)\\\n",
    "            .orderBy(F.col(\"Number_of_people_fallecidos\").desc())\n",
    "if show:\n",
    "    aggregates_fallecidos.limit(3).toPandas().T\n",
    "    print(\"Length: \", aggregates_fallecidos.count())"
   ]
  },
  {
   "cell_type": "code",
   "execution_count": 18,
   "metadata": {},
   "outputs": [
    {
     "data": {
      "application/vnd.jupyter.widget-view+json": {
       "model_id": "162d48fad24f451db165225e2b1c34d9",
       "version_major": 2,
       "version_minor": 0
      },
      "text/plain": [
       "VBox()"
      ]
     },
     "metadata": {},
     "output_type": "display_data"
    },
    {
     "data": {
      "application/vnd.jupyter.widget-view+json": {
       "model_id": "ce3cdceded324251b4457204f2495566",
       "version_major": 2,
       "version_minor": 0
      },
      "text/plain": [
       "FloatProgress(value=0.0, bar_style='info', description='Progress:', layout=Layout(height='25px', width='50%'),…"
      ]
     },
     "metadata": {},
     "output_type": "display_data"
    }
   ],
   "source": [
    "aggregates_fallecidos.repartition(1).write.partitionBy('dpto')\\\n",
    "    .mode('overwrite').option(\"header\",\"true\").csv(aggregates_fallecidos_path)"
   ]
  },
  {
   "cell_type": "markdown",
   "metadata": {},
   "source": [
    "**Covid**"
   ]
  },
  {
   "cell_type": "code",
   "execution_count": 19,
   "metadata": {},
   "outputs": [
    {
     "data": {
      "application/vnd.jupyter.widget-view+json": {
       "model_id": "e577b0e403a941dcb6193003cf9df4b4",
       "version_major": 2,
       "version_minor": 0
      },
      "text/plain": [
       "VBox()"
      ]
     },
     "metadata": {},
     "output_type": "display_data"
    },
    {
     "data": {
      "application/vnd.jupyter.widget-view+json": {
       "model_id": "bc863d4f12a74c2b972ef0799db8326d",
       "version_major": 2,
       "version_minor": 0
      },
      "text/plain": [
       "FloatProgress(value=0.0, bar_style='info', description='Progress:', layout=Layout(height='25px', width='50%'),…"
      ]
     },
     "metadata": {},
     "output_type": "display_data"
    }
   ],
   "source": [
    "covid_data = covid_data.join(divipola_data,\n",
    "                             (covid_data.divipola_dpto==divipola_data.cod_depto)&\\\n",
    "                             (covid_data.divipola_mpio==divipola_data.cod_mpio),\n",
    "                             how=\"left\")"
   ]
  },
  {
   "cell_type": "code",
   "execution_count": 20,
   "metadata": {},
   "outputs": [
    {
     "data": {
      "application/vnd.jupyter.widget-view+json": {
       "model_id": "e24974a5dd98470abaaf261e591eeb6d",
       "version_major": 2,
       "version_minor": 0
      },
      "text/plain": [
       "VBox()"
      ]
     },
     "metadata": {},
     "output_type": "display_data"
    },
    {
     "data": {
      "application/vnd.jupyter.widget-view+json": {
       "model_id": "f7b267177779441fa4991f5bcad22adc",
       "version_major": 2,
       "version_minor": 0
      },
      "text/plain": [
       "FloatProgress(value=0.0, bar_style='info', description='Progress:', layout=Layout(height='25px', width='50%'),…"
      ]
     },
     "metadata": {},
     "output_type": "display_data"
    },
    {
     "name": "stdout",
     "output_type": "stream",
     "text": [
      "                             0          1  ...                    3       4\n",
      "dpto                     CHOCÓ  MAGDALENA  ...      VALLE DEL CAUCA   CESAR\n",
      "nom_mpio               ISTMINA    CIÉNAGA  ...  GUADALAJARA DE BUGA  LA PAZ\n",
      "atenci_n_Casa               21        259  ...                   93       7\n",
      "atenci_n_Fallecido           3         83  ...                    2       0\n",
      "atenci_n_Hospital            3         48  ...                   10       2\n",
      "atenci_n_Hospital UCI        0          6  ...                    0       0\n",
      "atenci_n_N/A                 0          1  ...                    1       1\n",
      "atenci_n_Recuperado         32        304  ...                   45      28\n",
      "\n",
      "[8 rows x 5 columns]\n",
      "Length:  750"
     ]
    }
   ],
   "source": [
    "number_of_people_per_atencion = covid_data.groupby(\"dpto\", \"nom_mpio\").pivot(\"atenci_n\")\\\n",
    "                                            .agg(F.count(\"atenci_n\"))\n",
    "number_of_people_per_atencion = number_of_people_per_atencion.drop(\"null\")\n",
    "number_of_people_per_atencion = add_prefix_to_cols(number_of_people_per_atencion, \n",
    "                                                  prefix=\"atenci_n_\",\n",
    "                                                  exclude_cols=[\"dpto\", \"nom_mpio\"])\n",
    "number_of_people_per_atencion = fillna_0(number_of_people_per_atencion, \n",
    "                                        exclude_cols=[\"dpto\", \"nom_mpio\"])\n",
    "if show:\n",
    "    number_of_people_per_atencion.limit(5).toPandas().T\n",
    "    print(\"Length: \", number_of_people_per_atencion.count())"
   ]
  },
  {
   "cell_type": "code",
   "execution_count": 21,
   "metadata": {},
   "outputs": [
    {
     "data": {
      "application/vnd.jupyter.widget-view+json": {
       "model_id": "d06654c3148243f49a7063e16e308e76",
       "version_major": 2,
       "version_minor": 0
      },
      "text/plain": [
       "VBox()"
      ]
     },
     "metadata": {},
     "output_type": "display_data"
    },
    {
     "data": {
      "application/vnd.jupyter.widget-view+json": {
       "model_id": "55c26247da2c4cdeaf9d915495433ad7",
       "version_major": 2,
       "version_minor": 0
      },
      "text/plain": [
       "FloatProgress(value=0.0, bar_style='info', description='Progress:', layout=Layout(height='25px', width='50%'),…"
      ]
     },
     "metadata": {},
     "output_type": "display_data"
    },
    {
     "name": "stdout",
     "output_type": "stream",
     "text": [
      "                                      0  ...                 4\n",
      "dpto                 NORTE DE SANTANDER  ...         ANTIOQUIA\n",
      "nom_mpio                          OCAÑA  ...  VIGÍA DEL FUERTE\n",
      "estado_Asintomático                   3  ...                 1\n",
      "estado_Fallecido                      6  ...                 2\n",
      "estado_Grave                          1  ...                 0\n",
      "estado_Leve                          19  ...                17\n",
      "estado_Moderado                       3  ...                 1\n",
      "estado_N/A                            0  ...                 0\n",
      "\n",
      "[8 rows x 5 columns]\n",
      "Length:  750"
     ]
    }
   ],
   "source": [
    "number_of_people_per_estado = covid_data.groupby(\"dpto\", \"nom_mpio\").pivot(\"estado\")\\\n",
    "                                            .agg(F.count(\"estado\"))\n",
    "number_of_people_per_estado = number_of_people_per_estado.drop(\"null\")\n",
    "number_of_people_per_estado = add_prefix_to_cols(number_of_people_per_estado, \n",
    "                                                  prefix=\"estado_\",\n",
    "                                                  exclude_cols=[\"dpto\", \"nom_mpio\"])\n",
    "number_of_people_per_estado = fillna_0(number_of_people_per_estado, \n",
    "                                        exclude_cols=[\"dpto\", \"nom_mpio\"])\n",
    "if show:\n",
    "    number_of_people_per_estado.limit(5).toPandas().T\n",
    "    print(\"Length: \", number_of_people_per_estado.count())"
   ]
  },
  {
   "cell_type": "code",
   "execution_count": 22,
   "metadata": {},
   "outputs": [
    {
     "data": {
      "application/vnd.jupyter.widget-view+json": {
       "model_id": "69043514abd2463099a6129daa3d8ce6",
       "version_major": 2,
       "version_minor": 0
      },
      "text/plain": [
       "VBox()"
      ]
     },
     "metadata": {},
     "output_type": "display_data"
    },
    {
     "data": {
      "application/vnd.jupyter.widget-view+json": {
       "model_id": "6570273539024879a1e4bceb0ccc9cac",
       "version_major": 2,
       "version_minor": 0
      },
      "text/plain": [
       "FloatProgress(value=0.0, bar_style='info', description='Progress:', layout=Layout(height='25px', width='50%'),…"
      ]
     },
     "metadata": {},
     "output_type": "display_data"
    },
    {
     "name": "stdout",
     "output_type": "stream",
     "text": [
      "                      0          1        2       3           4\n",
      "dpto          ATLÁNTICO  ATLÁNTICO    CHOCÓ  ARAUCA  LA GUAJIRA\n",
      "nom_mpio   SABANAGRANDE    BARANOA  ISTMINA  ARAUCA   HATONUEVO\n",
      "edad_q_1             34         56        2      12           1\n",
      "edad_q_2             73        127        7      11           1\n",
      "edad_q_3             40         72        3       2           0\n",
      "edad_q_4             30         61        5       1           0\n",
      "edad_q_5             51        104        9       9           0\n",
      "edad_q_6              0         10        0       0           0\n",
      "edad_q_7             49         82        4      22           0\n",
      "edad_q_8             56        111        8       9           1\n",
      "edad_q_9             53         87        8       4           0\n",
      "edad_q_10            18         33        3       0           0\n",
      "edad_q_11            24         36        1       0           0\n",
      "edad_q_12            60         76        4       3           0\n",
      "edad_q_13            28         57        4       1           0\n",
      "edad_q_14             6         17        0       0           0\n",
      "edad_q_15             9         26        1       1           0\n",
      "edad_q_16             6         21        0       1           0\n",
      "edad_q_17             7         18        0       4           0\n",
      "edad_q_18            22         45        0       3           0\n",
      "edad_q_19             0          6        0       0           0\n",
      "edad_q_20             0          0        0       0           0\n",
      "edad_q_21             0          1        0       0           0\n",
      "Length:  750"
     ]
    }
   ],
   "source": [
    "number_of_people_per_edad_q = covid_data.groupby(\"dpto\", \"nom_mpio\").pivot(\"edad_q\")\\\n",
    "                                            .agg(F.count(\"edad_q\"))\n",
    "number_of_people_per_edad_q = number_of_people_per_edad_q.drop(\"null\")\n",
    "number_of_people_per_edad_q = add_prefix_to_cols(number_of_people_per_edad_q, \n",
    "                                                  prefix=\"edad_q_\",\n",
    "                                                  exclude_cols=[\"dpto\", \"nom_mpio\"])\n",
    "number_of_people_per_edad_q = fillna_0(number_of_people_per_edad_q, \n",
    "                                        exclude_cols=[\"dpto\", \"nom_mpio\"])\n",
    "if show:\n",
    "    number_of_people_per_edad_q.limit(5).toPandas().T\n",
    "    print(\"Length: \", number_of_people_per_edad_q.count())"
   ]
  },
  {
   "cell_type": "code",
   "execution_count": 23,
   "metadata": {},
   "outputs": [
    {
     "data": {
      "application/vnd.jupyter.widget-view+json": {
       "model_id": "4ad2640e64914bf6900ae2e4106e8c43",
       "version_major": 2,
       "version_minor": 0
      },
      "text/plain": [
       "VBox()"
      ]
     },
     "metadata": {},
     "output_type": "display_data"
    },
    {
     "data": {
      "application/vnd.jupyter.widget-view+json": {
       "model_id": "dca86077b2de4559be287cfd8b91f7ba",
       "version_major": 2,
       "version_minor": 0
      },
      "text/plain": [
       "FloatProgress(value=0.0, bar_style='info', description='Progress:', layout=Layout(height='25px', width='50%'),…"
      ]
     },
     "metadata": {},
     "output_type": "display_data"
    },
    {
     "name": "stdout",
     "output_type": "stream",
     "text": [
      "                                    0  ...          4\n",
      "dpto                     BOGOTÁ. D.C.  ...  ATLÁNTICO\n",
      "nom_mpio                 BOGOTÁ. D.C.  ...    SOLEDAD\n",
      "Number_of_people_covid          55056  ...       8845\n",
      "Number_of_males_covid           27708  ...       4790\n",
      "Number_of_females_covid         27348  ...       4055\n",
      "Number_of_deaths                 1339  ...        488\n",
      "Number_of_non_deaths            53717  ...       8357\n",
      "Sum_of_dead_ages                91969  ...      31981\n",
      "\n",
      "[8 rows x 5 columns]\n",
      "Length:  750"
     ]
    }
   ],
   "source": [
    "aggregates_covid = covid_data.groupby(\"dpto\", \"nom_mpio\")\\\n",
    "            .agg(F.count(F.col(\"nom_mpio\")).alias(\"Number_of_people_covid\"),\n",
    "                 F.sum(F.when(F.col(\"sexo\")==\"M\", 1)).alias(\"Number_of_males_covid\"), \n",
    "                 F.sum(F.when(F.col(\"sexo\")==\"F\", 1)).alias(\"Number_of_females_covid\"), \n",
    "                 F.sum(F.when(F.col(\"muerto\")==\"True\", 1)).alias(\"Number_of_deaths\"),\n",
    "                 F.sum(F.when(F.col(\"muerto\")==\"False\", 1)).alias(\"Number_of_non_deaths\"),\n",
    "                 F.sum(F.col(\"edad_muerto\")).alias(\"Sum_of_dead_ages\"))\\\n",
    "            .orderBy(F.col(\"Number_of_people_covid\").desc())\n",
    "if show:\n",
    "    aggregates_covid.limit(5).toPandas().T\n",
    "    print(\"Length: \", aggregates_covid.count())"
   ]
  },
  {
   "cell_type": "code",
   "execution_count": 24,
   "metadata": {},
   "outputs": [
    {
     "data": {
      "application/vnd.jupyter.widget-view+json": {
       "model_id": "248165d1e7a3422da5a88ef2159a4fc1",
       "version_major": 2,
       "version_minor": 0
      },
      "text/plain": [
       "VBox()"
      ]
     },
     "metadata": {},
     "output_type": "display_data"
    },
    {
     "data": {
      "application/vnd.jupyter.widget-view+json": {
       "model_id": "128e18473b674ade9d1759537bf01cb6",
       "version_major": 2,
       "version_minor": 0
      },
      "text/plain": [
       "FloatProgress(value=0.0, bar_style='info', description='Progress:', layout=Layout(height='25px', width='50%'),…"
      ]
     },
     "metadata": {},
     "output_type": "display_data"
    },
    {
     "name": "stdout",
     "output_type": "stream",
     "text": [
      "                                    0  ...          4\n",
      "dpto                     BOGOTÁ. D.C.  ...  ATLÁNTICO\n",
      "nom_mpio                 BOGOTÁ. D.C.  ...    SOLEDAD\n",
      "Number_of_people_covid          55056  ...       8845\n",
      "Number_of_males_covid           27708  ...       4790\n",
      "Number_of_females_covid         27348  ...       4055\n",
      "Number_of_deaths                 1339  ...        488\n",
      "Number_of_non_deaths            53717  ...       8357\n",
      "Sum_of_dead_ages                91969  ...      31981\n",
      "edad_q_1                         2395  ...        264\n",
      "edad_q_2                         6449  ...       1309\n",
      "edad_q_3                         4075  ...        624\n",
      "edad_q_4                         3479  ...        559\n",
      "edad_q_5                         6818  ...       1124\n",
      "edad_q_6                          441  ...         69\n",
      "edad_q_7                         5222  ...        727\n",
      "edad_q_8                         5666  ...       1040\n",
      "edad_q_9                         4871  ...        801\n",
      "edad_q_10                        1254  ...        236\n",
      "edad_q_11                        1788  ...        288\n",
      "edad_q_12                        4221  ...        612\n",
      "edad_q_13                        2644  ...        404\n",
      "edad_q_14                         935  ...        166\n",
      "edad_q_15                        1122  ...        161\n",
      "edad_q_16                         673  ...        102\n",
      "edad_q_17                        1231  ...        131\n",
      "edad_q_18                        1532  ...        191\n",
      "edad_q_19                         179  ...         31\n",
      "edad_q_20                          56  ...          6\n",
      "edad_q_21                           5  ...          0\n",
      "estado_Asintomático             17368  ...        427\n",
      "estado_Fallecido                 1200  ...        478\n",
      "estado_Grave                      161  ...         61\n",
      "estado_Leve                     32841  ...       7416\n",
      "estado_Moderado                  3401  ...        437\n",
      "estado_N/A                         85  ...         26\n",
      "atenci_n_Casa                   30836  ...       3401\n",
      "atenci_n_Fallecido               1287  ...        479\n",
      "atenci_n_Hospital                3018  ...        386\n",
      "atenci_n_Hospital UCI             158  ...         63\n",
      "atenci_n_N/A                       89  ...         26\n",
      "atenci_n_Recuperado             19668  ...       4490\n",
      "\n",
      "[41 rows x 5 columns]\n",
      "Length:  750"
     ]
    }
   ],
   "source": [
    "aggregates_covid = aggregates_covid.join(number_of_people_per_edad_q,\n",
    "                                         on=[\"dpto\", \"nom_mpio\"],\n",
    "                                         how=\"left\")\n",
    "aggregates_covid = aggregates_covid.join(number_of_people_per_estado,\n",
    "                                         on=[\"dpto\", \"nom_mpio\"],\n",
    "                                         how=\"left\")\n",
    "aggregates_covid = aggregates_covid.join(number_of_people_per_atencion,\n",
    "                                         on=[\"dpto\", \"nom_mpio\"],\n",
    "                                         how=\"left\")\n",
    "aggregates_covid = aggregates_covid.orderBy(F.col(\"Number_of_people_covid\").desc())\n",
    "if show:\n",
    "    aggregates_covid.limit(5).toPandas().T\n",
    "    print(\"Length: \", aggregates_covid.count())"
   ]
  },
  {
   "cell_type": "code",
   "execution_count": 25,
   "metadata": {},
   "outputs": [
    {
     "data": {
      "application/vnd.jupyter.widget-view+json": {
       "model_id": "b6f4e0bd6a224db18d747c2621138484",
       "version_major": 2,
       "version_minor": 0
      },
      "text/plain": [
       "VBox()"
      ]
     },
     "metadata": {},
     "output_type": "display_data"
    },
    {
     "data": {
      "application/vnd.jupyter.widget-view+json": {
       "model_id": "0c69720b29e145aeb8709798fdecb6a3",
       "version_major": 2,
       "version_minor": 0
      },
      "text/plain": [
       "FloatProgress(value=0.0, bar_style='info', description='Progress:', layout=Layout(height='25px', width='50%'),…"
      ]
     },
     "metadata": {},
     "output_type": "display_data"
    }
   ],
   "source": [
    "aggregates_covid.repartition(1).write\\\n",
    "    .mode('overwrite').option(\"header\",\"true\").csv(aggregates_covid_path)"
   ]
  },
  {
   "cell_type": "markdown",
   "metadata": {},
   "source": [
    "### Joins"
   ]
  },
  {
   "cell_type": "markdown",
   "metadata": {},
   "source": [
    "**Personas&Covid**"
   ]
  },
  {
   "cell_type": "code",
   "execution_count": 26,
   "metadata": {},
   "outputs": [
    {
     "data": {
      "application/vnd.jupyter.widget-view+json": {
       "model_id": "cd45cca163b8462cb0c3a486a0049a8c",
       "version_major": 2,
       "version_minor": 0
      },
      "text/plain": [
       "VBox()"
      ]
     },
     "metadata": {},
     "output_type": "display_data"
    },
    {
     "data": {
      "application/vnd.jupyter.widget-view+json": {
       "model_id": "dec6ed595b954a26b1f5da3ba719143c",
       "version_major": 2,
       "version_minor": 0
      },
      "text/plain": [
       "FloatProgress(value=0.0, bar_style='info', description='Progress:', layout=Layout(height='25px', width='50%'),…"
      ]
     },
     "metadata": {},
     "output_type": "display_data"
    },
    {
     "name": "stdout",
     "output_type": "stream",
     "text": [
      "                                    0          1          2\n",
      "dpto                        ANTIOQUIA  ANTIOQUIA  ANTIOQUIA\n",
      "nom_mpio                        ANDES    BRICEÑO  CONCORDIA\n",
      "Number_of_people                38144       5946      16095\n",
      "Avg_Number_people_per_home    3.88865    3.93206    3.91303\n",
      "Number_of_males                 19777       3071       8022\n",
      "...                               ...        ...        ...\n",
      "atenci_n_Fallecido                  0          0          0\n",
      "atenci_n_Hospital                   1          0          0\n",
      "atenci_n_Hospital UCI               0          0          0\n",
      "atenci_n_N/A                        0          0          0\n",
      "atenci_n_Recuperado                 1          1          0\n",
      "\n",
      "[98 rows x 3 columns]\n",
      "Length:  236"
     ]
    }
   ],
   "source": [
    "joined_personas = aggregates_by_city_personas.join(aggregates_covid, \n",
    "                                                   on=[\"dpto\", \"nom_mpio\"],\n",
    "                                                   how=\"inner\")\n",
    "if show:\n",
    "    joined_personas.limit(3).toPandas().T\n",
    "    print(\"Length: \", joined_personas.count())"
   ]
  },
  {
   "cell_type": "code",
   "execution_count": 27,
   "metadata": {},
   "outputs": [
    {
     "data": {
      "application/vnd.jupyter.widget-view+json": {
       "model_id": "df35fc50b26441959c8a137d0e06073a",
       "version_major": 2,
       "version_minor": 0
      },
      "text/plain": [
       "VBox()"
      ]
     },
     "metadata": {},
     "output_type": "display_data"
    },
    {
     "data": {
      "application/vnd.jupyter.widget-view+json": {
       "model_id": "1c309b6fc172409fa22ab81aaeab569d",
       "version_major": 2,
       "version_minor": 0
      },
      "text/plain": [
       "FloatProgress(value=0.0, bar_style='info', description='Progress:', layout=Layout(height='25px', width='50%'),…"
      ]
     },
     "metadata": {},
     "output_type": "display_data"
    }
   ],
   "source": [
    "joined_personas.repartition(1).write\\\n",
    "    .mode('overwrite').option(\"header\",\"true\").csv(join_personas_covid_path)"
   ]
  },
  {
   "cell_type": "markdown",
   "metadata": {},
   "source": [
    "**Falllecidos&Covid**"
   ]
  },
  {
   "cell_type": "code",
   "execution_count": 28,
   "metadata": {},
   "outputs": [
    {
     "data": {
      "application/vnd.jupyter.widget-view+json": {
       "model_id": "79cd7df6a1024718a3303ea68e2d6e55",
       "version_major": 2,
       "version_minor": 0
      },
      "text/plain": [
       "VBox()"
      ]
     },
     "metadata": {},
     "output_type": "display_data"
    },
    {
     "data": {
      "application/vnd.jupyter.widget-view+json": {
       "model_id": "0d40380f428941f19fc723da92f16b6f",
       "version_major": 2,
       "version_minor": 0
      },
      "text/plain": [
       "FloatProgress(value=0.0, bar_style='info', description='Progress:', layout=Layout(height='25px', width='50%'),…"
      ]
     },
     "metadata": {},
     "output_type": "display_data"
    },
    {
     "name": "stdout",
     "output_type": "stream",
     "text": [
      "                                        0             1                    2\n",
      "dpto                         BOGOTÁ. D.C.     ATLÁNTICO              BOLÍVAR\n",
      "nom_mpio                     BOGOTÁ. D.C.  BARRANQUILLA  CARTAGENA DE INDIAS\n",
      "Number_of_people_fallecidos         26929          4172                 2690\n",
      "Number_of_dead_males                14416          2268                 1529\n",
      "Number_of_dead_females              12482          1899                 1158\n",
      "...                                   ...           ...                  ...\n",
      "atenci_n_Fallecido                   1287          1191                  394\n",
      "atenci_n_Hospital                    3018           898                  231\n",
      "atenci_n_Hospital UCI                 158           131                   51\n",
      "atenci_n_N/A                           89            56                   17\n",
      "atenci_n_Recuperado                 19668          9836                 6901\n",
      "\n",
      "[68 rows x 3 columns]\n",
      "Length:  236"
     ]
    }
   ],
   "source": [
    "joined_fallecidos = aggregates_fallecidos.join(aggregates_covid, \n",
    "                                                   on=[\"dpto\", \"nom_mpio\"],\n",
    "                                                   how=\"inner\")\n",
    "if show:\n",
    "    joined_fallecidos.limit(3).toPandas().T\n",
    "    print(\"Length: \", joined_fallecidos.count())"
   ]
  },
  {
   "cell_type": "code",
   "execution_count": 29,
   "metadata": {},
   "outputs": [
    {
     "data": {
      "application/vnd.jupyter.widget-view+json": {
       "model_id": "762e76d28aec46978465c26d0d7fdbcc",
       "version_major": 2,
       "version_minor": 0
      },
      "text/plain": [
       "VBox()"
      ]
     },
     "metadata": {},
     "output_type": "display_data"
    },
    {
     "data": {
      "application/vnd.jupyter.widget-view+json": {
       "model_id": "19bd2a89bcec4a639ded5b15f9935519",
       "version_major": 2,
       "version_minor": 0
      },
      "text/plain": [
       "FloatProgress(value=0.0, bar_style='info', description='Progress:', layout=Layout(height='25px', width='50%'),…"
      ]
     },
     "metadata": {},
     "output_type": "display_data"
    }
   ],
   "source": [
    "joined_fallecidos.repartition(1).write\\\n",
    "    .mode('overwrite').option(\"header\",\"true\").csv(join_fallecidos_covid_path)"
   ]
  },
  {
   "cell_type": "code",
   "execution_count": null,
   "metadata": {},
   "outputs": [],
   "source": []
  }
 ],
 "metadata": {
  "kernelspec": {
   "display_name": "PySpark",
   "language": "",
   "name": "pysparkkernel"
  },
  "language_info": {
   "codemirror_mode": {
    "name": "python",
    "version": 2
   },
   "mimetype": "text/x-python",
   "name": "pyspark",
   "pygments_lexer": "python2"
  }
 },
 "nbformat": 4,
 "nbformat_minor": 4
}
