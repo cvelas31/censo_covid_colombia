{
 "cells": [
  {
   "cell_type": "markdown",
   "metadata": {},
   "source": [
    "# Visualizations Join Fallecidos\n",
    "\n",
    "## Content\n",
    "- [Paths](#Paths)\n",
    "- [Load data](#Load-data)\n",
    "- [Life Expectancy oldest](#Life-Expectancy-oldest)\n",
    "- [Life-expectancy-by-Estrato-main-20-cities](#Life-expectancy-by-Estrato-main-20-cities)\n",
    "- [Life expectancy distribution by gender](#Life-expectancy-distribution-by-gender)\n",
    "\n",
    "## Goal of visualization\n",
    "- Show main visualitazions from aggregate data"
   ]
  },
  {
   "cell_type": "code",
   "execution_count": 1,
   "metadata": {},
   "outputs": [],
   "source": [
    "import pandas as pd\n",
    "import numpy as np\n",
    "import matplotlib.pyplot as plt\n",
    "import seaborn as sns\n",
    "import os\n",
    "import csv\n",
    "import requests\n",
    "import matplotlib\n",
    "import re\n",
    "from sodapy import Socrata\n",
    "import configparser\n",
    "import boto3\n",
    "plt.style.use('fivethirtyeight')\n",
    "pd.set_option('display.max_columns', None)\n",
    "pd.set_option('display.max_rows', 500)\n",
    "%load_ext autoreload\n",
    "%autoreload 2"
   ]
  },
  {
   "cell_type": "code",
   "execution_count": 2,
   "metadata": {},
   "outputs": [],
   "source": [
    "os.chdir(os.path.join(os.getcwd(), \"..\"))"
   ]
  },
  {
   "cell_type": "code",
   "execution_count": 3,
   "metadata": {},
   "outputs": [],
   "source": [
    "from src.config import metadata\n",
    "from src.utils.s3_utils import (get_censo_paths, download_files_from_s3, read_multiple_csv,\n",
    "                                mk_partitioned_dir, identified_partitioned_dir)\n",
    "from src.utils.general_utils import create_dir"
   ]
  },
  {
   "cell_type": "markdown",
   "metadata": {},
   "source": [
    "## Paths"
   ]
  },
  {
   "cell_type": "code",
   "execution_count": 4,
   "metadata": {},
   "outputs": [],
   "source": [
    "config = configparser.ConfigParser()\n",
    "config.read('aws.cfg')\n",
    "aws = config[\"AWS\"]\n",
    "bucket = \"censo-covid\"\n",
    "s3 = boto3.resource('s3',\n",
    "                    region_name=\"us-west-2\",\n",
    "                    aws_access_key_id=aws['AWS_ACCESS_KEY_ID'],\n",
    "                    aws_secret_access_key=aws['AWS_SECRET_ACCESS_KEY'])\n",
    "s3_client = boto3.client('s3',\n",
    "                         aws_access_key_id=aws['AWS_ACCESS_KEY_ID'],\n",
    "                         aws_secret_access_key=aws['AWS_SECRET_ACCESS_KEY']\n",
    "                        )\n",
    "\n",
    "# Local paths\n",
    "data_path = os.path.join(os.getcwd(), \"data\")\n",
    "censo_data_path = os.path.join(data_path, \"censo\")\n",
    "covid_path = os.path.join(os.getcwd(), \"data\", \"covid.csv\")\n",
    "divipola_path = os.path.join(os.getcwd(), \"data\", \"divipola.csv\")\n",
    "#complete_fallecidos_path = os.path.join(data_path, \"complete_fallecidos\") # Heavy downloads\n",
    "#complete_personas_path = os.path.join(data_path, \"complete_fallecidos\") # Really heavy download\n",
    "aggregates_path = os.path.join(data_path,'aggregates')\n",
    "aggregates_personas_path = os.path.join(aggregates_path, 'personas')\n",
    "aggregates_fallecidos_path = os.path.join(aggregates_path, 'fallecidos')\n",
    "aggregates_covid_path = os.path.join(aggregates_path, 'covid')\n",
    "joins_path = os.path.join(data_path,'joins')\n",
    "joins_personas_path = os.path.join(joins_path, 'personas')\n",
    "joins_fallecidos_path = os.path.join(joins_path,'fallecidos')\n",
    "\n",
    "# S3 paths\n",
    "censo_covid_bucket_s3 = f\"s3a://{bucket}\"\n",
    "\n",
    "raw_data_path_s3 = os.path.join(censo_covid_bucket_s3, \"raw-data\")\n",
    "censo_data_path_s3 = os.path.join(raw_data_path_s3, \"censo\")\n",
    "covid_tests_path_s3 = os.path.join(raw_data_path_s3, \"covid-tests.csv\")\n",
    "covid_path_s3 = os.path.join(raw_data_path_s3, \"covid.csv\")\n",
    "divipola_path_s3 = os.path.join(raw_data_path_s3, \"divipola.csv\")\n",
    "\n",
    "final_data_path_s3 = os.path.join(censo_covid_bucket_s3, \"final-data\")\n",
    "#complete_personas_path = os.path.join(final_data_path, \"complete_personas\")# Heavy downloads\n",
    "#complete_fallecidos_path = os.path.join(final_data_path, \"complete_fallecidos\")# Really heavy download\n",
    "\n",
    "aggregates_personas_path_s3 = os.path.join(final_data_path_s3, \"aggregates_personas\")\n",
    "aggregates_fallecidos_path_s3 = os.path.join(final_data_path_s3, \"aggregates_fallecidos\")\n",
    "aggregates_covid_path_s3 = os.path.join(final_data_path_s3, \"aggregates_covid\")\n",
    "\n",
    "join_personas_covid_path_s3 = os.path.join(final_data_path_s3, \"join_personas_covid\")\n",
    "join_fallecidos_covid_path_s3 = os.path.join(final_data_path_s3, \"join_fallecidos_covid\")\n",
    "\n",
    "s3Bucket = s3.Bucket(bucket)"
   ]
  },
  {
   "cell_type": "markdown",
   "metadata": {},
   "source": [
    "# Load data"
   ]
  },
  {
   "cell_type": "code",
   "execution_count": 5,
   "metadata": {},
   "outputs": [
    {
     "name": "stdout",
     "output_type": "stream",
     "text": [
      "/Users/camilovelasquez/Desktop/Documents/Camilo/Udacity/censo_covid_colombia/data/joins/fallecidos dir exists\n"
     ]
    }
   ],
   "source": [
    "create_dir(joins_fallecidos_path)"
   ]
  },
  {
   "cell_type": "code",
   "execution_count": 6,
   "metadata": {},
   "outputs": [
    {
     "name": "stdout",
     "output_type": "stream",
     "text": [
      "Already downloaded final-data/join_fallecidos_covid\n"
     ]
    }
   ],
   "source": [
    "download_files_from_s3(joins_fallecidos_path, s3Bucket,\n",
    "                       prefix=join_fallecidos_covid_path_s3.replace(censo_covid_bucket_s3 + \"/\", \"\"))"
   ]
  },
  {
   "cell_type": "code",
   "execution_count": 7,
   "metadata": {},
   "outputs": [],
   "source": [
    "to_concat, list_files = read_multiple_csv(joins_fallecidos_path, to_concat=[],\n",
    "                                          list_of_files=[], header=0, n_files=10)"
   ]
  },
  {
   "cell_type": "code",
   "execution_count": 8,
   "metadata": {},
   "outputs": [
    {
     "data": {
      "text/html": [
       "<div>\n",
       "<style scoped>\n",
       "    .dataframe tbody tr th:only-of-type {\n",
       "        vertical-align: middle;\n",
       "    }\n",
       "\n",
       "    .dataframe tbody tr th {\n",
       "        vertical-align: top;\n",
       "    }\n",
       "\n",
       "    .dataframe thead th {\n",
       "        text-align: right;\n",
       "    }\n",
       "</style>\n",
       "<table border=\"1\" class=\"dataframe\">\n",
       "  <thead>\n",
       "    <tr style=\"text-align: right;\">\n",
       "      <th></th>\n",
       "      <th>dpto</th>\n",
       "      <th>nom_mpio</th>\n",
       "      <th>Number_of_people_fallecidos</th>\n",
       "      <th>Number_of_dead_males</th>\n",
       "      <th>Number_of_dead_females</th>\n",
       "      <th>Avg_Age_w_0s</th>\n",
       "      <th>Avg_Death_Age</th>\n",
       "      <th>Avg_Death_Age_Male</th>\n",
       "      <th>Avg_Death_Age_Female</th>\n",
       "      <th>Avg_Death_Age_Estrato1</th>\n",
       "      <th>Avg_Death_Age_Estrato2</th>\n",
       "      <th>Avg_Death_Age_Estrato3</th>\n",
       "      <th>Avg_Death_Age_Estrato4</th>\n",
       "      <th>Avg_Death_Age_Estrato5</th>\n",
       "      <th>Avg_Death_Age_Estrato6</th>\n",
       "      <th>Number_of_dead_Estrato1</th>\n",
       "      <th>Number_of_dead_Estrato2</th>\n",
       "      <th>Number_of_dead_Estrato3</th>\n",
       "      <th>Number_of_dead_Estrato4</th>\n",
       "      <th>Number_of_dead_Estrato5</th>\n",
       "      <th>Number_of_dead_Estrato6</th>\n",
       "      <th>Avg_Death_Age_Cabecera</th>\n",
       "      <th>Avg_Death_Age_Centro_Poblado</th>\n",
       "      <th>Avg_Death_Age_Rural_Disperso</th>\n",
       "      <th>Avg_Death_Age_Resto_Rural</th>\n",
       "      <th>Number_of_dead_Cabecera</th>\n",
       "      <th>Number_of_dead_Centro_Poblado</th>\n",
       "      <th>Number_of_dead_Rural_Disperso</th>\n",
       "      <th>Number_of_dead_Resto_Rural</th>\n",
       "      <th>Number_of_people_covid</th>\n",
       "      <th>Number_of_males_covid</th>\n",
       "      <th>Number_of_females_covid</th>\n",
       "      <th>Number_of_deaths</th>\n",
       "      <th>Number_of_non_deaths</th>\n",
       "      <th>Sum_of_dead_ages</th>\n",
       "      <th>edad_q_1</th>\n",
       "      <th>edad_q_2</th>\n",
       "      <th>edad_q_3</th>\n",
       "      <th>edad_q_4</th>\n",
       "      <th>edad_q_5</th>\n",
       "      <th>edad_q_6</th>\n",
       "      <th>edad_q_7</th>\n",
       "      <th>edad_q_8</th>\n",
       "      <th>edad_q_9</th>\n",
       "      <th>edad_q_10</th>\n",
       "      <th>edad_q_11</th>\n",
       "      <th>edad_q_12</th>\n",
       "      <th>edad_q_13</th>\n",
       "      <th>edad_q_14</th>\n",
       "      <th>edad_q_15</th>\n",
       "      <th>edad_q_16</th>\n",
       "      <th>edad_q_17</th>\n",
       "      <th>edad_q_18</th>\n",
       "      <th>edad_q_19</th>\n",
       "      <th>edad_q_20</th>\n",
       "      <th>edad_q_21</th>\n",
       "      <th>estado_Asintomático</th>\n",
       "      <th>estado_Fallecido</th>\n",
       "      <th>estado_Grave</th>\n",
       "      <th>estado_Leve</th>\n",
       "      <th>estado_Moderado</th>\n",
       "      <th>estado_N/A</th>\n",
       "      <th>atenci_n_Casa</th>\n",
       "      <th>atenci_n_Fallecido</th>\n",
       "      <th>atenci_n_Hospital</th>\n",
       "      <th>atenci_n_Hospital UCI</th>\n",
       "      <th>atenci_n_N/A</th>\n",
       "      <th>atenci_n_Recuperado</th>\n",
       "    </tr>\n",
       "  </thead>\n",
       "  <tbody>\n",
       "    <tr>\n",
       "      <th>0</th>\n",
       "      <td>ANTIOQUIA</td>\n",
       "      <td>TURBO</td>\n",
       "      <td>607</td>\n",
       "      <td>370</td>\n",
       "      <td>237.0</td>\n",
       "      <td>46.602965</td>\n",
       "      <td>65.410390</td>\n",
       "      <td>63.559633</td>\n",
       "      <td>67.826347</td>\n",
       "      <td>65.736156</td>\n",
       "      <td>62.283019</td>\n",
       "      <td>69.588235</td>\n",
       "      <td>NaN</td>\n",
       "      <td>NaN</td>\n",
       "      <td>NaN</td>\n",
       "      <td>493</td>\n",
       "      <td>71.0</td>\n",
       "      <td>20.0</td>\n",
       "      <td>NaN</td>\n",
       "      <td>NaN</td>\n",
       "      <td>NaN</td>\n",
       "      <td>63.333333</td>\n",
       "      <td>NaN</td>\n",
       "      <td>NaN</td>\n",
       "      <td>66.651452</td>\n",
       "      <td>242.0</td>\n",
       "      <td>NaN</td>\n",
       "      <td>NaN</td>\n",
       "      <td>365.0</td>\n",
       "      <td>291</td>\n",
       "      <td>229.0</td>\n",
       "      <td>62.0</td>\n",
       "      <td>8.0</td>\n",
       "      <td>283.0</td>\n",
       "      <td>626</td>\n",
       "      <td>29</td>\n",
       "      <td>58</td>\n",
       "      <td>15</td>\n",
       "      <td>11</td>\n",
       "      <td>49</td>\n",
       "      <td>1</td>\n",
       "      <td>34</td>\n",
       "      <td>35</td>\n",
       "      <td>27</td>\n",
       "      <td>5</td>\n",
       "      <td>4</td>\n",
       "      <td>11</td>\n",
       "      <td>2</td>\n",
       "      <td>4</td>\n",
       "      <td>0</td>\n",
       "      <td>4</td>\n",
       "      <td>0</td>\n",
       "      <td>1</td>\n",
       "      <td>1</td>\n",
       "      <td>0</td>\n",
       "      <td>0</td>\n",
       "      <td>6</td>\n",
       "      <td>8</td>\n",
       "      <td>2</td>\n",
       "      <td>261</td>\n",
       "      <td>14</td>\n",
       "      <td>0</td>\n",
       "      <td>125</td>\n",
       "      <td>8</td>\n",
       "      <td>13</td>\n",
       "      <td>2</td>\n",
       "      <td>0</td>\n",
       "      <td>143</td>\n",
       "    </tr>\n",
       "    <tr>\n",
       "      <th>1</th>\n",
       "      <td>ATLÁNTICO</td>\n",
       "      <td>SANTO TOMÁS</td>\n",
       "      <td>126</td>\n",
       "      <td>80</td>\n",
       "      <td>46.0</td>\n",
       "      <td>68.595238</td>\n",
       "      <td>72.720339</td>\n",
       "      <td>69.800000</td>\n",
       "      <td>77.813953</td>\n",
       "      <td>67.439024</td>\n",
       "      <td>73.462963</td>\n",
       "      <td>81.666667</td>\n",
       "      <td>NaN</td>\n",
       "      <td>NaN</td>\n",
       "      <td>NaN</td>\n",
       "      <td>46</td>\n",
       "      <td>56.0</td>\n",
       "      <td>21.0</td>\n",
       "      <td>NaN</td>\n",
       "      <td>NaN</td>\n",
       "      <td>NaN</td>\n",
       "      <td>72.256637</td>\n",
       "      <td>NaN</td>\n",
       "      <td>NaN</td>\n",
       "      <td>83.200000</td>\n",
       "      <td>120.0</td>\n",
       "      <td>NaN</td>\n",
       "      <td>NaN</td>\n",
       "      <td>6.0</td>\n",
       "      <td>287</td>\n",
       "      <td>159.0</td>\n",
       "      <td>128.0</td>\n",
       "      <td>11.0</td>\n",
       "      <td>276.0</td>\n",
       "      <td>761</td>\n",
       "      <td>8</td>\n",
       "      <td>37</td>\n",
       "      <td>16</td>\n",
       "      <td>26</td>\n",
       "      <td>37</td>\n",
       "      <td>2</td>\n",
       "      <td>21</td>\n",
       "      <td>30</td>\n",
       "      <td>24</td>\n",
       "      <td>5</td>\n",
       "      <td>11</td>\n",
       "      <td>23</td>\n",
       "      <td>20</td>\n",
       "      <td>3</td>\n",
       "      <td>7</td>\n",
       "      <td>2</td>\n",
       "      <td>6</td>\n",
       "      <td>8</td>\n",
       "      <td>1</td>\n",
       "      <td>0</td>\n",
       "      <td>0</td>\n",
       "      <td>18</td>\n",
       "      <td>10</td>\n",
       "      <td>3</td>\n",
       "      <td>242</td>\n",
       "      <td>13</td>\n",
       "      <td>1</td>\n",
       "      <td>119</td>\n",
       "      <td>10</td>\n",
       "      <td>12</td>\n",
       "      <td>3</td>\n",
       "      <td>1</td>\n",
       "      <td>142</td>\n",
       "    </tr>\n",
       "    <tr>\n",
       "      <th>2</th>\n",
       "      <td>ANTIOQUIA</td>\n",
       "      <td>ENVIGADO</td>\n",
       "      <td>863</td>\n",
       "      <td>448</td>\n",
       "      <td>414.0</td>\n",
       "      <td>67.424102</td>\n",
       "      <td>76.959947</td>\n",
       "      <td>74.194301</td>\n",
       "      <td>77.361878</td>\n",
       "      <td>65.500000</td>\n",
       "      <td>72.581921</td>\n",
       "      <td>78.740181</td>\n",
       "      <td>74.27957</td>\n",
       "      <td>80.6</td>\n",
       "      <td>75.2</td>\n",
       "      <td>6</td>\n",
       "      <td>252.0</td>\n",
       "      <td>354.0</td>\n",
       "      <td>98.0</td>\n",
       "      <td>144.0</td>\n",
       "      <td>7.0</td>\n",
       "      <td>77.166432</td>\n",
       "      <td>NaN</td>\n",
       "      <td>NaN</td>\n",
       "      <td>73.300000</td>\n",
       "      <td>819.0</td>\n",
       "      <td>NaN</td>\n",
       "      <td>NaN</td>\n",
       "      <td>44.0</td>\n",
       "      <td>281</td>\n",
       "      <td>136.0</td>\n",
       "      <td>145.0</td>\n",
       "      <td>1.0</td>\n",
       "      <td>280.0</td>\n",
       "      <td>51</td>\n",
       "      <td>4</td>\n",
       "      <td>34</td>\n",
       "      <td>22</td>\n",
       "      <td>27</td>\n",
       "      <td>49</td>\n",
       "      <td>0</td>\n",
       "      <td>24</td>\n",
       "      <td>31</td>\n",
       "      <td>28</td>\n",
       "      <td>3</td>\n",
       "      <td>7</td>\n",
       "      <td>23</td>\n",
       "      <td>13</td>\n",
       "      <td>4</td>\n",
       "      <td>1</td>\n",
       "      <td>5</td>\n",
       "      <td>4</td>\n",
       "      <td>1</td>\n",
       "      <td>1</td>\n",
       "      <td>0</td>\n",
       "      <td>0</td>\n",
       "      <td>4</td>\n",
       "      <td>1</td>\n",
       "      <td>3</td>\n",
       "      <td>261</td>\n",
       "      <td>12</td>\n",
       "      <td>0</td>\n",
       "      <td>193</td>\n",
       "      <td>1</td>\n",
       "      <td>11</td>\n",
       "      <td>3</td>\n",
       "      <td>0</td>\n",
       "      <td>73</td>\n",
       "    </tr>\n",
       "    <tr>\n",
       "      <th>3</th>\n",
       "      <td>BOLÍVAR</td>\n",
       "      <td>MAGANGUÉ</td>\n",
       "      <td>793</td>\n",
       "      <td>461</td>\n",
       "      <td>331.0</td>\n",
       "      <td>65.016393</td>\n",
       "      <td>73.664212</td>\n",
       "      <td>70.924084</td>\n",
       "      <td>74.074324</td>\n",
       "      <td>73.813830</td>\n",
       "      <td>70.927083</td>\n",
       "      <td>77.500000</td>\n",
       "      <td>82.00000</td>\n",
       "      <td>NaN</td>\n",
       "      <td>NaN</td>\n",
       "      <td>662</td>\n",
       "      <td>106.0</td>\n",
       "      <td>6.0</td>\n",
       "      <td>2.0</td>\n",
       "      <td>NaN</td>\n",
       "      <td>NaN</td>\n",
       "      <td>72.876777</td>\n",
       "      <td>NaN</td>\n",
       "      <td>NaN</td>\n",
       "      <td>74.957198</td>\n",
       "      <td>508.0</td>\n",
       "      <td>NaN</td>\n",
       "      <td>NaN</td>\n",
       "      <td>285.0</td>\n",
       "      <td>243</td>\n",
       "      <td>105.0</td>\n",
       "      <td>138.0</td>\n",
       "      <td>18.0</td>\n",
       "      <td>225.0</td>\n",
       "      <td>1293</td>\n",
       "      <td>12</td>\n",
       "      <td>29</td>\n",
       "      <td>10</td>\n",
       "      <td>12</td>\n",
       "      <td>33</td>\n",
       "      <td>3</td>\n",
       "      <td>30</td>\n",
       "      <td>24</td>\n",
       "      <td>17</td>\n",
       "      <td>12</td>\n",
       "      <td>8</td>\n",
       "      <td>10</td>\n",
       "      <td>6</td>\n",
       "      <td>6</td>\n",
       "      <td>4</td>\n",
       "      <td>8</td>\n",
       "      <td>7</td>\n",
       "      <td>7</td>\n",
       "      <td>3</td>\n",
       "      <td>0</td>\n",
       "      <td>2</td>\n",
       "      <td>1</td>\n",
       "      <td>18</td>\n",
       "      <td>1</td>\n",
       "      <td>178</td>\n",
       "      <td>42</td>\n",
       "      <td>3</td>\n",
       "      <td>131</td>\n",
       "      <td>18</td>\n",
       "      <td>42</td>\n",
       "      <td>1</td>\n",
       "      <td>2</td>\n",
       "      <td>49</td>\n",
       "    </tr>\n",
       "    <tr>\n",
       "      <th>4</th>\n",
       "      <td>ATLÁNTICO</td>\n",
       "      <td>POLONUEVO</td>\n",
       "      <td>75</td>\n",
       "      <td>39</td>\n",
       "      <td>36.0</td>\n",
       "      <td>70.546667</td>\n",
       "      <td>74.085714</td>\n",
       "      <td>73.000000</td>\n",
       "      <td>75.171429</td>\n",
       "      <td>72.891892</td>\n",
       "      <td>75.592593</td>\n",
       "      <td>74.666667</td>\n",
       "      <td>NaN</td>\n",
       "      <td>NaN</td>\n",
       "      <td>NaN</td>\n",
       "      <td>41</td>\n",
       "      <td>28.0</td>\n",
       "      <td>6.0</td>\n",
       "      <td>NaN</td>\n",
       "      <td>NaN</td>\n",
       "      <td>NaN</td>\n",
       "      <td>74.967213</td>\n",
       "      <td>NaN</td>\n",
       "      <td>NaN</td>\n",
       "      <td>68.111111</td>\n",
       "      <td>65.0</td>\n",
       "      <td>NaN</td>\n",
       "      <td>NaN</td>\n",
       "      <td>10.0</td>\n",
       "      <td>216</td>\n",
       "      <td>110.0</td>\n",
       "      <td>106.0</td>\n",
       "      <td>7.0</td>\n",
       "      <td>209.0</td>\n",
       "      <td>499</td>\n",
       "      <td>11</td>\n",
       "      <td>18</td>\n",
       "      <td>17</td>\n",
       "      <td>13</td>\n",
       "      <td>28</td>\n",
       "      <td>1</td>\n",
       "      <td>23</td>\n",
       "      <td>27</td>\n",
       "      <td>16</td>\n",
       "      <td>2</td>\n",
       "      <td>6</td>\n",
       "      <td>15</td>\n",
       "      <td>11</td>\n",
       "      <td>6</td>\n",
       "      <td>6</td>\n",
       "      <td>4</td>\n",
       "      <td>4</td>\n",
       "      <td>6</td>\n",
       "      <td>1</td>\n",
       "      <td>1</td>\n",
       "      <td>0</td>\n",
       "      <td>14</td>\n",
       "      <td>7</td>\n",
       "      <td>2</td>\n",
       "      <td>189</td>\n",
       "      <td>4</td>\n",
       "      <td>0</td>\n",
       "      <td>124</td>\n",
       "      <td>7</td>\n",
       "      <td>4</td>\n",
       "      <td>2</td>\n",
       "      <td>0</td>\n",
       "      <td>79</td>\n",
       "    </tr>\n",
       "  </tbody>\n",
       "</table>\n",
       "</div>"
      ],
      "text/plain": [
       "        dpto     nom_mpio  Number_of_people_fallecidos  Number_of_dead_males  \\\n",
       "0  ANTIOQUIA        TURBO                          607                   370   \n",
       "1  ATLÁNTICO  SANTO TOMÁS                          126                    80   \n",
       "2  ANTIOQUIA     ENVIGADO                          863                   448   \n",
       "3    BOLÍVAR     MAGANGUÉ                          793                   461   \n",
       "4  ATLÁNTICO    POLONUEVO                           75                    39   \n",
       "\n",
       "   Number_of_dead_females  Avg_Age_w_0s  Avg_Death_Age  Avg_Death_Age_Male  \\\n",
       "0                   237.0     46.602965      65.410390           63.559633   \n",
       "1                    46.0     68.595238      72.720339           69.800000   \n",
       "2                   414.0     67.424102      76.959947           74.194301   \n",
       "3                   331.0     65.016393      73.664212           70.924084   \n",
       "4                    36.0     70.546667      74.085714           73.000000   \n",
       "\n",
       "   Avg_Death_Age_Female  Avg_Death_Age_Estrato1  Avg_Death_Age_Estrato2  \\\n",
       "0             67.826347               65.736156               62.283019   \n",
       "1             77.813953               67.439024               73.462963   \n",
       "2             77.361878               65.500000               72.581921   \n",
       "3             74.074324               73.813830               70.927083   \n",
       "4             75.171429               72.891892               75.592593   \n",
       "\n",
       "   Avg_Death_Age_Estrato3  Avg_Death_Age_Estrato4  Avg_Death_Age_Estrato5  \\\n",
       "0               69.588235                     NaN                     NaN   \n",
       "1               81.666667                     NaN                     NaN   \n",
       "2               78.740181                74.27957                    80.6   \n",
       "3               77.500000                82.00000                     NaN   \n",
       "4               74.666667                     NaN                     NaN   \n",
       "\n",
       "   Avg_Death_Age_Estrato6  Number_of_dead_Estrato1  Number_of_dead_Estrato2  \\\n",
       "0                     NaN                      493                     71.0   \n",
       "1                     NaN                       46                     56.0   \n",
       "2                    75.2                        6                    252.0   \n",
       "3                     NaN                      662                    106.0   \n",
       "4                     NaN                       41                     28.0   \n",
       "\n",
       "   Number_of_dead_Estrato3  Number_of_dead_Estrato4  Number_of_dead_Estrato5  \\\n",
       "0                     20.0                      NaN                      NaN   \n",
       "1                     21.0                      NaN                      NaN   \n",
       "2                    354.0                     98.0                    144.0   \n",
       "3                      6.0                      2.0                      NaN   \n",
       "4                      6.0                      NaN                      NaN   \n",
       "\n",
       "   Number_of_dead_Estrato6  Avg_Death_Age_Cabecera  \\\n",
       "0                      NaN               63.333333   \n",
       "1                      NaN               72.256637   \n",
       "2                      7.0               77.166432   \n",
       "3                      NaN               72.876777   \n",
       "4                      NaN               74.967213   \n",
       "\n",
       "   Avg_Death_Age_Centro_Poblado  Avg_Death_Age_Rural_Disperso  \\\n",
       "0                           NaN                           NaN   \n",
       "1                           NaN                           NaN   \n",
       "2                           NaN                           NaN   \n",
       "3                           NaN                           NaN   \n",
       "4                           NaN                           NaN   \n",
       "\n",
       "   Avg_Death_Age_Resto_Rural  Number_of_dead_Cabecera  \\\n",
       "0                  66.651452                    242.0   \n",
       "1                  83.200000                    120.0   \n",
       "2                  73.300000                    819.0   \n",
       "3                  74.957198                    508.0   \n",
       "4                  68.111111                     65.0   \n",
       "\n",
       "   Number_of_dead_Centro_Poblado  Number_of_dead_Rural_Disperso  \\\n",
       "0                            NaN                            NaN   \n",
       "1                            NaN                            NaN   \n",
       "2                            NaN                            NaN   \n",
       "3                            NaN                            NaN   \n",
       "4                            NaN                            NaN   \n",
       "\n",
       "   Number_of_dead_Resto_Rural  Number_of_people_covid  Number_of_males_covid  \\\n",
       "0                       365.0                     291                  229.0   \n",
       "1                         6.0                     287                  159.0   \n",
       "2                        44.0                     281                  136.0   \n",
       "3                       285.0                     243                  105.0   \n",
       "4                        10.0                     216                  110.0   \n",
       "\n",
       "   Number_of_females_covid  Number_of_deaths  Number_of_non_deaths  \\\n",
       "0                     62.0               8.0                 283.0   \n",
       "1                    128.0              11.0                 276.0   \n",
       "2                    145.0               1.0                 280.0   \n",
       "3                    138.0              18.0                 225.0   \n",
       "4                    106.0               7.0                 209.0   \n",
       "\n",
       "   Sum_of_dead_ages  edad_q_1  edad_q_2  edad_q_3  edad_q_4  edad_q_5  \\\n",
       "0               626        29        58        15        11        49   \n",
       "1               761         8        37        16        26        37   \n",
       "2                51         4        34        22        27        49   \n",
       "3              1293        12        29        10        12        33   \n",
       "4               499        11        18        17        13        28   \n",
       "\n",
       "   edad_q_6  edad_q_7  edad_q_8  edad_q_9  edad_q_10  edad_q_11  edad_q_12  \\\n",
       "0         1        34        35        27          5          4         11   \n",
       "1         2        21        30        24          5         11         23   \n",
       "2         0        24        31        28          3          7         23   \n",
       "3         3        30        24        17         12          8         10   \n",
       "4         1        23        27        16          2          6         15   \n",
       "\n",
       "   edad_q_13  edad_q_14  edad_q_15  edad_q_16  edad_q_17  edad_q_18  \\\n",
       "0          2          4          0          4          0          1   \n",
       "1         20          3          7          2          6          8   \n",
       "2         13          4          1          5          4          1   \n",
       "3          6          6          4          8          7          7   \n",
       "4         11          6          6          4          4          6   \n",
       "\n",
       "   edad_q_19  edad_q_20  edad_q_21  estado_Asintomático  estado_Fallecido  \\\n",
       "0          1          0          0                    6                 8   \n",
       "1          1          0          0                   18                10   \n",
       "2          1          0          0                    4                 1   \n",
       "3          3          0          2                    1                18   \n",
       "4          1          1          0                   14                 7   \n",
       "\n",
       "   estado_Grave  estado_Leve  estado_Moderado  estado_N/A  atenci_n_Casa  \\\n",
       "0             2          261               14           0            125   \n",
       "1             3          242               13           1            119   \n",
       "2             3          261               12           0            193   \n",
       "3             1          178               42           3            131   \n",
       "4             2          189                4           0            124   \n",
       "\n",
       "   atenci_n_Fallecido  atenci_n_Hospital  atenci_n_Hospital UCI  atenci_n_N/A  \\\n",
       "0                   8                 13                      2             0   \n",
       "1                  10                 12                      3             1   \n",
       "2                   1                 11                      3             0   \n",
       "3                  18                 42                      1             2   \n",
       "4                   7                  4                      2             0   \n",
       "\n",
       "   atenci_n_Recuperado  \n",
       "0                  143  \n",
       "1                  142  \n",
       "2                   73  \n",
       "3                   49  \n",
       "4                   79  "
      ]
     },
     "execution_count": 8,
     "metadata": {},
     "output_type": "execute_result"
    }
   ],
   "source": [
    "df = pd.concat(to_concat)\n",
    "df.head()"
   ]
  },
  {
   "cell_type": "code",
   "execution_count": 9,
   "metadata": {},
   "outputs": [],
   "source": [
    "df[\"covid_avg_death_age\"] = df[\"Sum_of_dead_ages\"]/df[\"Number_of_deaths\"]"
   ]
  },
  {
   "cell_type": "markdown",
   "metadata": {},
   "source": [
    "### Covid Avg death age vs Expected death age by city"
   ]
  },
  {
   "cell_type": "code",
   "execution_count": 10,
   "metadata": {},
   "outputs": [],
   "source": [
    "look_up_columns = [\"dpto\", \"nom_mpio\", \"Number_of_people_fallecidos\", \n",
    "                   \"Avg_Death_Age\", \"covid_avg_death_age\", \"Number_of_deaths\"]\n",
    "aux = df[look_up_columns].sort_values(\"Number_of_people_fallecidos\", ascending=False)[:100]\n",
    "aux = aux.drop(columns=[\"Number_of_people_fallecidos\", \"Number_of_deaths\"]).set_index([\"dpto\", \n",
    "                                                                   \"nom_mpio\"]).stack().to_frame().reset_index()\n",
    "aux.columns = [\"dpto\", \"nom_mpio\", \"Source\", \"Life Expectancy\"]\n",
    "aux[\"Source\"] = aux[\"Source\"].map({\"Avg_Death_Age\": \"Censo\", \"covid_avg_death_age\": \"Covid\"})"
   ]
  },
  {
   "cell_type": "code",
   "execution_count": 11,
   "metadata": {},
   "outputs": [
    {
     "data": {
      "image/png": "[encoded data removed]",
      "text/plain": [
       "<Figure size 432x288 with 1 Axes>"
      ]
     },
     "metadata": {},
     "output_type": "display_data"
    }
   ],
   "source": [
    "sns.violinplot(data=aux, x=\"Source\", y=\"Life Expectancy\")\n",
    "plt.show()"
   ]
  },
  {
   "cell_type": "markdown",
   "metadata": {},
   "source": [
    "## Calculating avg years lost by covid\n",
    "\n",
    "**COVID has reduced the expected life in around 5 years, mean and median are close, and is geting the top 100 cities with deaths**"
   ]
  },
  {
   "cell_type": "code",
   "execution_count": 12,
   "metadata": {},
   "outputs": [],
   "source": [
    "look_up_columns = [\"dpto\", \"nom_mpio\", \"Number_of_people_fallecidos\", \n",
    "                   \"Avg_Death_Age\", \"covid_avg_death_age\", \"Number_of_deaths\"]\n",
    "aux = df[look_up_columns].sort_values(\"Number_of_people_fallecidos\", ascending=False)[:100]"
   ]
  },
  {
   "cell_type": "code",
   "execution_count": 13,
   "metadata": {},
   "outputs": [],
   "source": [
    "aux[\"Diff_covid_censo\"] = aux[\"covid_avg_death_age\"] - aux[\"Avg_Death_Age\"]"
   ]
  },
  {
   "cell_type": "code",
   "execution_count": 14,
   "metadata": {},
   "outputs": [
    {
     "data": {
      "text/plain": [
       "count    50.000000\n",
       "mean     -5.501432\n",
       "std      11.848283\n",
       "min     -37.710280\n",
       "25%      -8.948761\n",
       "50%      -4.459496\n",
       "75%       1.149767\n",
       "max      18.760274\n",
       "Name: Diff_covid_censo, dtype: float64"
      ]
     },
     "execution_count": 14,
     "metadata": {},
     "output_type": "execute_result"
    }
   ],
   "source": [
    "aux[\"Diff_covid_censo\"].describe()"
   ]
  },
  {
   "cell_type": "markdown",
   "metadata": {},
   "source": [
    "### Look at cities life expectancies"
   ]
  },
  {
   "cell_type": "code",
   "execution_count": 15,
   "metadata": {},
   "outputs": [],
   "source": [
    "import plotly.express as px"
   ]
  },
  {
   "cell_type": "code",
   "execution_count": 25,
   "metadata": {},
   "outputs": [],
   "source": [
    "df_plot = aux\n",
    "df_plot[\"name\"] = df_plot[\"dpto\"] + \"-\" + df_plot[\"nom_mpio\"]\n",
    "df_plot = df_plot.drop(columns=[\"dpto\", \"nom_mpio\"])\n",
    "df_plot.columns = ['Number_of_deaths_CENSO', 'Life_Expectancy_Censo',\n",
    "                   'Avg_Death_Age_Covid', 'Number_of_deaths_COVID', \n",
    "                   'Expectancy_difference', 'Dpto-Mpio']"
   ]
  },
  {
   "cell_type": "code",
   "execution_count": 36,
   "metadata": {},
   "outputs": [
    {
     "data": {
      "application/vnd.plotly.v1+json": {
       "config": {
        "plotlyServerURL": "https://plot.ly"
       },
       "data": [
        {
         "hovertemplate": "Life_Expectancy_Censo=%{x}<br>Avg_Death_Age_Covid=%{y}<br>Dpto-Mpio=%{text}<br>Expectancy_difference=%{marker.color}<extra></extra>",
         "legendgroup": "",
         "marker": {
          "color": [
           -5.453167043478189,
           3.99245509884112,
           -6.861120233663058,
           -5.7363424978957624,
           -3.761842677096908,
           12.441319835020622,
           -5.675010429703775,
           -4.163784624081401,
           -2.0220810647307843,
           -25.959946595460607,
           -1.830878743249869,
           -15.519551282051268,
           -22.25,
           -36.71551724137932,
           -5.8685358255451945,
           12.839610389610385,
           3.0968726163234237,
           1.7234486873508388,
           4.458441558441564,
           -11.469496021220166,
           null,
           null,
           -0.8095578312296539,
           -1.4613569321534072,
           null,
           null,
           null,
           18.760273972602747,
           6.970802919708049,
           -5.480442176870753,
           2.6770833333333286,
           null,
           null,
           null,
           -5.6328125,
           -2.514873854650446,
           null,
           null,
           null,
           null
          ],
          "coloraxis": "coloraxis",
          "symbol": "circle"
         },
         "mode": "markers+text",
         "name": "",
         "orientation": "v",
         "showlegend": false,
         "text": [
          "BOGOTÁ. D.C.-BOGOTÁ. D.C.",
          "ANTIOQUIA-MEDELLÍN",
          "ATLÁNTICO-BARRANQUILLA",
          "BOLÍVAR-CARTAGENA DE INDIAS",
          "CALDAS-MANIZALES",
          "ANTIOQUIA-BELLO",
          "META-VILLAVICENCIO",
          "ATLÁNTICO-SOLEDAD",
          "ANTIOQUIA-ITAGÜÍ",
          "ANTIOQUIA-ENVIGADO",
          "BOLÍVAR-MAGANGUÉ",
          "BOYACÁ-TUNJA",
          "BOYACÁ-DUITAMA",
          "ANTIOQUIA-APARTADÓ",
          "BOYACÁ-SOGAMOSO",
          "ANTIOQUIA-TURBO",
          "ATLÁNTICO-SABANALARGA",
          "BOLÍVAR-TURBACO",
          "ANTIOQUIA-CAUCASIA",
          "ANTIOQUIA-COPACABANA",
          "CALDAS-RIOSUCIO",
          "META-ACACÍAS",
          "ATLÁNTICO-MALAMBO",
          "BOLÍVAR-EL CARMEN DE BOLÍVAR",
          "ANTIOQUIA-RIONEGRO",
          "ANTIOQUIA-SABANETA",
          "ANTIOQUIA-CALDAS",
          "BOYACÁ-CHIQUINQUIRÁ",
          "CALDAS-VILLAMARÍA",
          "BOLÍVAR-ARJONA",
          "CALDAS-LA DORADA",
          "CALDAS-CHINCHINÁ",
          "ANTIOQUIA-EL BAGRE",
          "META-GRANADA",
          "ANTIOQUIA-YARUMAL",
          "ATLÁNTICO-BARANOA",
          "ANTIOQUIA-BARBOSA",
          "CALDAS-AGUADAS",
          "CALDAS-ANSERMA",
          "BOYACÁ-PUERTO BOYACÁ"
         ],
         "textposition": "top center",
         "type": "scatter",
         "x": [
          74.13800647589044,
          73.09965016431677,
          74.5529854760624,
          73.18245778611632,
          73.76184267709691,
          69.8920134983127,
          71.84167709637045,
          69.69862068965517,
          71.18874773139746,
          76.95994659546061,
          73.6642120765832,
          72.71955128205127,
          74.25,
          67.21551724137932,
          78.20186915887852,
          65.41038961038961,
          71.56979405034325,
          72.65155131264916,
          67.04155844155844,
          75.46949602122017,
          74.4467005076142,
          69.41359773371104,
          68.21981424148606,
          70.86135693215341,
          71.67455621301775,
          75.27605633802817,
          71.97707736389685,
          70.73972602739725,
          70.02919708029195,
          70.10544217687075,
          69.82291666666667,
          70.66030534351145,
          71.10931174089069,
          69.23430962343096,
          67.6328125,
          71.2568093385214,
          74.27467811158799,
          72.90873015873018,
          70.92796610169492,
          74.96832579185521
         ],
         "xaxis": "x",
         "y": [
          68.68483943241225,
          77.09210526315789,
          67.69186524239934,
          67.44611528822055,
          70,
          82.33333333333333,
          66.16666666666667,
          65.53483606557377,
          69.16666666666667,
          51,
          71.83333333333333,
          57.2,
          52,
          30.5,
          72.33333333333333,
          78.25,
          74.66666666666667,
          74.375,
          71.5,
          64,
          null,
          null,
          67.41025641025641,
          69.4,
          null,
          null,
          null,
          89.5,
          77,
          64.625,
          72.5,
          null,
          null,
          null,
          62,
          68.74193548387096,
          null,
          null,
          null,
          null
         ],
         "yaxis": "y"
        }
       ],
       "layout": {
        "coloraxis": {
         "colorbar": {
          "title": {
           "text": "Expectancy_difference"
          }
         },
         "colorscale": [
          [
           0,
           "#0d0887"
          ],
          [
           0.1111111111111111,
           "#46039f"
          ],
          [
           0.2222222222222222,
           "#7201a8"
          ],
          [
           0.3333333333333333,
           "#9c179e"
          ],
          [
           0.4444444444444444,
           "#bd3786"
          ],
          [
           0.5555555555555556,
           "#d8576b"
          ],
          [
           0.6666666666666666,
           "#ed7953"
          ],
          [
           0.7777777777777778,
           "#fb9f3a"
          ],
          [
           0.8888888888888888,
           "#fdca26"
          ],
          [
           1,
           "#f0f921"
          ]
         ]
        },
        "legend": {
         "tracegroupgap": 0
        },
        "margin": {
         "t": 60
        },
        "template": {
         "data": {
          "bar": [
           {
            "error_x": {
             "color": "#2a3f5f"
            },
            "error_y": {
             "color": "#2a3f5f"
            },
            "marker": {
             "line": {
              "color": "#E5ECF6",
              "width": 0.5
             }
            },
            "type": "bar"
           }
          ],
          "barpolar": [
           {
            "marker": {
             "line": {
              "color": "#E5ECF6",
              "width": 0.5
             }
            },
            "type": "barpolar"
           }
          ],
          "carpet": [
           {
            "aaxis": {
             "endlinecolor": "#2a3f5f",
             "gridcolor": "white",
             "linecolor": "white",
             "minorgridcolor": "white",
             "startlinecolor": "#2a3f5f"
            },
            "baxis": {
             "endlinecolor": "#2a3f5f",
             "gridcolor": "white",
             "linecolor": "white",
             "minorgridcolor": "white",
             "startlinecolor": "#2a3f5f"
            },
            "type": "carpet"
           }
          ],
          "choropleth": [
           {
            "colorbar": {
             "outlinewidth": 0,
             "ticks": ""
            },
            "type": "choropleth"
           }
          ],
          "contour": [
           {
            "colorbar": {
             "outlinewidth": 0,
             "ticks": ""
            },
            "colorscale": [
             [
              0,
              "#0d0887"
             ],
             [
              0.1111111111111111,
              "#46039f"
             ],
             [
              0.2222222222222222,
              "#7201a8"
             ],
             [
              0.3333333333333333,
              "#9c179e"
             ],
             [
              0.4444444444444444,
              "#bd3786"
             ],
             [
              0.5555555555555556,
              "#d8576b"
             ],
             [
              0.6666666666666666,
              "#ed7953"
             ],
             [
              0.7777777777777778,
              "#fb9f3a"
             ],
             [
              0.8888888888888888,
              "#fdca26"
             ],
             [
              1,
              "#f0f921"
             ]
            ],
            "type": "contour"
           }
          ],
          "contourcarpet": [
           {
            "colorbar": {
             "outlinewidth": 0,
             "ticks": ""
            },
            "type": "contourcarpet"
           }
          ],
          "heatmap": [
           {
            "colorbar": {
             "outlinewidth": 0,
             "ticks": ""
            },
            "colorscale": [
             [
              0,
              "#0d0887"
             ],
             [
              0.1111111111111111,
              "#46039f"
             ],
             [
              0.2222222222222222,
              "#7201a8"
             ],
             [
              0.3333333333333333,
              "#9c179e"
             ],
             [
              0.4444444444444444,
              "#bd3786"
             ],
             [
              0.5555555555555556,
              "#d8576b"
             ],
             [
              0.6666666666666666,
              "#ed7953"
             ],
             [
              0.7777777777777778,
              "#fb9f3a"
             ],
             [
              0.8888888888888888,
              "#fdca26"
             ],
             [
              1,
              "#f0f921"
             ]
            ],
            "type": "heatmap"
           }
          ],
          "heatmapgl": [
           {
            "colorbar": {
             "outlinewidth": 0,
             "ticks": ""
            },
            "colorscale": [
             [
              0,
              "#0d0887"
             ],
             [
              0.1111111111111111,
              "#46039f"
             ],
             [
              0.2222222222222222,
              "#7201a8"
             ],
             [
              0.3333333333333333,
              "#9c179e"
             ],
             [
              0.4444444444444444,
              "#bd3786"
             ],
             [
              0.5555555555555556,
              "#d8576b"
             ],
             [
              0.6666666666666666,
              "#ed7953"
             ],
             [
              0.7777777777777778,
              "#fb9f3a"
             ],
             [
              0.8888888888888888,
              "#fdca26"
             ],
             [
              1,
              "#f0f921"
             ]
            ],
            "type": "heatmapgl"
           }
          ],
          "histogram": [
           {
            "marker": {
             "colorbar": {
              "outlinewidth": 0,
              "ticks": ""
             }
            },
            "type": "histogram"
           }
          ],
          "histogram2d": [
           {
            "colorbar": {
             "outlinewidth": 0,
             "ticks": ""
            },
            "colorscale": [
             [
              0,
              "#0d0887"
             ],
             [
              0.1111111111111111,
              "#46039f"
             ],
             [
              0.2222222222222222,
              "#7201a8"
             ],
             [
              0.3333333333333333,
              "#9c179e"
             ],
             [
              0.4444444444444444,
              "#bd3786"
             ],
             [
              0.5555555555555556,
              "#d8576b"
             ],
             [
              0.6666666666666666,
              "#ed7953"
             ],
             [
              0.7777777777777778,
              "#fb9f3a"
             ],
             [
              0.8888888888888888,
              "#fdca26"
             ],
             [
              1,
              "#f0f921"
             ]
            ],
            "type": "histogram2d"
           }
          ],
          "histogram2dcontour": [
           {
            "colorbar": {
             "outlinewidth": 0,
             "ticks": ""
            },
            "colorscale": [
             [
              0,
              "#0d0887"
             ],
             [
              0.1111111111111111,
              "#46039f"
             ],
             [
              0.2222222222222222,
              "#7201a8"
             ],
             [
              0.3333333333333333,
              "#9c179e"
             ],
             [
              0.4444444444444444,
              "#bd3786"
             ],
             [
              0.5555555555555556,
              "#d8576b"
             ],
             [
              0.6666666666666666,
              "#ed7953"
             ],
             [
              0.7777777777777778,
              "#fb9f3a"
             ],
             [
              0.8888888888888888,
              "#fdca26"
             ],
             [
              1,
              "#f0f921"
             ]
            ],
            "type": "histogram2dcontour"
           }
          ],
          "mesh3d": [
           {
            "colorbar": {
             "outlinewidth": 0,
             "ticks": ""
            },
            "type": "mesh3d"
           }
          ],
          "parcoords": [
           {
            "line": {
             "colorbar": {
              "outlinewidth": 0,
              "ticks": ""
             }
            },
            "type": "parcoords"
           }
          ],
          "pie": [
           {
            "automargin": true,
            "type": "pie"
           }
          ],
          "scatter": [
           {
            "marker": {
             "colorbar": {
              "outlinewidth": 0,
              "ticks": ""
             }
            },
            "type": "scatter"
           }
          ],
          "scatter3d": [
           {
            "line": {
             "colorbar": {
              "outlinewidth": 0,
              "ticks": ""
             }
            },
            "marker": {
             "colorbar": {
              "outlinewidth": 0,
              "ticks": ""
             }
            },
            "type": "scatter3d"
           }
          ],
          "scattercarpet": [
           {
            "marker": {
             "colorbar": {
              "outlinewidth": 0,
              "ticks": ""
             }
            },
            "type": "scattercarpet"
           }
          ],
          "scattergeo": [
           {
            "marker": {
             "colorbar": {
              "outlinewidth": 0,
              "ticks": ""
             }
            },
            "type": "scattergeo"
           }
          ],
          "scattergl": [
           {
            "marker": {
             "colorbar": {
              "outlinewidth": 0,
              "ticks": ""
             }
            },
            "type": "scattergl"
           }
          ],
          "scattermapbox": [
           {
            "marker": {
             "colorbar": {
              "outlinewidth": 0,
              "ticks": ""
             }
            },
            "type": "scattermapbox"
           }
          ],
          "scatterpolar": [
           {
            "marker": {
             "colorbar": {
              "outlinewidth": 0,
              "ticks": ""
             }
            },
            "type": "scatterpolar"
           }
          ],
          "scatterpolargl": [
           {
            "marker": {
             "colorbar": {
              "outlinewidth": 0,
              "ticks": ""
             }
            },
            "type": "scatterpolargl"
           }
          ],
          "scatterternary": [
           {
            "marker": {
             "colorbar": {
              "outlinewidth": 0,
              "ticks": ""
             }
            },
            "type": "scatterternary"
           }
          ],
          "surface": [
           {
            "colorbar": {
             "outlinewidth": 0,
             "ticks": ""
            },
            "colorscale": [
             [
              0,
              "#0d0887"
             ],
             [
              0.1111111111111111,
              "#46039f"
             ],
             [
              0.2222222222222222,
              "#7201a8"
             ],
             [
              0.3333333333333333,
              "#9c179e"
             ],
             [
              0.4444444444444444,
              "#bd3786"
             ],
             [
              0.5555555555555556,
              "#d8576b"
             ],
             [
              0.6666666666666666,
              "#ed7953"
             ],
             [
              0.7777777777777778,
              "#fb9f3a"
             ],
             [
              0.8888888888888888,
              "#fdca26"
             ],
             [
              1,
              "#f0f921"
             ]
            ],
            "type": "surface"
           }
          ],
          "table": [
           {
            "cells": {
             "fill": {
              "color": "#EBF0F8"
             },
             "line": {
              "color": "white"
             }
            },
            "header": {
             "fill": {
              "color": "#C8D4E3"
             },
             "line": {
              "color": "white"
             }
            },
            "type": "table"
           }
          ]
         },
         "layout": {
          "annotationdefaults": {
           "arrowcolor": "#2a3f5f",
           "arrowhead": 0,
           "arrowwidth": 1
          },
          "coloraxis": {
           "colorbar": {
            "outlinewidth": 0,
            "ticks": ""
           }
          },
          "colorscale": {
           "diverging": [
            [
             0,
             "#8e0152"
            ],
            [
             0.1,
             "#c51b7d"
            ],
            [
             0.2,
             "#de77ae"
            ],
            [
             0.3,
             "#f1b6da"
            ],
            [
             0.4,
             "#fde0ef"
            ],
            [
             0.5,
             "#f7f7f7"
            ],
            [
             0.6,
             "#e6f5d0"
            ],
            [
             0.7,
             "#b8e186"
            ],
            [
             0.8,
             "#7fbc41"
            ],
            [
             0.9,
             "#4d9221"
            ],
            [
             1,
             "#276419"
            ]
           ],
           "sequential": [
            [
             0,
             "#0d0887"
            ],
            [
             0.1111111111111111,
             "#46039f"
            ],
            [
             0.2222222222222222,
             "#7201a8"
            ],
            [
             0.3333333333333333,
             "#9c179e"
            ],
            [
             0.4444444444444444,
             "#bd3786"
            ],
            [
             0.5555555555555556,
             "#d8576b"
            ],
            [
             0.6666666666666666,
             "#ed7953"
            ],
            [
             0.7777777777777778,
             "#fb9f3a"
            ],
            [
             0.8888888888888888,
             "#fdca26"
            ],
            [
             1,
             "#f0f921"
            ]
           ],
           "sequentialminus": [
            [
             0,
             "#0d0887"
            ],
            [
             0.1111111111111111,
             "#46039f"
            ],
            [
             0.2222222222222222,
             "#7201a8"
            ],
            [
             0.3333333333333333,
             "#9c179e"
            ],
            [
             0.4444444444444444,
             "#bd3786"
            ],
            [
             0.5555555555555556,
             "#d8576b"
            ],
            [
             0.6666666666666666,
             "#ed7953"
            ],
            [
             0.7777777777777778,
             "#fb9f3a"
            ],
            [
             0.8888888888888888,
             "#fdca26"
            ],
            [
             1,
             "#f0f921"
            ]
           ]
          },
          "colorway": [
           "#636efa",
           "#EF553B",
           "#00cc96",
           "#ab63fa",
           "#FFA15A",
           "#19d3f3",
           "#FF6692",
           "#B6E880",
           "#FF97FF",
           "#FECB52"
          ],
          "font": {
           "color": "#2a3f5f"
          },
          "geo": {
           "bgcolor": "white",
           "lakecolor": "white",
           "landcolor": "#E5ECF6",
           "showlakes": true,
           "showland": true,
           "subunitcolor": "white"
          },
          "hoverlabel": {
           "align": "left"
          },
          "hovermode": "closest",
          "mapbox": {
           "style": "light"
          },
          "paper_bgcolor": "white",
          "plot_bgcolor": "#E5ECF6",
          "polar": {
           "angularaxis": {
            "gridcolor": "white",
            "linecolor": "white",
            "ticks": ""
           },
           "bgcolor": "#E5ECF6",
           "radialaxis": {
            "gridcolor": "white",
            "linecolor": "white",
            "ticks": ""
           }
          },
          "scene": {
           "xaxis": {
            "backgroundcolor": "#E5ECF6",
            "gridcolor": "white",
            "gridwidth": 2,
            "linecolor": "white",
            "showbackground": true,
            "ticks": "",
            "zerolinecolor": "white"
           },
           "yaxis": {
            "backgroundcolor": "#E5ECF6",
            "gridcolor": "white",
            "gridwidth": 2,
            "linecolor": "white",
            "showbackground": true,
            "ticks": "",
            "zerolinecolor": "white"
           },
           "zaxis": {
            "backgroundcolor": "#E5ECF6",
            "gridcolor": "white",
            "gridwidth": 2,
            "linecolor": "white",
            "showbackground": true,
            "ticks": "",
            "zerolinecolor": "white"
           }
          },
          "shapedefaults": {
           "line": {
            "color": "#2a3f5f"
           }
          },
          "ternary": {
           "aaxis": {
            "gridcolor": "white",
            "linecolor": "white",
            "ticks": ""
           },
           "baxis": {
            "gridcolor": "white",
            "linecolor": "white",
            "ticks": ""
           },
           "bgcolor": "#E5ECF6",
           "caxis": {
            "gridcolor": "white",
            "linecolor": "white",
            "ticks": ""
           }
          },
          "title": {
           "x": 0.05
          },
          "xaxis": {
           "automargin": true,
           "gridcolor": "white",
           "linecolor": "white",
           "ticks": "",
           "title": {
            "standoff": 15
           },
           "zerolinecolor": "white",
           "zerolinewidth": 2
          },
          "yaxis": {
           "automargin": true,
           "gridcolor": "white",
           "linecolor": "white",
           "ticks": "",
           "title": {
            "standoff": 15
           },
           "zerolinecolor": "white",
           "zerolinewidth": 2
          }
         }
        },
        "title": {
         "text": "Life Expectency vs Avg age COVID death by City",
         "x": 0.5
        },
        "xaxis": {
         "anchor": "y",
         "domain": [
          0,
          1
         ],
         "title": {
          "text": "Life_Expectancy_Censo"
         }
        },
        "yaxis": {
         "anchor": "x",
         "domain": [
          0,
          1
         ],
         "title": {
          "text": "Avg_Death_Age_Covid"
         }
        }
       }
      },
      "text/html": [
       "<div>\n",
       "        \n",
       "        \n",
       "            <div id=\"36012ad4-dc1a-456d-bb79-2592a9ed7342\" class=\"plotly-graph-div\" style=\"height:525px; width:100%;\"></div>\n",
       "            <script type=\"text/javascript\">\n",
       "                require([\"plotly\"], function(Plotly) {\n",
       "                    window.PLOTLYENV=window.PLOTLYENV || {};\n",
       "                    \n",
       "                if (document.getElementById(\"36012ad4-dc1a-456d-bb79-2592a9ed7342\")) {\n",
       "                    Plotly.newPlot(\n",
       "                        '36012ad4-dc1a-456d-bb79-2592a9ed7342',\n",
       "                        [{\"hovertemplate\": \"Life_Expectancy_Censo=%{x}<br>Avg_Death_Age_Covid=%{y}<br>Dpto-Mpio=%{text}<br>Expectancy_difference=%{marker.color}<extra></extra>\", \"legendgroup\": \"\", \"marker\": {\"color\": [-5.453167043478189, 3.99245509884112, -6.861120233663058, -5.7363424978957624, -3.761842677096908, 12.441319835020622, -5.675010429703775, -4.163784624081401, -2.0220810647307843, -25.959946595460607, -1.830878743249869, -15.519551282051268, -22.25, -36.71551724137932, -5.8685358255451945, 12.839610389610385, 3.0968726163234237, 1.7234486873508388, 4.458441558441564, -11.469496021220166, null, null, -0.8095578312296539, -1.4613569321534072, null, null, null, 18.760273972602747, 6.970802919708049, -5.480442176870753, 2.6770833333333286, null, null, null, -5.6328125, -2.514873854650446, null, null, null, null], \"coloraxis\": \"coloraxis\", \"symbol\": \"circle\"}, \"mode\": \"markers+text\", \"name\": \"\", \"orientation\": \"v\", \"showlegend\": false, \"text\": [\"BOGOT\\u00c1. D.C.-BOGOT\\u00c1. D.C.\", \"ANTIOQUIA-MEDELL\\u00cdN\", \"ATL\\u00c1NTICO-BARRANQUILLA\", \"BOL\\u00cdVAR-CARTAGENA DE INDIAS\", \"CALDAS-MANIZALES\", \"ANTIOQUIA-BELLO\", \"META-VILLAVICENCIO\", \"ATL\\u00c1NTICO-SOLEDAD\", \"ANTIOQUIA-ITAG\\u00dc\\u00cd\", \"ANTIOQUIA-ENVIGADO\", \"BOL\\u00cdVAR-MAGANGU\\u00c9\", \"BOYAC\\u00c1-TUNJA\", \"BOYAC\\u00c1-DUITAMA\", \"ANTIOQUIA-APARTAD\\u00d3\", \"BOYAC\\u00c1-SOGAMOSO\", \"ANTIOQUIA-TURBO\", \"ATL\\u00c1NTICO-SABANALARGA\", \"BOL\\u00cdVAR-TURBACO\", \"ANTIOQUIA-CAUCASIA\", \"ANTIOQUIA-COPACABANA\", \"CALDAS-RIOSUCIO\", \"META-ACAC\\u00cdAS\", \"ATL\\u00c1NTICO-MALAMBO\", \"BOL\\u00cdVAR-EL CARMEN DE BOL\\u00cdVAR\", \"ANTIOQUIA-RIONEGRO\", \"ANTIOQUIA-SABANETA\", \"ANTIOQUIA-CALDAS\", \"BOYAC\\u00c1-CHIQUINQUIR\\u00c1\", \"CALDAS-VILLAMAR\\u00cdA\", \"BOL\\u00cdVAR-ARJONA\", \"CALDAS-LA DORADA\", \"CALDAS-CHINCHIN\\u00c1\", \"ANTIOQUIA-EL BAGRE\", \"META-GRANADA\", \"ANTIOQUIA-YARUMAL\", \"ATL\\u00c1NTICO-BARANOA\", \"ANTIOQUIA-BARBOSA\", \"CALDAS-AGUADAS\", \"CALDAS-ANSERMA\", \"BOYAC\\u00c1-PUERTO BOYAC\\u00c1\"], \"textposition\": \"top center\", \"type\": \"scatter\", \"x\": [74.13800647589044, 73.09965016431677, 74.5529854760624, 73.18245778611632, 73.76184267709691, 69.8920134983127, 71.84167709637045, 69.69862068965517, 71.18874773139746, 76.95994659546061, 73.6642120765832, 72.71955128205127, 74.25, 67.21551724137932, 78.20186915887852, 65.41038961038961, 71.56979405034325, 72.65155131264916, 67.04155844155844, 75.46949602122017, 74.4467005076142, 69.41359773371104, 68.21981424148606, 70.86135693215341, 71.67455621301775, 75.27605633802817, 71.97707736389685, 70.73972602739725, 70.02919708029195, 70.10544217687075, 69.82291666666667, 70.66030534351145, 71.10931174089069, 69.23430962343096, 67.6328125, 71.2568093385214, 74.27467811158799, 72.90873015873018, 70.92796610169492, 74.96832579185521], \"xaxis\": \"x\", \"y\": [68.68483943241225, 77.09210526315789, 67.69186524239934, 67.44611528822055, 70.0, 82.33333333333333, 66.16666666666667, 65.53483606557377, 69.16666666666667, 51.0, 71.83333333333333, 57.2, 52.0, 30.5, 72.33333333333333, 78.25, 74.66666666666667, 74.375, 71.5, 64.0, null, null, 67.41025641025641, 69.4, null, null, null, 89.5, 77.0, 64.625, 72.5, null, null, null, 62.0, 68.74193548387096, null, null, null, null], \"yaxis\": \"y\"}],\n",
       "                        {\"coloraxis\": {\"colorbar\": {\"title\": {\"text\": \"Expectancy_difference\"}}, \"colorscale\": [[0.0, \"#0d0887\"], [0.1111111111111111, \"#46039f\"], [0.2222222222222222, \"#7201a8\"], [0.3333333333333333, \"#9c179e\"], [0.4444444444444444, \"#bd3786\"], [0.5555555555555556, \"#d8576b\"], [0.6666666666666666, \"#ed7953\"], [0.7777777777777778, \"#fb9f3a\"], [0.8888888888888888, \"#fdca26\"], [1.0, \"#f0f921\"]]}, \"legend\": {\"tracegroupgap\": 0}, \"margin\": {\"t\": 60}, \"template\": {\"data\": {\"bar\": [{\"error_x\": {\"color\": \"#2a3f5f\"}, \"error_y\": {\"color\": \"#2a3f5f\"}, \"marker\": {\"line\": {\"color\": \"#E5ECF6\", \"width\": 0.5}}, \"type\": \"bar\"}], \"barpolar\": [{\"marker\": {\"line\": {\"color\": \"#E5ECF6\", \"width\": 0.5}}, \"type\": \"barpolar\"}], \"carpet\": [{\"aaxis\": {\"endlinecolor\": \"#2a3f5f\", \"gridcolor\": \"white\", \"linecolor\": \"white\", \"minorgridcolor\": \"white\", \"startlinecolor\": \"#2a3f5f\"}, \"baxis\": {\"endlinecolor\": \"#2a3f5f\", \"gridcolor\": \"white\", \"linecolor\": \"white\", \"minorgridcolor\": \"white\", \"startlinecolor\": \"#2a3f5f\"}, \"type\": \"carpet\"}], \"choropleth\": [{\"colorbar\": {\"outlinewidth\": 0, \"ticks\": \"\"}, \"type\": \"choropleth\"}], \"contour\": [{\"colorbar\": {\"outlinewidth\": 0, \"ticks\": \"\"}, \"colorscale\": [[0.0, \"#0d0887\"], [0.1111111111111111, \"#46039f\"], [0.2222222222222222, \"#7201a8\"], [0.3333333333333333, \"#9c179e\"], [0.4444444444444444, \"#bd3786\"], [0.5555555555555556, \"#d8576b\"], [0.6666666666666666, \"#ed7953\"], [0.7777777777777778, \"#fb9f3a\"], [0.8888888888888888, \"#fdca26\"], [1.0, \"#f0f921\"]], \"type\": \"contour\"}], \"contourcarpet\": [{\"colorbar\": {\"outlinewidth\": 0, \"ticks\": \"\"}, \"type\": \"contourcarpet\"}], \"heatmap\": [{\"colorbar\": {\"outlinewidth\": 0, \"ticks\": \"\"}, \"colorscale\": [[0.0, \"#0d0887\"], [0.1111111111111111, \"#46039f\"], [0.2222222222222222, \"#7201a8\"], [0.3333333333333333, \"#9c179e\"], [0.4444444444444444, \"#bd3786\"], [0.5555555555555556, \"#d8576b\"], [0.6666666666666666, \"#ed7953\"], [0.7777777777777778, \"#fb9f3a\"], [0.8888888888888888, \"#fdca26\"], [1.0, \"#f0f921\"]], \"type\": \"heatmap\"}], \"heatmapgl\": [{\"colorbar\": {\"outlinewidth\": 0, \"ticks\": \"\"}, \"colorscale\": [[0.0, \"#0d0887\"], [0.1111111111111111, \"#46039f\"], [0.2222222222222222, \"#7201a8\"], [0.3333333333333333, \"#9c179e\"], [0.4444444444444444, \"#bd3786\"], [0.5555555555555556, \"#d8576b\"], [0.6666666666666666, \"#ed7953\"], [0.7777777777777778, \"#fb9f3a\"], [0.8888888888888888, \"#fdca26\"], [1.0, \"#f0f921\"]], \"type\": \"heatmapgl\"}], \"histogram\": [{\"marker\": {\"colorbar\": {\"outlinewidth\": 0, \"ticks\": \"\"}}, \"type\": \"histogram\"}], \"histogram2d\": [{\"colorbar\": {\"outlinewidth\": 0, \"ticks\": \"\"}, \"colorscale\": [[0.0, \"#0d0887\"], [0.1111111111111111, \"#46039f\"], [0.2222222222222222, \"#7201a8\"], [0.3333333333333333, \"#9c179e\"], [0.4444444444444444, \"#bd3786\"], [0.5555555555555556, \"#d8576b\"], [0.6666666666666666, \"#ed7953\"], [0.7777777777777778, \"#fb9f3a\"], [0.8888888888888888, \"#fdca26\"], [1.0, \"#f0f921\"]], \"type\": \"histogram2d\"}], \"histogram2dcontour\": [{\"colorbar\": {\"outlinewidth\": 0, \"ticks\": \"\"}, \"colorscale\": [[0.0, \"#0d0887\"], [0.1111111111111111, \"#46039f\"], [0.2222222222222222, \"#7201a8\"], [0.3333333333333333, \"#9c179e\"], [0.4444444444444444, \"#bd3786\"], [0.5555555555555556, \"#d8576b\"], [0.6666666666666666, \"#ed7953\"], [0.7777777777777778, \"#fb9f3a\"], [0.8888888888888888, \"#fdca26\"], [1.0, \"#f0f921\"]], \"type\": \"histogram2dcontour\"}], \"mesh3d\": [{\"colorbar\": {\"outlinewidth\": 0, \"ticks\": \"\"}, \"type\": \"mesh3d\"}], \"parcoords\": [{\"line\": {\"colorbar\": {\"outlinewidth\": 0, \"ticks\": \"\"}}, \"type\": \"parcoords\"}], \"pie\": [{\"automargin\": true, \"type\": \"pie\"}], \"scatter\": [{\"marker\": {\"colorbar\": {\"outlinewidth\": 0, \"ticks\": \"\"}}, \"type\": \"scatter\"}], \"scatter3d\": [{\"line\": {\"colorbar\": {\"outlinewidth\": 0, \"ticks\": \"\"}}, \"marker\": {\"colorbar\": {\"outlinewidth\": 0, \"ticks\": \"\"}}, \"type\": \"scatter3d\"}], \"scattercarpet\": [{\"marker\": {\"colorbar\": {\"outlinewidth\": 0, \"ticks\": \"\"}}, \"type\": \"scattercarpet\"}], \"scattergeo\": [{\"marker\": {\"colorbar\": {\"outlinewidth\": 0, \"ticks\": \"\"}}, \"type\": \"scattergeo\"}], \"scattergl\": [{\"marker\": {\"colorbar\": {\"outlinewidth\": 0, \"ticks\": \"\"}}, \"type\": \"scattergl\"}], \"scattermapbox\": [{\"marker\": {\"colorbar\": {\"outlinewidth\": 0, \"ticks\": \"\"}}, \"type\": \"scattermapbox\"}], \"scatterpolar\": [{\"marker\": {\"colorbar\": {\"outlinewidth\": 0, \"ticks\": \"\"}}, \"type\": \"scatterpolar\"}], \"scatterpolargl\": [{\"marker\": {\"colorbar\": {\"outlinewidth\": 0, \"ticks\": \"\"}}, \"type\": \"scatterpolargl\"}], \"scatterternary\": [{\"marker\": {\"colorbar\": {\"outlinewidth\": 0, \"ticks\": \"\"}}, \"type\": \"scatterternary\"}], \"surface\": [{\"colorbar\": {\"outlinewidth\": 0, \"ticks\": \"\"}, \"colorscale\": [[0.0, \"#0d0887\"], [0.1111111111111111, \"#46039f\"], [0.2222222222222222, \"#7201a8\"], [0.3333333333333333, \"#9c179e\"], [0.4444444444444444, \"#bd3786\"], [0.5555555555555556, \"#d8576b\"], [0.6666666666666666, \"#ed7953\"], [0.7777777777777778, \"#fb9f3a\"], [0.8888888888888888, \"#fdca26\"], [1.0, \"#f0f921\"]], \"type\": \"surface\"}], \"table\": [{\"cells\": {\"fill\": {\"color\": \"#EBF0F8\"}, \"line\": {\"color\": \"white\"}}, \"header\": {\"fill\": {\"color\": \"#C8D4E3\"}, \"line\": {\"color\": \"white\"}}, \"type\": \"table\"}]}, \"layout\": {\"annotationdefaults\": {\"arrowcolor\": \"#2a3f5f\", \"arrowhead\": 0, \"arrowwidth\": 1}, \"coloraxis\": {\"colorbar\": {\"outlinewidth\": 0, \"ticks\": \"\"}}, \"colorscale\": {\"diverging\": [[0, \"#8e0152\"], [0.1, \"#c51b7d\"], [0.2, \"#de77ae\"], [0.3, \"#f1b6da\"], [0.4, \"#fde0ef\"], [0.5, \"#f7f7f7\"], [0.6, \"#e6f5d0\"], [0.7, \"#b8e186\"], [0.8, \"#7fbc41\"], [0.9, \"#4d9221\"], [1, \"#276419\"]], \"sequential\": [[0.0, \"#0d0887\"], [0.1111111111111111, \"#46039f\"], [0.2222222222222222, \"#7201a8\"], [0.3333333333333333, \"#9c179e\"], [0.4444444444444444, \"#bd3786\"], [0.5555555555555556, \"#d8576b\"], [0.6666666666666666, \"#ed7953\"], [0.7777777777777778, \"#fb9f3a\"], [0.8888888888888888, \"#fdca26\"], [1.0, \"#f0f921\"]], \"sequentialminus\": [[0.0, \"#0d0887\"], [0.1111111111111111, \"#46039f\"], [0.2222222222222222, \"#7201a8\"], [0.3333333333333333, \"#9c179e\"], [0.4444444444444444, \"#bd3786\"], [0.5555555555555556, \"#d8576b\"], [0.6666666666666666, \"#ed7953\"], [0.7777777777777778, \"#fb9f3a\"], [0.8888888888888888, \"#fdca26\"], [1.0, \"#f0f921\"]]}, \"colorway\": [\"#636efa\", \"#EF553B\", \"#00cc96\", \"#ab63fa\", \"#FFA15A\", \"#19d3f3\", \"#FF6692\", \"#B6E880\", \"#FF97FF\", \"#FECB52\"], \"font\": {\"color\": \"#2a3f5f\"}, \"geo\": {\"bgcolor\": \"white\", \"lakecolor\": \"white\", \"landcolor\": \"#E5ECF6\", \"showlakes\": true, \"showland\": true, \"subunitcolor\": \"white\"}, \"hoverlabel\": {\"align\": \"left\"}, \"hovermode\": \"closest\", \"mapbox\": {\"style\": \"light\"}, \"paper_bgcolor\": \"white\", \"plot_bgcolor\": \"#E5ECF6\", \"polar\": {\"angularaxis\": {\"gridcolor\": \"white\", \"linecolor\": \"white\", \"ticks\": \"\"}, \"bgcolor\": \"#E5ECF6\", \"radialaxis\": {\"gridcolor\": \"white\", \"linecolor\": \"white\", \"ticks\": \"\"}}, \"scene\": {\"xaxis\": {\"backgroundcolor\": \"#E5ECF6\", \"gridcolor\": \"white\", \"gridwidth\": 2, \"linecolor\": \"white\", \"showbackground\": true, \"ticks\": \"\", \"zerolinecolor\": \"white\"}, \"yaxis\": {\"backgroundcolor\": \"#E5ECF6\", \"gridcolor\": \"white\", \"gridwidth\": 2, \"linecolor\": \"white\", \"showbackground\": true, \"ticks\": \"\", \"zerolinecolor\": \"white\"}, \"zaxis\": {\"backgroundcolor\": \"#E5ECF6\", \"gridcolor\": \"white\", \"gridwidth\": 2, \"linecolor\": \"white\", \"showbackground\": true, \"ticks\": \"\", \"zerolinecolor\": \"white\"}}, \"shapedefaults\": {\"line\": {\"color\": \"#2a3f5f\"}}, \"ternary\": {\"aaxis\": {\"gridcolor\": \"white\", \"linecolor\": \"white\", \"ticks\": \"\"}, \"baxis\": {\"gridcolor\": \"white\", \"linecolor\": \"white\", \"ticks\": \"\"}, \"bgcolor\": \"#E5ECF6\", \"caxis\": {\"gridcolor\": \"white\", \"linecolor\": \"white\", \"ticks\": \"\"}}, \"title\": {\"x\": 0.05}, \"xaxis\": {\"automargin\": true, \"gridcolor\": \"white\", \"linecolor\": \"white\", \"ticks\": \"\", \"title\": {\"standoff\": 15}, \"zerolinecolor\": \"white\", \"zerolinewidth\": 2}, \"yaxis\": {\"automargin\": true, \"gridcolor\": \"white\", \"linecolor\": \"white\", \"ticks\": \"\", \"title\": {\"standoff\": 15}, \"zerolinecolor\": \"white\", \"zerolinewidth\": 2}}}, \"title\": {\"text\": \"Life Expectency vs Avg age COVID death by City\", \"x\": 0.5}, \"xaxis\": {\"anchor\": \"y\", \"domain\": [0.0, 1.0], \"title\": {\"text\": \"Life_Expectancy_Censo\"}}, \"yaxis\": {\"anchor\": \"x\", \"domain\": [0.0, 1.0], \"title\": {\"text\": \"Avg_Death_Age_Covid\"}}},\n",
       "                        {\"responsive\": true}\n",
       "                    ).then(function(){\n",
       "                            \n",
       "var gd = document.getElementById('36012ad4-dc1a-456d-bb79-2592a9ed7342');\n",
       "var x = new MutationObserver(function (mutations, observer) {{\n",
       "        var display = window.getComputedStyle(gd).display;\n",
       "        if (!display || display === 'none') {{\n",
       "            console.log([gd, 'removed!']);\n",
       "            Plotly.purge(gd);\n",
       "            observer.disconnect();\n",
       "        }}\n",
       "}});\n",
       "\n",
       "// Listen for the removal of the full notebook cells\n",
       "var notebookContainer = gd.closest('#notebook-container');\n",
       "if (notebookContainer) {{\n",
       "    x.observe(notebookContainer, {childList: true});\n",
       "}}\n",
       "\n",
       "// Listen for the clearing of the current output cell\n",
       "var outputEl = gd.closest('.output');\n",
       "if (outputEl) {{\n",
       "    x.observe(outputEl, {childList: true});\n",
       "}}\n",
       "\n",
       "                        })\n",
       "                };\n",
       "                });\n",
       "            </script>\n",
       "        </div>"
      ]
     },
     "metadata": {},
     "output_type": "display_data"
    }
   ],
   "source": [
    "fig = px.scatter(df_plot[:40], x=\"Life_Expectancy_Censo\", y=\"Avg_Death_Age_Covid\", text=\"Dpto-Mpio\", \n",
    "                 size_max=100, color=\"Expectancy_difference\")\n",
    "fig.update_traces(textposition='top center')\n",
    "fig.update_layout(title_text='Life Expectency vs Avg age COVID death by City', title_x=0.5)\n",
    "fig.show()"
   ]
  }
 ],
 "metadata": {
  "kernelspec": {
   "display_name": "Python [conda env:censo]",
   "language": "python",
   "name": "conda-env-censo-py"
  },
  "language_info": {
   "codemirror_mode": {
    "name": "ipython",
    "version": 3
   },
   "file_extension": ".py",
   "mimetype": "text/x-python",
   "name": "python",
   "nbconvert_exporter": "python",
   "pygments_lexer": "ipython3",
   "version": "3.7.7"
  }
 },
 "nbformat": 4,
 "nbformat_minor": 2
}
