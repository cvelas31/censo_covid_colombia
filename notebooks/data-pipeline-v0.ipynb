{
 "cells": [
  {
   "cell_type": "markdown",
   "metadata": {},
   "source": [
    "# Data Pipeline\n",
    "\n",
    "# Goal\n",
    "Create a data pipeline for the Census and Covid-19. And save to s3.\n",
    "\n",
    "# Methodology\n",
    "- Clean the data with the foundings in Exploration notebooks\n",
    "- Concatenate and create the complete dataset for census data. (One for personas and another for fallecidos)\n",
    "- This data will be upload to S3.\n",
    "\n",
    "\n",
    "## Sections\n",
    "1. [**Requirements**](#Requirements)\n",
    "2. [**Functions**](#Functions)\n",
    "3. [**Inputs**](#Inputs)\n",
    "4. [**Pipeline**](#Pipeline)\n",
    "    - [**Load_data**](#Load_data)\n",
    "    - [**JoinTables**](#JoinTables)"
   ]
  },
  {
   "cell_type": "markdown",
   "metadata": {},
   "source": [
    "# Requirements"
   ]
  },
  {
   "cell_type": "code",
   "execution_count": 1,
   "metadata": {
    "scrolled": true
   },
   "outputs": [
    {
     "data": {
      "application/vnd.jupyter.widget-view+json": {
       "model_id": "041bf9cd3265485dab9751daf1b39e7a",
       "version_major": 2,
       "version_minor": 0
      },
      "text/plain": [
       "VBox()"
      ]
     },
     "metadata": {},
     "output_type": "display_data"
    },
    {
     "name": "stdout",
     "output_type": "stream",
     "text": [
      "Starting Spark application\n"
     ]
    },
    {
     "data": {
      "text/html": [
       "<table>\n",
       "<tr><th>ID</th><th>YARN Application ID</th><th>Kind</th><th>State</th><th>Spark UI</th><th>Driver log</th><th>Current session?</th></tr><tr><td>3</td><td>application_1594762576659_0004</td><td>pyspark</td><td>idle</td><td><a target=\"_blank\" href=\"http://ip-172-31-63-189.us-west-2.compute.internal:20888/proxy/application_1594762576659_0004/\">Link</a></td><td><a target=\"_blank\" href=\"http://ip-172-31-53-224.us-west-2.compute.internal:8042/node/containerlogs/container_1594762576659_0004_01_000001/livy\">Link</a></td><td>✔</td></tr></table>"
      ],
      "text/plain": [
       "<IPython.core.display.HTML object>"
      ]
     },
     "metadata": {},
     "output_type": "display_data"
    },
    {
     "data": {
      "application/vnd.jupyter.widget-view+json": {
       "model_id": "",
       "version_major": 2,
       "version_minor": 0
      },
      "text/plain": [
       "FloatProgress(value=0.0, bar_style='info', description='Progress:', layout=Layout(height='25px', width='50%'),…"
      ]
     },
     "metadata": {},
     "output_type": "display_data"
    },
    {
     "name": "stdout",
     "output_type": "stream",
     "text": [
      "SparkSession available as 'spark'.\n"
     ]
    },
    {
     "data": {
      "application/vnd.jupyter.widget-view+json": {
       "model_id": "",
       "version_major": 2,
       "version_minor": 0
      },
      "text/plain": [
       "FloatProgress(value=0.0, bar_style='info', description='Progress:', layout=Layout(height='25px', width='50%'),…"
      ]
     },
     "metadata": {},
     "output_type": "display_data"
    },
    {
     "name": "stdout",
     "output_type": "stream",
     "text": [
      "Collecting pandas\n",
      "  Using cached https://files.pythonhosted.org/packages/af/f3/683bf2547a3eaeec15b39cef86f61e921b3b187f250fcd2b5c5fb4386369/pandas-1.0.5-cp37-cp37m-manylinux1_x86_64.whl\n",
      "Requirement already satisfied: pytz>=2017.2 in /usr/local/lib/python3.7/site-packages (from pandas)\n",
      "Requirement already satisfied: numpy>=1.13.3 in /usr/local/lib64/python3.7/site-packages (from pandas)\n",
      "Collecting python-dateutil>=2.6.1 (from pandas)\n",
      "  Using cached https://files.pythonhosted.org/packages/d4/70/d60450c3dd48ef87586924207ae8907090de0b306af2bce5d134d78615cb/python_dateutil-2.8.1-py2.py3-none-any.whl\n",
      "Requirement already satisfied: six>=1.5 in /usr/local/lib/python3.7/site-packages (from python-dateutil>=2.6.1->pandas)\n",
      "Installing collected packages: python-dateutil, pandas\n",
      "Successfully installed pandas-1.0.5 python-dateutil-2.8.1\n",
      "\n",
      "Collecting boto3\n",
      "  Using cached https://files.pythonhosted.org/packages/3c/f4/41c1d8a69b07b2a087a7e552cbed21111ff36706fec2f1ba9983fba95771/boto3-1.14.20-py2.py3-none-any.whl\n",
      "Requirement already satisfied: jmespath<1.0.0,>=0.7.1 in /usr/local/lib/python3.7/site-packages (from boto3)\n",
      "Collecting botocore<1.18.0,>=1.17.20 (from boto3)\n",
      "  Using cached https://files.pythonhosted.org/packages/87/a6/1710181d97a6763ccced7f69fff8beea751633af2a101c3d02826cf4acce/botocore-1.17.20-py2.py3-none-any.whl\n",
      "Collecting s3transfer<0.4.0,>=0.3.0 (from boto3)\n",
      "  Using cached https://files.pythonhosted.org/packages/69/79/e6afb3d8b0b4e96cefbdc690f741d7dd24547ff1f94240c997a26fa908d3/s3transfer-0.3.3-py2.py3-none-any.whl\n",
      "Collecting urllib3<1.26,>=1.20; python_version != \"3.4\" (from botocore<1.18.0,>=1.17.20->boto3)\n",
      "  Using cached https://files.pythonhosted.org/packages/e1/e5/df302e8017440f111c11cc41a6b432838672f5a70aa29227bf58149dc72f/urllib3-1.25.9-py2.py3-none-any.whl\n",
      "Requirement already satisfied: python-dateutil<3.0.0,>=2.1 in /mnt/tmp/1594769081944-0/lib/python3.7/site-packages (from botocore<1.18.0,>=1.17.20->boto3)\n",
      "Collecting docutils<0.16,>=0.10 (from botocore<1.18.0,>=1.17.20->boto3)\n",
      "  Using cached https://files.pythonhosted.org/packages/22/cd/a6aa959dca619918ccb55023b4cb151949c64d4d5d55b3f4ffd7eee0c6e8/docutils-0.15.2-py3-none-any.whl\n",
      "Requirement already satisfied: six>=1.5 in /usr/local/lib/python3.7/site-packages (from python-dateutil<3.0.0,>=2.1->botocore<1.18.0,>=1.17.20->boto3)\n",
      "Installing collected packages: urllib3, docutils, botocore, s3transfer, boto3\n",
      "Successfully installed boto3-1.14.20 botocore-1.17.20 docutils-0.15.2 s3transfer-0.3.3 urllib3-1.25.9"
     ]
    }
   ],
   "source": [
    "#installing packages\n",
    "sc.install_pypi_package(\"pandas\")\n",
    "sc.install_pypi_package(\"boto3\")\n",
    "sc.setCheckpointDir('hdfs:///covid')"
   ]
  },
  {
   "cell_type": "code",
   "execution_count": 2,
   "metadata": {},
   "outputs": [
    {
     "data": {
      "application/vnd.jupyter.widget-view+json": {
       "model_id": "1a04a7fd4afc42168d8ddc65931b942b",
       "version_major": 2,
       "version_minor": 0
      },
      "text/plain": [
       "VBox()"
      ]
     },
     "metadata": {},
     "output_type": "display_data"
    },
    {
     "data": {
      "application/vnd.jupyter.widget-view+json": {
       "model_id": "",
       "version_major": 2,
       "version_minor": 0
      },
      "text/plain": [
       "FloatProgress(value=0.0, bar_style='info', description='Progress:', layout=Layout(height='25px', width='50%'),…"
      ]
     },
     "metadata": {},
     "output_type": "display_data"
    },
    {
     "name": "stdout",
     "output_type": "stream",
     "text": [
      "2048M\n",
      "20"
     ]
    }
   ],
   "source": [
    "import time\n",
    "import os\n",
    "import boto3\n",
    "import gc\n",
    "import sys\n",
    "import numpy as np\n",
    "import pandas as pd\n",
    "import pickle\n",
    "import pyspark\n",
    "from pyspark.sql import SparkSession\n",
    "from pyspark.sql.types import (FloatType, DateType, StructType, StructField, StringType, LongType, \n",
    "    IntegerType, ArrayType, BooleanType, DoubleType)\n",
    "from pyspark.sql import functions as F\n",
    "from pyspark.sql.window import Window\n",
    "from pyspark.ml.feature import VectorAssembler, StandardScaler, QuantileDiscretizer\n",
    "gc.enable()\n",
    "\n",
    "spark = SparkSession.builder.config(\"spark.sql.shuffle.partitions\", 20).appName(\"covid\").getOrCreate()\n",
    "print(spark.sparkContext.getConf().get('spark.driver.memory'))\n",
    "print(spark.sparkContext.getConf().get(\"spark.sql.shuffle.partitions\"))"
   ]
  },
  {
   "cell_type": "markdown",
   "metadata": {},
   "source": [
    "# Functions"
   ]
  },
  {
   "cell_type": "markdown",
   "metadata": {},
   "source": [
    "## Loading data"
   ]
  },
  {
   "cell_type": "code",
   "execution_count": 3,
   "metadata": {},
   "outputs": [
    {
     "data": {
      "application/vnd.jupyter.widget-view+json": {
       "model_id": "ed613c82d7f24b5db2f117c52d4b36c7",
       "version_major": 2,
       "version_minor": 0
      },
      "text/plain": [
       "VBox()"
      ]
     },
     "metadata": {},
     "output_type": "display_data"
    },
    {
     "data": {
      "application/vnd.jupyter.widget-view+json": {
       "model_id": "",
       "version_major": 2,
       "version_minor": 0
      },
      "text/plain": [
       "FloatProgress(value=0.0, bar_style='info', description='Progress:', layout=Layout(height='25px', width='50%'),…"
      ]
     },
     "metadata": {},
     "output_type": "display_data"
    }
   ],
   "source": [
    "def build_schema_census(source=\"vivienda\"):\n",
    "    \"\"\"\n",
    "    Build schema for different sources\n",
    "\n",
    "    Parameters:\n",
    "    -----------\n",
    "    source : str\n",
    "        Table source may be: \"VIV\", \"PER\", \"HOG\", \"FALL\", \"MGN\"\n",
    "\n",
    "    Return:\n",
    "    -------\n",
    "    schema : spark.schema\n",
    "        Spark schema for loading source table\n",
    "    \"\"\"\n",
    "    if source == \"VIV\":\n",
    "        schema = StructType([StructField(\"TIPO_REG\", IntegerType()),\n",
    "                             StructField(\"U_DPTO\", IntegerType()),\n",
    "                             StructField(\"U_MPIO\", IntegerType()),\n",
    "                             StructField(\"UA_CLASE\", IntegerType()),\n",
    "                             StructField(\"U_EDIFICA\", IntegerType()),\n",
    "                             StructField(\"COD_ENCUESTAS\", IntegerType()),\n",
    "                             StructField(\"U_VIVIENDA\", IntegerType()),\n",
    "                             StructField(\"UVA_ESTATER\", IntegerType()),\n",
    "                             StructField(\"UVA1_TIPOTER\", DoubleType()),\n",
    "                             StructField(\"UVA2_CODTER\", DoubleType()),\n",
    "                             StructField(\"UVA_ESTA_AREAPROT\", IntegerType()),\n",
    "                             StructField(\"UVA1_COD_AREAPROT\", DoubleType()),\n",
    "                             StructField(\"UVA_USO_UNIDAD\", IntegerType()),\n",
    "                             StructField(\"V_TIPO_VIV\", DoubleType()),\n",
    "                             StructField(\"V_CON_OCUP\", DoubleType()),\n",
    "                             StructField(\"V_TOT_HOG\", DoubleType()),\n",
    "                             StructField(\"V_MAT_PARED\", DoubleType()),\n",
    "                             StructField(\"V_MAT_PISO\", DoubleType()),\n",
    "                             StructField(\"VA_EE\", DoubleType()),\n",
    "                             StructField(\"VA1_ESTRATO\", DoubleType()),\n",
    "                             StructField(\"VB_ACU\", DoubleType()),\n",
    "                             StructField(\"VC_ALC\", DoubleType()),\n",
    "                             StructField(\"VD_GAS\", DoubleType()),\n",
    "                             StructField(\"VE_RECBAS\", DoubleType()),\n",
    "                             StructField(\"VE1_QSEM\", DoubleType()),\n",
    "                             StructField(\"VF_INTERNET\", DoubleType()),\n",
    "                             StructField(\"V_TIPO_SERSA\", DoubleType()),\n",
    "                             StructField(\"L_TIPO_INST\", DoubleType()),\n",
    "                             StructField(\"L_EXISTEHOG\", DoubleType()),\n",
    "                             StructField(\"L_TOT_PERL\", DoubleType())\n",
    "                             ])\n",
    "    elif source == \"HOG\":\n",
    "        schema = StructType([StructField(\"TIPO_REG\", IntegerType()),\n",
    "                             StructField(\"U_DPTO\", IntegerType()),\n",
    "                             StructField(\"U_MPIO\", IntegerType()),\n",
    "                             StructField(\"UA_CLASE\", IntegerType()),\n",
    "                             StructField(\"COD_ENCUESTAS\", IntegerType()),\n",
    "                             StructField(\"U_VIVIENDA\", IntegerType()),\n",
    "                             StructField(\"H_NROHOG\", DoubleType()),\n",
    "                             StructField(\"H_NRO_CUARTOS\", DoubleType()),\n",
    "                             StructField(\"H_NRO_DORMIT\", DoubleType()),\n",
    "                             StructField(\"H_DONDE_PREPALIM\", DoubleType()),\n",
    "                             StructField(\"H_AGUA_COCIN\", DoubleType()),\n",
    "                             StructField(\"HA_NRO_FALL\", DoubleType()),\n",
    "                             StructField(\"HA_TOT_PER\", DoubleType())\n",
    "                             ])\n",
    "    elif source == \"PER\":\n",
    "        schema = StructType([StructField(\"TIPO_REG\", IntegerType()),\n",
    "                             StructField(\"U_DPTO\", IntegerType()),\n",
    "                             StructField(\"U_MPIO\", IntegerType()),\n",
    "                             StructField(\"UA_CLASE\", IntegerType()),\n",
    "                             StructField(\"U_EDIFICA\", IntegerType()),\n",
    "                             StructField(\"COD_ENCUESTAS\", IntegerType()),\n",
    "                             StructField(\"U_VIVIENDA\", IntegerType()),\n",
    "                             StructField(\"P_NROHOG\", DoubleType()),\n",
    "                             StructField(\"P_NRO_PER\", IntegerType()),\n",
    "                             StructField(\"P_SEXO\", IntegerType()),\n",
    "                             StructField(\"P_EDADR\", IntegerType()),\n",
    "                             StructField(\"P_PARENTESCOR\", DoubleType()),\n",
    "                             StructField(\"PA1_GRP_ETNIC\", IntegerType()),\n",
    "                             StructField(\"PA11_COD_ETNIA\", DoubleType()),\n",
    "                             StructField(\"PA12_CLAN\", DoubleType()),\n",
    "                             StructField(\"PA21_COD_VITSA\", DoubleType()),\n",
    "                             StructField(\"PA22_COD_KUMPA\", DoubleType()),\n",
    "                             StructField(\"PA_HABLA_LENG\", DoubleType()),\n",
    "                             StructField(\"PA1_ENTIENDE\", DoubleType()),\n",
    "                             StructField(\"PB_OTRAS_LENG\", DoubleType()),\n",
    "                             StructField(\"PB1_QOTRAS_LENG\", DoubleType()),\n",
    "                             StructField(\"PA_LUG_NAC\", IntegerType()),\n",
    "                             StructField(\"PA_VIVIA_5ANOS\", DoubleType()),\n",
    "                             StructField(\"PA_VIVIA_1ANO\", DoubleType()),\n",
    "                             StructField(\"P_ENFERMO\", DoubleType()),\n",
    "                             StructField(\"P_QUEHIZO_PPAL\", DoubleType()),\n",
    "                             StructField(\"PA_LO_ATENDIERON\", DoubleType()),\n",
    "                             StructField(\"PA1_CALIDAD_SERV\", DoubleType()),\n",
    "                             StructField(\"CONDICION_FISICA\", DoubleType()),\n",
    "                             StructField(\"P_ALFABETA\", DoubleType()),\n",
    "                             StructField(\"PA_ASISTENCIA\", DoubleType()),\n",
    "                             StructField(\"P_NIVEL_ANOSR\", DoubleType()),\n",
    "                             StructField(\"P_TRABAJO\", DoubleType()),\n",
    "                             StructField(\"P_EST_CIVIL\", DoubleType()),\n",
    "                             StructField(\"PA_HNV\", DoubleType()),\n",
    "                             StructField(\"PA1_THNV\", DoubleType()),\n",
    "                             StructField(\"PA2_HNVH\", DoubleType()),\n",
    "                             StructField(\"PA3_HNVM\", DoubleType()),\n",
    "                             StructField(\"PA_HNVS\", DoubleType()),\n",
    "                             StructField(\"PA1_THSV\", DoubleType()),\n",
    "                             StructField(\"PA2_HSVH\", DoubleType()),\n",
    "                             StructField(\"PA3_HSVM\", DoubleType()),\n",
    "                             StructField(\"PA_HFC\", DoubleType()),\n",
    "                             StructField(\"PA1_THFC\", DoubleType()),\n",
    "                             StructField(\"PA2_HFCH\", DoubleType()),\n",
    "                             StructField(\"PA3_HFCM\", DoubleType()),\n",
    "                             StructField(\"PA_UHNV\", DoubleType()),\n",
    "                             StructField(\"PA1_MES_UHNV\", DoubleType()),\n",
    "                             StructField(\"PA2_ANO_UHNV\", DoubleType())\n",
    "                             ])\n",
    "    elif source == \"FALL\":\n",
    "        schema = StructType([StructField(\"TIPO_REG\", IntegerType()),\n",
    "                             StructField(\"U_DPTO\", IntegerType()),\n",
    "                             StructField(\"U_MPIO\", IntegerType()),\n",
    "                             StructField(\"UA_CLASE\", IntegerType()),\n",
    "                             StructField(\"COD_ENCUESTAS\", IntegerType()),\n",
    "                             StructField(\"U_VIVIENDA\", IntegerType()),\n",
    "                             StructField(\"F_NROHOG\", IntegerType()),\n",
    "                             StructField(\"FA1_NRO_FALL\", IntegerType()),\n",
    "                             StructField(\"FA2_SEXO_FALL\", IntegerType()),\n",
    "                             StructField(\"FA3_EDAD_FALL\", IntegerType()),\n",
    "                             StructField(\"FA4_CERT_DEFUN\", IntegerType())\n",
    "                             ])\n",
    "    elif source == \"MGN\":\n",
    "        schema = StructType([StructField(\"U_DPTO\", IntegerType()),\n",
    "                             StructField(\"U_MPIO\", IntegerType()),\n",
    "                             StructField(\"UA_CLASE\", IntegerType()),\n",
    "                             StructField(\"UA1_LOCALIDAD\", IntegerType()),\n",
    "                             StructField(\"U_SECT_RUR\", IntegerType()),\n",
    "                             StructField(\"U_SECC_RUR\", IntegerType()),\n",
    "                             StructField(\"UA2_CPOB\", IntegerType()),\n",
    "                             StructField(\"U_SECT_URB\", IntegerType()),\n",
    "                             StructField(\"U_SECC_URB\", IntegerType()),\n",
    "                             StructField(\"U_MZA\", IntegerType()),\n",
    "                             StructField(\"U_EDIFICA\", IntegerType()),\n",
    "                             StructField(\"COD_ENCUESTAS\", IntegerType()),\n",
    "                             StructField(\"U_VIVIENDA\", IntegerType())\n",
    "                             ])\n",
    "    else:\n",
    "        print(\"Source not valid. Enter one of the following sources: VIV, PER, HOG, FALL, MGN\")\n",
    "    return schema\n",
    "\n",
    "\n",
    "def build_schema_covid(source=\"covid\"):\n",
    "    \"\"\"\n",
    "    Build schema for different covid sources\n",
    "\n",
    "    Parameters:\n",
    "    -----------\n",
    "    source : str\n",
    "        Table source may be: \"covid\", \"tests\"\n",
    "\n",
    "    Return:\n",
    "    -------\n",
    "    schema : spark.schema\n",
    "        Spark schema for loading source table\n",
    "    \"\"\"\n",
    "    if source == \"covid\":\n",
    "        schema = StructType([StructField(\"fecha_de_notificaci_n\", DateType()),\n",
    "                             StructField(\"c_digo_divipola\", StringType()),\n",
    "                             StructField(\"ciudad_de_ubicaci_n\", StringType()),\n",
    "                             StructField(\"departamento\", StringType()),\n",
    "                             StructField(\"atenci_n\", StringType()),\n",
    "                             StructField(\"edad\", IntegerType()),\n",
    "                             StructField(\"sexo\", StringType()),\n",
    "                             StructField(\"tipo\", StringType()),\n",
    "                             StructField(\"estado\", StringType()),\n",
    "                             StructField(\"pa_s_de_procedencia\", StringType()),\n",
    "                             StructField(\"fis\", DateType()),\n",
    "                             StructField(\"fecha_diagnostico\", DateType()),\n",
    "                             StructField(\"fecha_recuperado\", DateType()),\n",
    "                             StructField(\"fecha_reporte_web\", DateType()),\n",
    "                             StructField(\"tipo_recuperaci_n\", StringType()),\n",
    "                             StructField(\"codigo_departamento\", StringType()),\n",
    "                             StructField(\"codigo_pais\", StringType()),\n",
    "                             StructField(\"pertenencia_etnica\", StringType()),\n",
    "                             StructField(\"nombre_grupo_etnico\", StringType()),\n",
    "                             StructField(\"fecha_de_muerte\", DateType()),\n",
    "                             StructField(\"Asintomatico\", IntegerType()),\n",
    "                             StructField(\"divipola_dpto\", IntegerType()),\n",
    "                             StructField(\"divipola_mpio\", IntegerType())\n",
    "                             ])\n",
    "    elif source == \"tests\":\n",
    "        schema = StructType([StructField(\"fecha\", DateType()),\n",
    "                             StructField(\"acumuladas\", DoubleType()),\n",
    "                             StructField(\"amazonas\", DoubleType()),\n",
    "                             StructField(\"antioquia\", DoubleType()),\n",
    "                             StructField(\"arauca\", DoubleType()),\n",
    "                             StructField(\"atlantico\", DoubleType()),\n",
    "                             StructField(\"bogota\", DoubleType()),\n",
    "                             StructField(\"bolivar\", DoubleType()),\n",
    "                             StructField(\"boyaca\", DoubleType()),\n",
    "                             StructField(\"caldas\", DoubleType()),\n",
    "                             StructField(\"caqueta\", DoubleType()),\n",
    "                             StructField(\"casanare\", DoubleType()),\n",
    "                             StructField(\"cauca\", DoubleType()),\n",
    "                             StructField(\"cesar\", DoubleType()),\n",
    "                             StructField(\"choco\", DoubleType()),\n",
    "                             StructField(\"cordoba\", DoubleType()),\n",
    "                             StructField(\"cundinamarca\", DoubleType()),\n",
    "                             StructField(\"guainia\", DoubleType()),\n",
    "                             StructField(\"guajira\", DoubleType()),\n",
    "                             StructField(\"guaviare\", DoubleType()),\n",
    "                             StructField(\"huila\", DoubleType()),\n",
    "                             StructField(\"magdalena\", DoubleType()),\n",
    "                             StructField(\"meta\", DoubleType()),\n",
    "                             StructField(\"narino\", DoubleType()),\n",
    "                             StructField(\"norte_de_santander\", DoubleType()),\n",
    "                             StructField(\"putumayo\", DoubleType()),\n",
    "                             StructField(\"quindio\", DoubleType()),\n",
    "                             StructField(\"risaralda\", DoubleType()),\n",
    "                             StructField(\"san_andres\", DoubleType()),\n",
    "                             StructField(\"santander\", DoubleType()),\n",
    "                             StructField(\"sucre\", DoubleType()),\n",
    "                             StructField(\"tolima\", DoubleType()),\n",
    "                             StructField(\"valle_del_cauca\", DoubleType()),\n",
    "                             StructField(\"vaupes\", DoubleType()),\n",
    "                             StructField(\"vichada\", DoubleType()),\n",
    "                             StructField(\"procedencia_desconocida\", DoubleType()),\n",
    "                             StructField(\"positivas_acumuladas\", DoubleType()),\n",
    "                             StructField(\"negativas_acumuladas\", DoubleType()),\n",
    "                             StructField(\"positividad_acumulada\", DoubleType()),\n",
    "                             StructField(\"indeterminadas\", DoubleType()),\n",
    "                             StructField(\"barranquilla\", DoubleType()),\n",
    "                             StructField(\"cartagena\", DoubleType()),\n",
    "                             StructField(\"santa_marta\", DoubleType())\n",
    "                             ])\n",
    "    else:\n",
    "        print(\"Source not valid. Enter one of the following sources: 'covid', 'tests'\")\n",
    "    return schema\n",
    "              \n",
    "def build_schema_divipola(source=\"divipola\"):\n",
    "    \"\"\"\n",
    "    Build schema for different covid sources\n",
    "\n",
    "    Parameters:\n",
    "    -----------\n",
    "    source : str\n",
    "        Table source may be: \"covid\", \"tests\"\n",
    "\n",
    "    Return:\n",
    "    -------\n",
    "    schema : spark.schema\n",
    "        Spark schema for loading source table\n",
    "    \"\"\"\n",
    "    if source == \"divipola\":\n",
    "        schema = StructType([StructField(\"cod_depto\", IntegerType()),\n",
    "                             StructField(\"cod_mpio\", IntegerType()),\n",
    "                             StructField(\"dpto\", StringType()),\n",
    "                             StructField(\"nom_mpio\", StringType()),\n",
    "                             StructField(\"tipo_municipio\", StringType())\n",
    "                             ])\n",
    "    else:\n",
    "        print(\"Source not valid. Enter one of the following sources: 'covid', 'tests'\")\n",
    "    return schema\n",
    "              \n",
    "def get_censo_paths(bucket_s3, directory_key):\n",
    "    \"\"\"\n",
    "    Get dictionary of census data for each department\n",
    "    \n",
    "    Parameters:\n",
    "    -----------\n",
    "    bucket_s3 : s3.Bucket\n",
    "        Boto3 Bucket object\n",
    "    directory_key : path\n",
    "        Directory key in S3\n",
    "    \n",
    "    Return:\n",
    "    -------\n",
    "    dict_paths_departments : dict\n",
    "        Dictionary with the data path for each departtment\n",
    "    \"\"\"\n",
    "    dict_paths_departments = {}\n",
    "    for object_summary in bucket_s3.objects.filter(Prefix=directory_key):\n",
    "        name = object_summary.key\n",
    "        if name.endswith(\".CSV\"):\n",
    "            list_paths = name.split(\"/\")\n",
    "            department = list_paths[2].split(\"_\")[1]\n",
    "            if \"MGN\" in list_paths[-1]:\n",
    "                if not(department in dict_paths_departments):\n",
    "                    dict_paths_departments[department] = {}\n",
    "                dict_paths_departments[department].update({\"MGN\": os.path.join(f\"s3a://{bucket_s3.name}\", name)})                \n",
    "            elif \"FALL\" in list_paths[-1]:\n",
    "                if not(department in dict_paths_departments):\n",
    "                    dict_paths_departments[department] = {}\n",
    "                dict_paths_departments[department].update({\"FALL\": os.path.join(f\"s3a://{bucket_s3.name}\", name)})\n",
    "            elif \"HOG\" in list_paths[-1]:\n",
    "                if not(department in dict_paths_departments):\n",
    "                    dict_paths_departments[department] = {}\n",
    "                dict_paths_departments[department].update({\"HOG\": os.path.join(f\"s3a://{bucket_s3.name}\", name)})\n",
    "            elif \"VIV\" in list_paths[-1]:\n",
    "                if not(department in dict_paths_departments):\n",
    "                    dict_paths_departments[department] = {}\n",
    "                dict_paths_departments[department].update({\"VIV\": os.path.join(f\"s3a://{bucket_s3.name}\", name)})\n",
    "            elif \"PER\" in list_paths[-1]:\n",
    "                if not(department in dict_paths_departments):\n",
    "                    dict_paths_departments[department] = {}\n",
    "                dict_paths_departments[department].update({\"PER\": os.path.join(f\"s3a://{bucket_s3.name}\", name)})\n",
    "    return dict_paths_departments"
   ]
  },
  {
   "cell_type": "markdown",
   "metadata": {},
   "source": [
    "#### Preprocessing"
   ]
  },
  {
   "cell_type": "code",
   "execution_count": 4,
   "metadata": {},
   "outputs": [
    {
     "data": {
      "application/vnd.jupyter.widget-view+json": {
       "model_id": "956bc3dea2ef419b81b35b684048916a",
       "version_major": 2,
       "version_minor": 0
      },
      "text/plain": [
       "VBox()"
      ]
     },
     "metadata": {},
     "output_type": "display_data"
    },
    {
     "data": {
      "application/vnd.jupyter.widget-view+json": {
       "model_id": "",
       "version_major": 2,
       "version_minor": 0
      },
      "text/plain": [
       "FloatProgress(value=0.0, bar_style='info', description='Progress:', layout=Layout(height='25px', width='50%'),…"
      ]
     },
     "metadata": {},
     "output_type": "display_data"
    }
   ],
   "source": [
    "def add_suffix_to_cols(df, suffix):\n",
    "    for col in df.columns:\n",
    "        df = df.withColumnRenamed(col, col + suffix)\n",
    "    return df"
   ]
  },
  {
   "cell_type": "markdown",
   "metadata": {},
   "source": [
    "# Inputs"
   ]
  },
  {
   "cell_type": "code",
   "execution_count": 6,
   "metadata": {},
   "outputs": [
    {
     "data": {
      "application/vnd.jupyter.widget-view+json": {
       "model_id": "b9d3c5a1fd4446ab8a38145a8a595125",
       "version_major": 2,
       "version_minor": 0
      },
      "text/plain": [
       "VBox()"
      ]
     },
     "metadata": {},
     "output_type": "display_data"
    },
    {
     "data": {
      "application/vnd.jupyter.widget-view+json": {
       "model_id": "",
       "version_major": 2,
       "version_minor": 0
      },
      "text/plain": [
       "FloatProgress(value=0.0, bar_style='info', description='Progress:', layout=Layout(height='25px', width='50%'),…"
      ]
     },
     "metadata": {},
     "output_type": "display_data"
    }
   ],
   "source": [
    "metadata = {\"CENSO\": {\"VIVIENDA\": {\"useful_columns\": ['U_DPTO', 'U_MPIO', 'UA_CLASE', 'U_EDIFICA',\n",
    "                                                      'COD_ENCUESTAS', 'U_VIVIENDA', 'UVA_USO_UNIDAD',\n",
    "                                                      'V_TIPO_VIV', 'V_CON_OCUP', 'V_TOT_HOG',\n",
    "                                                      'V_MAT_PARED', 'V_MAT_PISO', 'VA_EE', 'VA1_ESTRATO', 'VB_ACU', 'VC_ALC',\n",
    "                                                      'VD_GAS', 'VE_RECBAS', 'VE1_QSEM', 'VF_INTERNET', 'V_TIPO_SERSA',\n",
    "                                                      'L_TIPO_INST', 'L_EXISTEHOG', 'L_TOT_PERL']\n",
    "                                   },\n",
    "                      \"HOGAR\": {\"useful_columns\": ['U_DPTO', 'U_MPIO', 'UA_CLASE', 'COD_ENCUESTAS',\n",
    "                                                   'U_VIVIENDA', 'H_NROHOG', 'H_NRO_CUARTOS', 'H_NRO_DORMIT',\n",
    "                                                   'H_DONDE_PREPALIM', 'H_AGUA_COCIN', 'HA_NRO_FALL', 'HA_TOT_PER']},\n",
    "                      \"PERSONAS\": {\"useful_columns\": ['U_DPTO', 'U_MPIO', 'UA_CLASE', 'U_EDIFICA',\n",
    "                                                      'COD_ENCUESTAS', 'U_VIVIENDA', 'P_NROHOG', 'P_NRO_PER', 'P_SEXO',\n",
    "                                                      'P_EDADR', 'P_PARENTESCOR', 'PA_LUG_NAC',\n",
    "                                                      'PA_VIVIA_5ANOS', 'PA_VIVIA_1ANO', 'P_ENFERMO', 'P_QUEHIZO_PPAL',\n",
    "                                                      'PA_LO_ATENDIERON', 'PA1_CALIDAD_SERV', 'CONDICION_FISICA',\n",
    "                                                      'P_ALFABETA', 'PA_ASISTENCIA', 'P_NIVEL_ANOSR', 'P_TRABAJO',\n",
    "                                                      'P_EST_CIVIL', 'PA_HNV', 'PA1_THNV', 'PA2_HNVH', 'PA3_HNVM', 'PA_HNVS',\n",
    "                                                      'PA1_THSV', 'PA2_HSVH', 'PA3_HSVM', 'PA_HFC', 'PA1_THFC', 'PA2_HFCH',\n",
    "                                                      'PA3_HFCM']},\n",
    "                      \"FALLECIDOS\": {\"useful_columns\": ['U_DPTO', 'U_MPIO', 'UA_CLASE', 'COD_ENCUESTAS',\n",
    "                                                        'U_VIVIENDA', 'F_NROHOG', 'FA1_NRO_FALL', 'FA2_SEXO_FALL',\n",
    "                                                        'FA3_EDAD_FALL', 'FA4_CERT_DEFUN']},\n",
    "                      \"GEOREFERENCIACION\": {\"useful_columns\": ['U_DPTO', 'U_MPIO', 'UA_CLASE', 'UA1_LOCALIDAD', 'U_SECT_RUR',\n",
    "                                                               'U_SECC_RUR', 'UA2_CPOB', 'U_SECT_URB', 'U_SECC_URB', 'U_MZA',\n",
    "                                                               'U_EDIFICA', 'COD_ENCUESTAS', 'U_VIVIENDA']},\n",
    "                      \"DIVIPOLA\": {\"useful_columns\": ['cod_depto', 'cod_mpio', 'dpto', 'nom_mpio', 'tipo_municipio']}\n",
    "                      },\n",
    "            }\n",
    "\n",
    "bucket='censo-covid'\n",
    "s3_resource = boto3.resource('s3')\n",
    "bucket_s3 = s3_resource.Bucket(bucket)\n",
    "show = True"
   ]
  },
  {
   "cell_type": "markdown",
   "metadata": {},
   "source": [
    "**Paths**"
   ]
  },
  {
   "cell_type": "code",
   "execution_count": 7,
   "metadata": {},
   "outputs": [
    {
     "data": {
      "application/vnd.jupyter.widget-view+json": {
       "model_id": "a3113cb4e99b4e3b9302702c2973bf95",
       "version_major": 2,
       "version_minor": 0
      },
      "text/plain": [
       "VBox()"
      ]
     },
     "metadata": {},
     "output_type": "display_data"
    },
    {
     "data": {
      "application/vnd.jupyter.widget-view+json": {
       "model_id": "",
       "version_major": 2,
       "version_minor": 0
      },
      "text/plain": [
       "FloatProgress(value=0.0, bar_style='info', description='Progress:', layout=Layout(height='25px', width='50%'),…"
      ]
     },
     "metadata": {},
     "output_type": "display_data"
    }
   ],
   "source": [
    "censo_covid_bucket_s3 = f\"s3a://{bucket}\"\n",
    "\n",
    "raw_data_path = os.path.join(censo_covid_bucket_s3, \"raw-data\")\n",
    "censo_data_path = os.path.join(raw_data_path, \"censo\")\n",
    "covid_tests_path = os.path.join(raw_data_path, \"covid-tests.csv\")\n",
    "covid_path = os.path.join(raw_data_path, \"covid.csv\")\n",
    "divipola_path = os.path.join(raw_data_path, \"divipola.csv\")\n",
    "\n",
    "dict_paths_departments = get_censo_paths(bucket_s3, directory_key=os.path.join(\"raw-data\", \"censo\"))\n",
    "\n",
    "final_data_path = os.path.join(censo_covid_bucket_s3, \"final-data\")\n",
    "complete_personas_path = os.path.join(final_data_path, \"complete_personas\")\n",
    "complete_fallecidos_path = os.path.join(final_data_path, \"complete_fallecidos\")"
   ]
  },
  {
   "cell_type": "markdown",
   "metadata": {},
   "source": [
    "# Pipeline"
   ]
  },
  {
   "cell_type": "markdown",
   "metadata": {},
   "source": [
    "### Load_data"
   ]
  },
  {
   "cell_type": "code",
   "execution_count": 8,
   "metadata": {},
   "outputs": [
    {
     "data": {
      "application/vnd.jupyter.widget-view+json": {
       "model_id": "0511ef75a1d24c7d8d3001b5eb4d4547",
       "version_major": 2,
       "version_minor": 0
      },
      "text/plain": [
       "VBox()"
      ]
     },
     "metadata": {},
     "output_type": "display_data"
    },
    {
     "data": {
      "application/vnd.jupyter.widget-view+json": {
       "model_id": "",
       "version_major": 2,
       "version_minor": 0
      },
      "text/plain": [
       "FloatProgress(value=0.0, bar_style='info', description='Progress:', layout=Layout(height='25px', width='50%'),…"
      ]
     },
     "metadata": {},
     "output_type": "display_data"
    },
    {
     "name": "stdout",
     "output_type": "stream",
     "text": [
      "                                 0  ...            9\n",
      "fecha_de_notificaci_n   2020-03-02  ...   2020-03-12\n",
      "c_digo_divipola              11001  ...        11001\n",
      "ciudad_de_ubicaci_n    Bogotá D.C.  ...  Bogotá D.C.\n",
      "departamento           Bogotá D.C.  ...  Bogotá D.C.\n",
      "atenci_n                Recuperado  ...   Recuperado\n",
      "edad                            19  ...           36\n",
      "sexo                             F  ...            F\n",
      "tipo                     Importado  ...    Importado\n",
      "estado                        Leve  ...         Leve\n",
      "pa_s_de_procedencia         ITALIA  ...       ESPAÑA\n",
      "fis                     2020-02-27  ...   2020-03-06\n",
      "fecha_diagnostico       2020-03-06  ...   2020-03-12\n",
      "fecha_recuperado        2020-03-13  ...   2020-03-21\n",
      "fecha_reporte_web       2020-03-06  ...   2020-03-12\n",
      "tipo_recuperaci_n              PCR  ...          PCR\n",
      "codigo_departamento             11  ...           11\n",
      "codigo_pais                    380  ...          724\n",
      "pertenencia_etnica            Otro  ...         Otro\n",
      "nombre_grupo_etnico           None  ...         None\n",
      "fecha_de_muerte               None  ...         None\n",
      "Asintomatico                     0  ...            0\n",
      "divipola_dpto                   11  ...           11\n",
      "divipola_mpio                    1  ...            1\n",
      "\n",
      "[23 rows x 10 columns]\n",
      "Length:  154277"
     ]
    }
   ],
   "source": [
    "covid_data = spark.read.option(\"header\", \"true\").csv(covid_path,\n",
    "                            schema=build_schema_covid(source=\"covid\"))\n",
    "if show:\n",
    "    covid_data.limit(10).toPandas().T\n",
    "    print(\"Length: \", covid_data.count())"
   ]
  },
  {
   "cell_type": "code",
   "execution_count": 9,
   "metadata": {},
   "outputs": [
    {
     "data": {
      "application/vnd.jupyter.widget-view+json": {
       "model_id": "d15fe72f95ad45aa9518785d993a80d2",
       "version_major": 2,
       "version_minor": 0
      },
      "text/plain": [
       "VBox()"
      ]
     },
     "metadata": {},
     "output_type": "display_data"
    },
    {
     "data": {
      "application/vnd.jupyter.widget-view+json": {
       "model_id": "",
       "version_major": 2,
       "version_minor": 0
      },
      "text/plain": [
       "FloatProgress(value=0.0, bar_style='info', description='Progress:', layout=Layout(height='25px', width='50%'),…"
      ]
     },
     "metadata": {},
     "output_type": "display_data"
    },
    {
     "name": "stdout",
     "output_type": "stream",
     "text": [
      "                                0           1    ...          130          131\n",
      "fecha                    2020-03-05  2020-03-06  ...   2020-07-13   2020-07-14\n",
      "acumuladas                      636         739  ...  1.05681e+06  1.08242e+06\n",
      "amazonas                        NaN         NaN  ...        11640        11809\n",
      "antioquia                       NaN         NaN  ...       117268       120233\n",
      "arauca                          NaN         NaN  ...         3329         3342\n",
      "atlantico                       NaN         NaN  ...        29314        30522\n",
      "bogota                          NaN         NaN  ...       326305       335193\n",
      "bolivar                         NaN         NaN  ...         7049         7079\n",
      "boyaca                          NaN         NaN  ...        16583        16740\n",
      "caldas                          NaN         NaN  ...        10383        10421\n",
      "caqueta                         NaN         NaN  ...         2422         2452\n",
      "casanare                        NaN         NaN  ...         5073         5154\n",
      "cauca                           NaN         NaN  ...         7392         7640\n",
      "cesar                           NaN         NaN  ...        13673        14027\n",
      "choco                           NaN         NaN  ...         9784        10221\n",
      "cordoba                         NaN         NaN  ...        14727        14965\n",
      "cundinamarca                    NaN         NaN  ...        41325        42077\n",
      "guainia                         NaN         NaN  ...         1077         1080\n",
      "guajira                         NaN         NaN  ...         7089         7680\n",
      "guaviare                        NaN         NaN  ...         1066         1099\n",
      "huila                           NaN         NaN  ...        17554        18008\n",
      "magdalena                       NaN         NaN  ...         1127         1215\n",
      "meta                            NaN         NaN  ...        23566        23926\n",
      "narino                          NaN         NaN  ...        22707        22961\n",
      "norte_de_santander              NaN         NaN  ...        15440        15583\n",
      "putumayo                        NaN         NaN  ...         1378         1547\n",
      "quindio                         NaN         NaN  ...         4579         4694\n",
      "risaralda                       NaN         NaN  ...        14651        14843\n",
      "san_andres                      NaN         NaN  ...         1856         1895\n",
      "santander                       NaN         NaN  ...        29446        29749\n",
      "sucre                           NaN         NaN  ...        14239        14853\n",
      "tolima                          NaN         NaN  ...        16130        16431\n",
      "valle_del_cauca                 NaN         NaN  ...        83144        85630\n",
      "vaupes                          NaN         NaN  ...         1478         1478\n",
      "vichada                         NaN         NaN  ...          794          805\n",
      "procedencia_desconocida         NaN         NaN  ...         8750         8752\n",
      "positivas_acumuladas            NaN         NaN  ...       201112       208238\n",
      "negativas_acumuladas            NaN         NaN  ...       851135       869521\n",
      "positividad_acumulada           NaN         NaN  ...           19         19.2\n",
      "indeterminadas                  NaN         NaN  ...         4567         4656\n",
      "barranquilla                    NaN         NaN  ...        95400        98066\n",
      "cartagena                       NaN         NaN  ...        59198        60109\n",
      "santa_marta                     NaN         NaN  ...        19878        20136\n",
      "\n",
      "[43 rows x 132 columns]\n",
      "Length:  132"
     ]
    }
   ],
   "source": [
    "covid_tests_data = spark.read.option(\"header\", \"true\").csv(covid_tests_path,\n",
    "                                  schema=build_schema_covid(source=\"tests\"))\n",
    "if show:\n",
    "    covid_tests_data.limit(1000).toPandas().T\n",
    "    print(\"Length: \", covid_tests_data.count())"
   ]
  },
  {
   "cell_type": "code",
   "execution_count": 10,
   "metadata": {},
   "outputs": [
    {
     "data": {
      "application/vnd.jupyter.widget-view+json": {
       "model_id": "a65f33aa1d124c18af7684867a49497c",
       "version_major": 2,
       "version_minor": 0
      },
      "text/plain": [
       "VBox()"
      ]
     },
     "metadata": {},
     "output_type": "display_data"
    },
    {
     "data": {
      "application/vnd.jupyter.widget-view+json": {
       "model_id": "",
       "version_major": 2,
       "version_minor": 0
      },
      "text/plain": [
       "FloatProgress(value=0.0, bar_style='info', description='Progress:', layout=Layout(height='25px', width='50%'),…"
      ]
     },
     "metadata": {},
     "output_type": "display_data"
    },
    {
     "name": "stdout",
     "output_type": "stream",
     "text": [
      "                        0          1  ...          8          9\n",
      "cod_depto               5          5  ...          5          5\n",
      "cod_mpio                1          2  ...         38         40\n",
      "dpto            ANTIOQUIA  ANTIOQUIA  ...  ANTIOQUIA  ANTIOQUIA\n",
      "nom_mpio         MEDELLÍN  ABEJORRAL  ...  ANGOSTURA      ANORÍ\n",
      "tipo_municipio  Municipio  Municipio  ...  Municipio  Municipio\n",
      "\n",
      "[5 rows x 10 columns]\n",
      "Length:  1121"
     ]
    }
   ],
   "source": [
    "divipola_data = spark.read.option(\"header\", \"true\").csv(divipola_path, \n",
    "                                  schema=build_schema_divipola(source=\"divipola\"))\n",
    "if show:\n",
    "    divipola_data.limit(10).toPandas().T\n",
    "    print(\"Length: \", divipola_data.count())"
   ]
  },
  {
   "cell_type": "code",
   "execution_count": 11,
   "metadata": {},
   "outputs": [
    {
     "data": {
      "application/vnd.jupyter.widget-view+json": {
       "model_id": "0f5ea4c9bc984dc9a8558c814a35b3b8",
       "version_major": 2,
       "version_minor": 0
      },
      "text/plain": [
       "VBox()"
      ]
     },
     "metadata": {},
     "output_type": "display_data"
    },
    {
     "data": {
      "application/vnd.jupyter.widget-view+json": {
       "model_id": "",
       "version_major": 2,
       "version_minor": 0
      },
      "text/plain": [
       "FloatProgress(value=0.0, bar_style='info', description='Progress:', layout=Layout(height='25px', width='50%'),…"
      ]
     },
     "metadata": {},
     "output_type": "display_data"
    }
   ],
   "source": [
    "census_data_dict={}\n",
    "for department, val in dict_paths_departments.items():\n",
    "    for table, table_path in val.items():\n",
    "        if not(table in census_data_dict):\n",
    "            census_data_dict[table] = spark.read.option(\"header\", \"true\").csv(table_path, schema=build_schema_census(source=table))\n",
    "        else:\n",
    "            aux = spark.read.option(\"header\", \"true\").csv(table_path, schema=build_schema_census(source=table))\n",
    "            census_data_dict[table] = census_data_dict[table].union(aux)"
   ]
  },
  {
   "cell_type": "markdown",
   "metadata": {},
   "source": [
    "### Clean data"
   ]
  },
  {
   "cell_type": "code",
   "execution_count": 12,
   "metadata": {},
   "outputs": [
    {
     "data": {
      "application/vnd.jupyter.widget-view+json": {
       "model_id": "8918d0180ef64242a3dd3c27ce160696",
       "version_major": 2,
       "version_minor": 0
      },
      "text/plain": [
       "VBox()"
      ]
     },
     "metadata": {},
     "output_type": "display_data"
    },
    {
     "data": {
      "application/vnd.jupyter.widget-view+json": {
       "model_id": "",
       "version_major": 2,
       "version_minor": 0
      },
      "text/plain": [
       "FloatProgress(value=0.0, bar_style='info', description='Progress:', layout=Layout(height='25px', width='50%'),…"
      ]
     },
     "metadata": {},
     "output_type": "display_data"
    },
    {
     "name": "stdout",
     "output_type": "stream",
     "text": [
      "                   0     1     2     3     4     5     6     7     8     9\n",
      "U_DPTO             5     5     5     5     5     5     5     5     5     5\n",
      "U_MPIO             1     1     1     1     1     1     1     1     1     1\n",
      "UA_CLASE           1     1     1     1     1     1     1     1     1     1\n",
      "U_EDIFICA          1     1     1     1     1     1     1     1     1     1\n",
      "COD_ENCUESTAS   3646  3649  3658  3662  3666  3694  3697  3698  3699  3700\n",
      "U_VIVIENDA         5     6    38    40    39    15     1    46    45    37\n",
      "UVA_USO_UNIDAD     1     1     1     1     1     1     1     1     1     1\n",
      "V_TIPO_VIV         1     1     2     1     2     2     2     2     2     2\n",
      "V_CON_OCUP         1     1     1     1     1     1     1     1     1     1\n",
      "V_TOT_HOG          2     1     6     3     1     1     1     1     1     1\n",
      "V_MAT_PARED        1     1     1     1     8     1     1     1     1     1\n",
      "V_MAT_PISO         2     2     5     2     4     2     2     2     2     2\n",
      "VA_EE              1     1     1     1     1     1     1     1     1     1\n",
      "VA1_ESTRATO        2     2     2     2     2     2     1     1     1     1\n",
      "VB_ACU             1     1     1     1     1     1     1     1     1     1\n",
      "VC_ALC             1     1     1     1     1     1     1     1     1     1\n",
      "VD_GAS             1     1     2     1     2     1     1     1     1     1\n",
      "VE_RECBAS          1     1     1     1     1     1     1     1     1     1\n",
      "VE1_QSEM           2     2     2     2     2     2     2     4     2     2\n",
      "VF_INTERNET        2     1     1     1     1     2     1     1     1     2\n",
      "V_TIPO_SERSA       1     1     1     1     1     1     1     1     1     1\n",
      "L_TIPO_INST     None  None  None  None  None  None  None  None  None  None\n",
      "L_EXISTEHOG     None  None  None  None  None  None  None  None  None  None\n",
      "L_TOT_PERL      None  None  None  None  None  None  None  None  None  None\n",
      "Length:  7395645"
     ]
    }
   ],
   "source": [
    "drop_viv_cols = [col for col in census_data_dict[\"VIV\"].columns\\\n",
    "                 if col not in metadata[\"CENSO\"][\"VIVIENDA\"][\"useful_columns\"]]\n",
    "census_data_dict[\"VIV\"] = census_data_dict[\"VIV\"].drop(*drop_viv_cols)\n",
    "if show:\n",
    "    census_data_dict[\"VIV\"].limit(10).toPandas().T\n",
    "    print(\"Length: \",census_data_dict[\"VIV\"].count())"
   ]
  },
  {
   "cell_type": "code",
   "execution_count": 13,
   "metadata": {},
   "outputs": [
    {
     "data": {
      "application/vnd.jupyter.widget-view+json": {
       "model_id": "390935181f3e43e0b47ff4e1b7e9cdae",
       "version_major": 2,
       "version_minor": 0
      },
      "text/plain": [
       "VBox()"
      ]
     },
     "metadata": {},
     "output_type": "display_data"
    },
    {
     "data": {
      "application/vnd.jupyter.widget-view+json": {
       "model_id": "",
       "version_major": 2,
       "version_minor": 0
      },
      "text/plain": [
       "FloatProgress(value=0.0, bar_style='info', description='Progress:', layout=Layout(height='25px', width='50%'),…"
      ]
     },
     "metadata": {},
     "output_type": "display_data"
    },
    {
     "name": "stdout",
     "output_type": "stream",
     "text": [
      "                     0     1     2     3     4     5     6     7     8     9\n",
      "U_DPTO               5     5     5     5     5     5     5     5     5     5\n",
      "U_MPIO               1     1     1     1     1     1     1     1     1     1\n",
      "UA_CLASE             1     1     1     1     1     1     1     1     1     1\n",
      "COD_ENCUESTAS     3626  3629  3630  3630  3632  3634  3635  3636  3640  3641\n",
      "U_VIVIENDA           4     2     1     1     6     9     6    10     1     5\n",
      "H_NROHOG             1     1     1     2     1     1     1     1     1     1\n",
      "H_NRO_CUARTOS        4     4     3     3     3     3     3     3     3     2\n",
      "H_NRO_DORMIT         2     3     2     2     2     2     2     2     2     2\n",
      "H_DONDE_PREPALIM     1     1     1     1     1     1     1     1     1     1\n",
      "H_AGUA_COCIN         1     1     1     1     1     1     1     1     1     1\n",
      "HA_NRO_FALL       None  None  None  None  None  None  None  None  None  None\n",
      "HA_TOT_PER           5     3     3     4     3     2     1     3     2     3\n",
      "Length:  6665769"
     ]
    }
   ],
   "source": [
    "drop_hog_cols = [col for col in census_data_dict[\"HOG\"].columns\\\n",
    "                 if col not in metadata[\"CENSO\"][\"HOGAR\"][\"useful_columns\"]]\n",
    "census_data_dict[\"HOG\"] = census_data_dict[\"HOG\"].drop(*drop_hog_cols)\n",
    "census_data_dict[\"HOG\"] = census_data_dict[\"HOG\"].fillna(99, subset=['H_NROHOG'])\n",
    "census_data_dict[\"HOG\"] = census_data_dict[\"HOG\"].withColumn(\"H_NROHOG\", F.col(\"H_NROHOG\").cast(IntegerType()))\n",
    "if show:\n",
    "    census_data_dict[\"HOG\"].limit(10).toPandas().T\n",
    "    print(\"Length: \",census_data_dict[\"HOG\"].count())"
   ]
  },
  {
   "cell_type": "code",
   "execution_count": 14,
   "metadata": {},
   "outputs": [
    {
     "data": {
      "application/vnd.jupyter.widget-view+json": {
       "model_id": "daee33e3d3f04796b4b55562c23b0c70",
       "version_major": 2,
       "version_minor": 0
      },
      "text/plain": [
       "VBox()"
      ]
     },
     "metadata": {},
     "output_type": "display_data"
    },
    {
     "data": {
      "application/vnd.jupyter.widget-view+json": {
       "model_id": "",
       "version_major": 2,
       "version_minor": 0
      },
      "text/plain": [
       "FloatProgress(value=0.0, bar_style='info', description='Progress:', layout=Layout(height='25px', width='50%'),…"
      ]
     },
     "metadata": {},
     "output_type": "display_data"
    },
    {
     "name": "stdout",
     "output_type": "stream",
     "text": [
      "                     0     1     2     3     4     5     6     7     8     9\n",
      "U_DPTO               5     5     5     5     5     5     5     5     5     5\n",
      "U_MPIO               1     1     1     1     1     1     1     1     1     1\n",
      "UA_CLASE             1     1     1     1     1     1     1     1     1     1\n",
      "U_EDIFICA            6     6     6     6     6     6     6     6     5     5\n",
      "COD_ENCUESTAS     3626  3626  3626  3626  3626  3629  3629  3629  3630  3630\n",
      "U_VIVIENDA           4     4     4     4     4     2     2     2     1     1\n",
      "P_NROHOG             1     1     1     1     1     1     1     1     1     1\n",
      "P_NRO_PER            1     2     3     4     5     1     2     3     5     6\n",
      "P_SEXO               1     2     2     2     1     1     2     1     2     1\n",
      "P_EDADR              5    11     7     1    11     6    12     8    12     7\n",
      "P_PARENTESCOR        3     1     3     4     2     5     4     1     1     3\n",
      "PA_LUG_NAC           2     2     1     1     1     2     2     2     1     1\n",
      "PA_VIVIA_5ANOS       2     2     2     1     2     2     2     2     2     2\n",
      "PA_VIVIA_1ANO        2     2     2     2     2     2     2     2     2     2\n",
      "P_ENFERMO            2     2     2     2     2     2     2     2     2     2\n",
      "P_QUEHIZO_PPAL    None  None  None  None  None  None  None  None  None  None\n",
      "PA_LO_ATENDIERON  None  None  None  None  None  None  None  None  None  None\n",
      "PA1_CALIDAD_SERV  None  None  None  None  None  None  None  None  None  None\n",
      "CONDICION_FISICA     2     2     2     2     2     2     2     2     2     2\n",
      "P_ALFABETA           1     1     1   NaN     1     1     1     1     1     1\n",
      "PA_ASISTENCIA        2     2     1   NaN     2     2     2     2     2     2\n",
      "P_NIVEL_ANOSR        4     4     7   NaN     4     8     2     7     4     4\n",
      "P_TRABAJO            3     7     6   NaN     3     1     1     1     3     3\n",
      "P_EST_CIVIL          7     1     7   NaN     1     7     4     7     7     7\n",
      "PA_HNV             NaN     1     1   NaN   NaN   NaN     1   NaN     1   NaN\n",
      "PA1_THNV           NaN     2     1   NaN   NaN   NaN     2   NaN     3   NaN\n",
      "PA2_HNVH           NaN     1     0   NaN   NaN   NaN     2   NaN     3   NaN\n",
      "PA3_HNVM           NaN     1     1   NaN   NaN   NaN     0   NaN     0   NaN\n",
      "PA_HNVS            NaN     1     1   NaN   NaN   NaN     1   NaN     1   NaN\n",
      "PA1_THSV           NaN     2     1   NaN   NaN   NaN     2   NaN     3   NaN\n",
      "PA2_HSVH           NaN     1     0   NaN   NaN   NaN     2   NaN     3   NaN\n",
      "PA3_HSVM           NaN     1     1   NaN   NaN   NaN     0   NaN     0   NaN\n",
      "PA_HFC             NaN     2     2   NaN   NaN   NaN     1   NaN     2   NaN\n",
      "PA1_THFC           NaN   NaN   NaN   NaN   NaN   NaN     0   NaN   NaN   NaN\n",
      "PA2_HFCH           NaN   NaN   NaN   NaN   NaN   NaN     0   NaN   NaN   NaN\n",
      "PA3_HFCM           NaN   NaN   NaN   NaN   NaN   NaN     0   NaN   NaN   NaN\n",
      "Length:  20386281"
     ]
    }
   ],
   "source": [
    "drop_per_cols = [col for col in census_data_dict[\"PER\"].columns\\\n",
    "                 if col not in metadata[\"CENSO\"][\"PERSONAS\"][\"useful_columns\"]]\n",
    "census_data_dict[\"PER\"] = census_data_dict[\"PER\"].drop(*drop_per_cols)\n",
    "census_data_dict[\"PER\"] = census_data_dict[\"PER\"].fillna(99, subset=['P_NROHOG'])\n",
    "census_data_dict[\"PER\"] = census_data_dict[\"PER\"].withColumn(\"P_NROHOG\", F.col(\"P_NROHOG\").cast(IntegerType()))\n",
    "if show:\n",
    "    census_data_dict[\"PER\"].limit(10).toPandas().T\n",
    "    print(\"Length: \",census_data_dict[\"PER\"].count())"
   ]
  },
  {
   "cell_type": "code",
   "execution_count": 15,
   "metadata": {},
   "outputs": [
    {
     "data": {
      "application/vnd.jupyter.widget-view+json": {
       "model_id": "4665031f184d4f72aa38498ff881305b",
       "version_major": 2,
       "version_minor": 0
      },
      "text/plain": [
       "VBox()"
      ]
     },
     "metadata": {},
     "output_type": "display_data"
    },
    {
     "data": {
      "application/vnd.jupyter.widget-view+json": {
       "model_id": "",
       "version_major": 2,
       "version_minor": 0
      },
      "text/plain": [
       "FloatProgress(value=0.0, bar_style='info', description='Progress:', layout=Layout(height='25px', width='50%'),…"
      ]
     },
     "metadata": {},
     "output_type": "display_data"
    },
    {
     "name": "stdout",
     "output_type": "stream",
     "text": [
      "                   0     1     2     3     4     5     6     7     8     9\n",
      "U_DPTO             5     5     5     5     5     5     5     5     5     5\n",
      "U_MPIO             1     1     1     1     1     1     1     1     1     1\n",
      "UA_CLASE           1     1     1     1     1     1     1     1     1     1\n",
      "COD_ENCUESTAS   3658  3799  3839  4342  4367  4741  9326  9341  9346  9346\n",
      "U_VIVIENDA        38     6    12     5     5    28     5     8     4     4\n",
      "F_NROHOG           6     1     1     1     1     1     1     1     1     2\n",
      "FA1_NRO_FALL       1     1     1     1     1     1     1     1     1     1\n",
      "FA2_SEXO_FALL      2     2     1     1     1     2     1     2     2     2\n",
      "FA3_EDAD_FALL     90    90    89    58    33    94    71    97    64    64\n",
      "FA4_CERT_DEFUN     1     1     1     2     1     9     1     2     1     1\n",
      "Length:  94219"
     ]
    }
   ],
   "source": [
    "drop_fall_cols = [col for col in census_data_dict[\"FALL\"].columns\\\n",
    "                 if col not in metadata[\"CENSO\"][\"FALLECIDOS\"][\"useful_columns\"]]\n",
    "census_data_dict[\"FALL\"] = census_data_dict[\"FALL\"].drop(*drop_fall_cols)\n",
    "census_data_dict[\"FALL\"] = census_data_dict[\"FALL\"].fillna(99, subset=['F_NROHOG'])\n",
    "census_data_dict[\"FALL\"] = census_data_dict[\"FALL\"].withColumn(\"F_NROHOG\", F.col(\"F_NROHOG\").cast(IntegerType()))\n",
    "if show:\n",
    "    census_data_dict[\"FALL\"].limit(10).toPandas().T\n",
    "    print(\"Length: \",census_data_dict[\"FALL\"].count())"
   ]
  },
  {
   "cell_type": "code",
   "execution_count": 16,
   "metadata": {},
   "outputs": [
    {
     "data": {
      "application/vnd.jupyter.widget-view+json": {
       "model_id": "0f622f0de71542cbb243383da7a4878f",
       "version_major": 2,
       "version_minor": 0
      },
      "text/plain": [
       "VBox()"
      ]
     },
     "metadata": {},
     "output_type": "display_data"
    },
    {
     "data": {
      "application/vnd.jupyter.widget-view+json": {
       "model_id": "",
       "version_major": 2,
       "version_minor": 0
      },
      "text/plain": [
       "FloatProgress(value=0.0, bar_style='info', description='Progress:', layout=Layout(height='25px', width='50%'),…"
      ]
     },
     "metadata": {},
     "output_type": "display_data"
    },
    {
     "name": "stdout",
     "output_type": "stream",
     "text": [
      "                       0          1          2  ...          7          8          9\n",
      "U_DPTO                 5          5          5  ...          5          5          5\n",
      "U_MPIO                 1          1          1  ...          1          1          1\n",
      "UA_CLASE               1          1          1  ...          1          1          1\n",
      "UA1_LOCALIDAD          0          0          0  ...          0          0          0\n",
      "U_SECT_RUR             0          0          0  ...          0          0          0\n",
      "U_SECC_RUR             0          0          0  ...          0          0          0\n",
      "UA2_CPOB               0          0          0  ...          0          0          0\n",
      "U_SECT_URB             0          0          0  ...          0          0          0\n",
      "U_SECC_URB             0          0          0  ...          0          0          0\n",
      "U_MZA                  0          0          0  ...          0          0          0\n",
      "U_EDIFICA              1          1          1  ...          1          1          1\n",
      "COD_ENCUESTAS  950000114  950000152  950000201  ...  950001585  950002161  950002314\n",
      "U_VIVIENDA            58         14         18  ...         26         23          8\n",
      "\n",
      "[13 rows x 10 columns]\n",
      "Length:  7395645"
     ]
    }
   ],
   "source": [
    "drop_mgn_cols = [col for col in census_data_dict[\"MGN\"].columns\\\n",
    "                 if col not in metadata[\"CENSO\"][\"GEOREFERENCIACION\"][\"useful_columns\"]]\n",
    "census_data_dict[\"MGN\"] = census_data_dict[\"MGN\"].drop(*drop_mgn_cols)\n",
    "if show:\n",
    "    census_data_dict[\"MGN\"].limit(10).toPandas().T\n",
    "    print(\"Length: \",census_data_dict[\"MGN\"].count())"
   ]
  },
  {
   "cell_type": "markdown",
   "metadata": {},
   "source": [
    "### JoinTables"
   ]
  },
  {
   "cell_type": "markdown",
   "metadata": {},
   "source": [
    "#### Personas"
   ]
  },
  {
   "cell_type": "code",
   "execution_count": 17,
   "metadata": {},
   "outputs": [
    {
     "data": {
      "application/vnd.jupyter.widget-view+json": {
       "model_id": "5ac531d2d5814ceebab8cc2b21896ab4",
       "version_major": 2,
       "version_minor": 0
      },
      "text/plain": [
       "VBox()"
      ]
     },
     "metadata": {},
     "output_type": "display_data"
    },
    {
     "data": {
      "application/vnd.jupyter.widget-view+json": {
       "model_id": "",
       "version_major": 2,
       "version_minor": 0
      },
      "text/plain": [
       "FloatProgress(value=0.0, bar_style='info', description='Progress:', layout=Layout(height='25px', width='50%'),…"
      ]
     },
     "metadata": {},
     "output_type": "display_data"
    }
   ],
   "source": [
    "df_per_complete = census_data_dict[\"PER\"].join(census_data_dict[\"VIV\"], \n",
    "                                               on=['U_DPTO', 'U_MPIO', 'UA_CLASE', \n",
    "                                                   'U_EDIFICA', 'COD_ENCUESTAS',\n",
    "                                                   'U_VIVIENDA'],\n",
    "                                               how=\"left\")"
   ]
  },
  {
   "cell_type": "code",
   "execution_count": 18,
   "metadata": {},
   "outputs": [
    {
     "data": {
      "application/vnd.jupyter.widget-view+json": {
       "model_id": "873762c591364ba9bb4382983361287a",
       "version_major": 2,
       "version_minor": 0
      },
      "text/plain": [
       "VBox()"
      ]
     },
     "metadata": {},
     "output_type": "display_data"
    },
    {
     "data": {
      "application/vnd.jupyter.widget-view+json": {
       "model_id": "",
       "version_major": 2,
       "version_minor": 0
      },
      "text/plain": [
       "FloatProgress(value=0.0, bar_style='info', description='Progress:', layout=Layout(height='25px', width='50%'),…"
      ]
     },
     "metadata": {},
     "output_type": "display_data"
    }
   ],
   "source": [
    "assert df_per_complete.filter(F.col(\"UVA_USO_UNIDAD\").isNull()).count() == 0.0"
   ]
  },
  {
   "cell_type": "code",
   "execution_count": 19,
   "metadata": {},
   "outputs": [
    {
     "data": {
      "application/vnd.jupyter.widget-view+json": {
       "model_id": "3b8ce9c43f794cabbf4d0e613e0ed983",
       "version_major": 2,
       "version_minor": 0
      },
      "text/plain": [
       "VBox()"
      ]
     },
     "metadata": {},
     "output_type": "display_data"
    },
    {
     "data": {
      "application/vnd.jupyter.widget-view+json": {
       "model_id": "",
       "version_major": 2,
       "version_minor": 0
      },
      "text/plain": [
       "FloatProgress(value=0.0, bar_style='info', description='Progress:', layout=Layout(height='25px', width='50%'),…"
      ]
     },
     "metadata": {},
     "output_type": "display_data"
    }
   ],
   "source": [
    "census_data_dict[\"HOG\"] = add_suffix_to_cols(census_data_dict[\"HOG\"], \"_H\")\n",
    "df_per_complete = df_per_complete.join(census_data_dict[\"HOG\"],\n",
    "                                       (df_per_complete.U_DPTO==census_data_dict[\"HOG\"].U_DPTO_H)&\\\n",
    "                                       (df_per_complete.U_MPIO==census_data_dict[\"HOG\"].U_MPIO_H)&\\\n",
    "                                       (df_per_complete.UA_CLASE==census_data_dict[\"HOG\"].UA_CLASE_H)&\\\n",
    "                                       (df_per_complete.COD_ENCUESTAS==census_data_dict[\"HOG\"].COD_ENCUESTAS_H)&\\\n",
    "                                       (df_per_complete.U_VIVIENDA==census_data_dict[\"HOG\"].U_VIVIENDA_H)&\\\n",
    "                                       (df_per_complete.P_NROHOG==census_data_dict[\"HOG\"].H_NROHOG_H),\n",
    "                                       how=\"left\")"
   ]
  },
  {
   "cell_type": "code",
   "execution_count": 20,
   "metadata": {},
   "outputs": [
    {
     "data": {
      "application/vnd.jupyter.widget-view+json": {
       "model_id": "f998d90816a04391a5dc709f8be6179b",
       "version_major": 2,
       "version_minor": 0
      },
      "text/plain": [
       "VBox()"
      ]
     },
     "metadata": {},
     "output_type": "display_data"
    },
    {
     "data": {
      "application/vnd.jupyter.widget-view+json": {
       "model_id": "",
       "version_major": 2,
       "version_minor": 0
      },
      "text/plain": [
       "FloatProgress(value=0.0, bar_style='info', description='Progress:', layout=Layout(height='25px', width='50%'),…"
      ]
     },
     "metadata": {},
     "output_type": "display_data"
    }
   ],
   "source": [
    "assert df_per_complete.filter(F.col(\"H_NROHOG_H\").isNull()).count() == 0.0"
   ]
  },
  {
   "cell_type": "code",
   "execution_count": 21,
   "metadata": {},
   "outputs": [
    {
     "data": {
      "application/vnd.jupyter.widget-view+json": {
       "model_id": "fba9794dce52463484d89c58f3638f93",
       "version_major": 2,
       "version_minor": 0
      },
      "text/plain": [
       "VBox()"
      ]
     },
     "metadata": {},
     "output_type": "display_data"
    },
    {
     "data": {
      "application/vnd.jupyter.widget-view+json": {
       "model_id": "",
       "version_major": 2,
       "version_minor": 0
      },
      "text/plain": [
       "FloatProgress(value=0.0, bar_style='info', description='Progress:', layout=Layout(height='25px', width='50%'),…"
      ]
     },
     "metadata": {},
     "output_type": "display_data"
    }
   ],
   "source": [
    "df_per_complete = df_per_complete.join(census_data_dict[\"MGN\"],\n",
    "                                       on=['U_DPTO', 'U_MPIO', 'UA_CLASE', 'U_EDIFICA', \n",
    "                                           'COD_ENCUESTAS', 'U_VIVIENDA'],\n",
    "                                       how=\"left\")"
   ]
  },
  {
   "cell_type": "code",
   "execution_count": 22,
   "metadata": {},
   "outputs": [
    {
     "data": {
      "application/vnd.jupyter.widget-view+json": {
       "model_id": "ef5e4c7bab14455887c1b65d3f8e8d85",
       "version_major": 2,
       "version_minor": 0
      },
      "text/plain": [
       "VBox()"
      ]
     },
     "metadata": {},
     "output_type": "display_data"
    },
    {
     "data": {
      "application/vnd.jupyter.widget-view+json": {
       "model_id": "",
       "version_major": 2,
       "version_minor": 0
      },
      "text/plain": [
       "FloatProgress(value=0.0, bar_style='info', description='Progress:', layout=Layout(height='25px', width='50%'),…"
      ]
     },
     "metadata": {},
     "output_type": "display_data"
    }
   ],
   "source": [
    "assert df_per_complete.filter(F.col(\"UA1_LOCALIDAD\").isNull()).count() == 0.0"
   ]
  },
  {
   "cell_type": "code",
   "execution_count": 23,
   "metadata": {},
   "outputs": [
    {
     "data": {
      "application/vnd.jupyter.widget-view+json": {
       "model_id": "f7a9f4ef408a4b9f8247117cc02e39c3",
       "version_major": 2,
       "version_minor": 0
      },
      "text/plain": [
       "VBox()"
      ]
     },
     "metadata": {},
     "output_type": "display_data"
    },
    {
     "data": {
      "application/vnd.jupyter.widget-view+json": {
       "model_id": "",
       "version_major": 2,
       "version_minor": 0
      },
      "text/plain": [
       "FloatProgress(value=0.0, bar_style='info', description='Progress:', layout=Layout(height='25px', width='50%'),…"
      ]
     },
     "metadata": {},
     "output_type": "display_data"
    }
   ],
   "source": [
    "df_per_complete = df_per_complete.join(divipola_data, \n",
    "                                       (df_per_complete.U_DPTO==divipola_data.cod_depto)&\\\n",
    "                                       (df_per_complete.U_MPIO==divipola_data.cod_mpio),\n",
    "                                       how=\"left\")"
   ]
  },
  {
   "cell_type": "code",
   "execution_count": 24,
   "metadata": {},
   "outputs": [
    {
     "data": {
      "application/vnd.jupyter.widget-view+json": {
       "model_id": "a7d046d717094145a5b4d1a29cfb4a63",
       "version_major": 2,
       "version_minor": 0
      },
      "text/plain": [
       "VBox()"
      ]
     },
     "metadata": {},
     "output_type": "display_data"
    },
    {
     "data": {
      "application/vnd.jupyter.widget-view+json": {
       "model_id": "",
       "version_major": 2,
       "version_minor": 0
      },
      "text/plain": [
       "FloatProgress(value=0.0, bar_style='info', description='Progress:', layout=Layout(height='25px', width='50%'),…"
      ]
     },
     "metadata": {},
     "output_type": "display_data"
    }
   ],
   "source": [
    "assert df_per_complete.filter(F.col(\"nom_mpio\").isNull()).count() == 0.0"
   ]
  },
  {
   "cell_type": "code",
   "execution_count": 25,
   "metadata": {},
   "outputs": [
    {
     "data": {
      "application/vnd.jupyter.widget-view+json": {
       "model_id": "21dcdf417d554bb490cb853c64634db4",
       "version_major": 2,
       "version_minor": 0
      },
      "text/plain": [
       "VBox()"
      ]
     },
     "metadata": {},
     "output_type": "display_data"
    },
    {
     "data": {
      "application/vnd.jupyter.widget-view+json": {
       "model_id": "",
       "version_major": 2,
       "version_minor": 0
      },
      "text/plain": [
       "FloatProgress(value=0.0, bar_style='info', description='Progress:', layout=Layout(height='25px', width='50%'),…"
      ]
     },
     "metadata": {},
     "output_type": "display_data"
    },
    {
     "name": "stdout",
     "output_type": "stream",
     "text": [
      "                        0          1  ...          8          9\n",
      "U_DPTO                  5          5  ...          5          5\n",
      "U_MPIO                  1          1  ...          1          1\n",
      "UA_CLASE                1          1  ...          1          1\n",
      "U_EDIFICA               1          1  ...          1          1\n",
      "COD_ENCUESTAS        3702       3702  ...       4386       4402\n",
      "...                   ...        ...  ...        ...        ...\n",
      "U_SECC_URB              6          6  ...          1          6\n",
      "U_MZA                   6          6  ...         21         23\n",
      "dpto            ANTIOQUIA  ANTIOQUIA  ...  ANTIOQUIA  ANTIOQUIA\n",
      "nom_mpio         MEDELLÍN   MEDELLÍN  ...   MEDELLÍN   MEDELLÍN\n",
      "tipo_municipio  Municipio  Municipio  ...  Municipio  Municipio\n",
      "\n",
      "[70 rows x 10 columns]\n",
      "Length:  20386281"
     ]
    }
   ],
   "source": [
    "duplicate_columns = ['cod_depto', 'cod_mpio', 'U_DPTO_H', 'U_MPIO_H', 'UA_CLASE_H',\n",
    "                     'COD_ENCUESTAS_H', 'U_VIVIENDA_H', 'H_NROHOG_H']\n",
    "df_per_complete = df_per_complete.drop(*duplicate_columns)\n",
    "\n",
    "if show:\n",
    "    df_per_complete.limit(10).toPandas().T\n",
    "    print(\"Length: \", df_per_complete.count())"
   ]
  },
  {
   "cell_type": "code",
   "execution_count": 26,
   "metadata": {},
   "outputs": [
    {
     "data": {
      "application/vnd.jupyter.widget-view+json": {
       "model_id": "b8b7a0eb3ea942e4bbb14ea5dd700551",
       "version_major": 2,
       "version_minor": 0
      },
      "text/plain": [
       "VBox()"
      ]
     },
     "metadata": {},
     "output_type": "display_data"
    },
    {
     "data": {
      "application/vnd.jupyter.widget-view+json": {
       "model_id": "",
       "version_major": 2,
       "version_minor": 0
      },
      "text/plain": [
       "FloatProgress(value=0.0, bar_style='info', description='Progress:', layout=Layout(height='25px', width='50%'),…"
      ]
     },
     "metadata": {},
     "output_type": "display_data"
    }
   ],
   "source": [
    "df_per_complete.write.partitionBy('dpto')\\\n",
    "        .mode('overwrite').option(\"header\",\"true\").csv(complete_personas_path)"
   ]
  },
  {
   "cell_type": "markdown",
   "metadata": {},
   "source": [
    "#### Fallecidos"
   ]
  },
  {
   "cell_type": "code",
   "execution_count": 27,
   "metadata": {},
   "outputs": [
    {
     "data": {
      "application/vnd.jupyter.widget-view+json": {
       "model_id": "29584b8ddc224188835f90dcbd29c3ed",
       "version_major": 2,
       "version_minor": 0
      },
      "text/plain": [
       "VBox()"
      ]
     },
     "metadata": {},
     "output_type": "display_data"
    },
    {
     "data": {
      "application/vnd.jupyter.widget-view+json": {
       "model_id": "",
       "version_major": 2,
       "version_minor": 0
      },
      "text/plain": [
       "FloatProgress(value=0.0, bar_style='info', description='Progress:', layout=Layout(height='25px', width='50%'),…"
      ]
     },
     "metadata": {},
     "output_type": "display_data"
    }
   ],
   "source": [
    "df_fall_complete = census_data_dict[\"FALL\"].join(census_data_dict[\"VIV\"], \n",
    "                                               on=['U_DPTO', 'U_MPIO', 'UA_CLASE', \n",
    "                                                   'COD_ENCUESTAS', 'U_VIVIENDA'],\n",
    "                                               how=\"left\")"
   ]
  },
  {
   "cell_type": "code",
   "execution_count": 28,
   "metadata": {},
   "outputs": [
    {
     "data": {
      "application/vnd.jupyter.widget-view+json": {
       "model_id": "83b49994c49e4a7dad25a133d4efaf43",
       "version_major": 2,
       "version_minor": 0
      },
      "text/plain": [
       "VBox()"
      ]
     },
     "metadata": {},
     "output_type": "display_data"
    },
    {
     "data": {
      "application/vnd.jupyter.widget-view+json": {
       "model_id": "",
       "version_major": 2,
       "version_minor": 0
      },
      "text/plain": [
       "FloatProgress(value=0.0, bar_style='info', description='Progress:', layout=Layout(height='25px', width='50%'),…"
      ]
     },
     "metadata": {},
     "output_type": "display_data"
    }
   ],
   "source": [
    "assert df_fall_complete.filter(F.col(\"UVA_USO_UNIDAD\").isNull()).count() == 0.0"
   ]
  },
  {
   "cell_type": "code",
   "execution_count": 29,
   "metadata": {},
   "outputs": [
    {
     "data": {
      "application/vnd.jupyter.widget-view+json": {
       "model_id": "5bb0e9f891034d55aec0fed35e670209",
       "version_major": 2,
       "version_minor": 0
      },
      "text/plain": [
       "VBox()"
      ]
     },
     "metadata": {},
     "output_type": "display_data"
    },
    {
     "data": {
      "application/vnd.jupyter.widget-view+json": {
       "model_id": "",
       "version_major": 2,
       "version_minor": 0
      },
      "text/plain": [
       "FloatProgress(value=0.0, bar_style='info', description='Progress:', layout=Layout(height='25px', width='50%'),…"
      ]
     },
     "metadata": {},
     "output_type": "display_data"
    }
   ],
   "source": [
    "df_fall_complete = df_fall_complete.join(census_data_dict[\"HOG\"],\n",
    "                                       (df_fall_complete.U_DPTO==census_data_dict[\"HOG\"].U_DPTO_H)&\\\n",
    "                                       (df_fall_complete.U_MPIO==census_data_dict[\"HOG\"].U_MPIO_H)&\\\n",
    "                                       (df_fall_complete.UA_CLASE==census_data_dict[\"HOG\"].UA_CLASE_H)&\\\n",
    "                                       (df_fall_complete.COD_ENCUESTAS==census_data_dict[\"HOG\"].COD_ENCUESTAS_H)&\\\n",
    "                                       (df_fall_complete.U_VIVIENDA==census_data_dict[\"HOG\"].U_VIVIENDA_H)&\\\n",
    "                                       (df_fall_complete.F_NROHOG==census_data_dict[\"HOG\"].H_NROHOG_H),\n",
    "                                       how=\"left\")"
   ]
  },
  {
   "cell_type": "code",
   "execution_count": 30,
   "metadata": {},
   "outputs": [
    {
     "data": {
      "application/vnd.jupyter.widget-view+json": {
       "model_id": "da232eff22334ae6b5c6e135b383f8ea",
       "version_major": 2,
       "version_minor": 0
      },
      "text/plain": [
       "VBox()"
      ]
     },
     "metadata": {},
     "output_type": "display_data"
    },
    {
     "data": {
      "application/vnd.jupyter.widget-view+json": {
       "model_id": "",
       "version_major": 2,
       "version_minor": 0
      },
      "text/plain": [
       "FloatProgress(value=0.0, bar_style='info', description='Progress:', layout=Layout(height='25px', width='50%'),…"
      ]
     },
     "metadata": {},
     "output_type": "display_data"
    }
   ],
   "source": [
    "assert df_fall_complete.filter(F.col(\"H_NROHOG_H\").isNull()).count() == 0.0"
   ]
  },
  {
   "cell_type": "code",
   "execution_count": 31,
   "metadata": {},
   "outputs": [
    {
     "data": {
      "application/vnd.jupyter.widget-view+json": {
       "model_id": "ada89a25de9e46cc9f5f91cb86d1f509",
       "version_major": 2,
       "version_minor": 0
      },
      "text/plain": [
       "VBox()"
      ]
     },
     "metadata": {},
     "output_type": "display_data"
    },
    {
     "data": {
      "application/vnd.jupyter.widget-view+json": {
       "model_id": "",
       "version_major": 2,
       "version_minor": 0
      },
      "text/plain": [
       "FloatProgress(value=0.0, bar_style='info', description='Progress:', layout=Layout(height='25px', width='50%'),…"
      ]
     },
     "metadata": {},
     "output_type": "display_data"
    }
   ],
   "source": [
    "df_fall_complete = df_fall_complete.join(census_data_dict[\"MGN\"],\n",
    "                                       on=['U_DPTO', 'U_MPIO', 'UA_CLASE', 'U_EDIFICA', \n",
    "                                           'COD_ENCUESTAS', 'U_VIVIENDA'],\n",
    "                                       how=\"left\")"
   ]
  },
  {
   "cell_type": "code",
   "execution_count": 32,
   "metadata": {},
   "outputs": [
    {
     "data": {
      "application/vnd.jupyter.widget-view+json": {
       "model_id": "9f7f1625da6446478cf0e929088408ee",
       "version_major": 2,
       "version_minor": 0
      },
      "text/plain": [
       "VBox()"
      ]
     },
     "metadata": {},
     "output_type": "display_data"
    },
    {
     "data": {
      "application/vnd.jupyter.widget-view+json": {
       "model_id": "",
       "version_major": 2,
       "version_minor": 0
      },
      "text/plain": [
       "FloatProgress(value=0.0, bar_style='info', description='Progress:', layout=Layout(height='25px', width='50%'),…"
      ]
     },
     "metadata": {},
     "output_type": "display_data"
    }
   ],
   "source": [
    "assert df_fall_complete.filter(F.col(\"UA1_LOCALIDAD\").isNull()).count() == 0.0"
   ]
  },
  {
   "cell_type": "code",
   "execution_count": 33,
   "metadata": {},
   "outputs": [
    {
     "data": {
      "application/vnd.jupyter.widget-view+json": {
       "model_id": "59d9d08212c445b0abd68564c3494310",
       "version_major": 2,
       "version_minor": 0
      },
      "text/plain": [
       "VBox()"
      ]
     },
     "metadata": {},
     "output_type": "display_data"
    },
    {
     "data": {
      "application/vnd.jupyter.widget-view+json": {
       "model_id": "",
       "version_major": 2,
       "version_minor": 0
      },
      "text/plain": [
       "FloatProgress(value=0.0, bar_style='info', description='Progress:', layout=Layout(height='25px', width='50%'),…"
      ]
     },
     "metadata": {},
     "output_type": "display_data"
    }
   ],
   "source": [
    "df_fall_complete = df_fall_complete.join(divipola_data, \n",
    "                                       (df_fall_complete.U_DPTO==divipola_data.cod_depto)&\\\n",
    "                                       (df_fall_complete.U_MPIO==divipola_data.cod_mpio),\n",
    "                                       how=\"left\")"
   ]
  },
  {
   "cell_type": "code",
   "execution_count": 34,
   "metadata": {},
   "outputs": [
    {
     "data": {
      "application/vnd.jupyter.widget-view+json": {
       "model_id": "29e62d1e57db4dd4a5f40599e1b4e9d2",
       "version_major": 2,
       "version_minor": 0
      },
      "text/plain": [
       "VBox()"
      ]
     },
     "metadata": {},
     "output_type": "display_data"
    },
    {
     "data": {
      "application/vnd.jupyter.widget-view+json": {
       "model_id": "",
       "version_major": 2,
       "version_minor": 0
      },
      "text/plain": [
       "FloatProgress(value=0.0, bar_style='info', description='Progress:', layout=Layout(height='25px', width='50%'),…"
      ]
     },
     "metadata": {},
     "output_type": "display_data"
    }
   ],
   "source": [
    "assert df_fall_complete.filter(F.col(\"nom_mpio\").isNull()).count() == 0.0"
   ]
  },
  {
   "cell_type": "code",
   "execution_count": 35,
   "metadata": {},
   "outputs": [
    {
     "data": {
      "application/vnd.jupyter.widget-view+json": {
       "model_id": "4097f4213ef3454c8e71c647553be7ae",
       "version_major": 2,
       "version_minor": 0
      },
      "text/plain": [
       "VBox()"
      ]
     },
     "metadata": {},
     "output_type": "display_data"
    },
    {
     "data": {
      "application/vnd.jupyter.widget-view+json": {
       "model_id": "",
       "version_major": 2,
       "version_minor": 0
      },
      "text/plain": [
       "FloatProgress(value=0.0, bar_style='info', description='Progress:', layout=Layout(height='25px', width='50%'),…"
      ]
     },
     "metadata": {},
     "output_type": "display_data"
    },
    {
     "name": "stdout",
     "output_type": "stream",
     "text": [
      "                            0          1  ...          8          9\n",
      "U_DPTO                      5          5  ...          5          5\n",
      "U_MPIO                      1          1  ...          1          1\n",
      "UA_CLASE                    1          1  ...          1          1\n",
      "U_EDIFICA                   1          1  ...          1          1\n",
      "COD_ENCUESTAS          156689     752560  ...    2232362    2417415\n",
      "U_VIVIENDA                 12          4  ...        214         15\n",
      "F_NROHOG                    1          1  ...          1          1\n",
      "FA1_NRO_FALL                1          1  ...          1          1\n",
      "FA2_SEXO_FALL               2          2  ...          1          2\n",
      "FA3_EDAD_FALL              88         30  ...         51         26\n",
      "FA4_CERT_DEFUN              1          1  ...          1          1\n",
      "UVA_USO_UNIDAD              1          1  ...          1          1\n",
      "V_TIPO_VIV                  2          1  ...          2          1\n",
      "V_CON_OCUP                  1          1  ...          1          1\n",
      "V_TOT_HOG                   1          1  ...          1          1\n",
      "V_MAT_PARED                 1          1  ...          2          1\n",
      "V_MAT_PISO                  2          4  ...          2          2\n",
      "VA_EE                       1          1  ...          1          1\n",
      "VA1_ESTRATO                 5          1  ...          3          2\n",
      "VB_ACU                      1          1  ...          1          1\n",
      "VC_ALC                      1          1  ...          1          1\n",
      "VD_GAS                      1          2  ...          1          1\n",
      "VE_RECBAS                   1          1  ...          1          1\n",
      "VE1_QSEM                    2          2  ...          2          2\n",
      "VF_INTERNET                 1          1  ...          1          1\n",
      "V_TIPO_SERSA                1          1  ...          1          1\n",
      "L_TIPO_INST              None       None  ...       None       None\n",
      "L_EXISTEHOG              None       None  ...       None       None\n",
      "L_TOT_PERL               None       None  ...       None       None\n",
      "H_NRO_CUARTOS_H             7          3  ...          4          4\n",
      "H_NRO_DORMIT_H              3          3  ...          2          3\n",
      "H_DONDE_PREPALIM_H          1          3  ...          1          1\n",
      "H_AGUA_COCIN_H              1          1  ...          1          1\n",
      "HA_NRO_FALL_H               1          1  ...          1          1\n",
      "HA_TOT_PER_H                4          4  ...          2          2\n",
      "UA1_LOCALIDAD               0          0  ...          0          0\n",
      "U_SECT_RUR                  0          0  ...          0          0\n",
      "U_SECC_RUR                  0          0  ...          0          0\n",
      "UA2_CPOB                    0          0  ...          0          0\n",
      "U_SECT_URB               1108       9051  ...       1701       1801\n",
      "U_SECC_URB                  5          4  ...          8          7\n",
      "U_MZA                       2         24  ...          2          3\n",
      "dpto                ANTIOQUIA  ANTIOQUIA  ...  ANTIOQUIA  ANTIOQUIA\n",
      "nom_mpio             MEDELLÍN   MEDELLÍN  ...   MEDELLÍN   MEDELLÍN\n",
      "tipo_municipio      Municipio  Municipio  ...  Municipio  Municipio\n",
      "\n",
      "[45 rows x 10 columns]\n",
      "Length:  94219"
     ]
    }
   ],
   "source": [
    "duplicate_columns = ['cod_depto', 'cod_mpio', 'U_DPTO_H', 'U_MPIO_H', 'UA_CLASE_H',\n",
    "                     'COD_ENCUESTAS_H', 'U_VIVIENDA_H', 'H_NROHOG_H']\n",
    "df_fall_complete = df_fall_complete.drop(*duplicate_columns)\n",
    "\n",
    "if show:\n",
    "    df_fall_complete.limit(10).toPandas().T\n",
    "    print(\"Length: \", df_fall_complete.count())"
   ]
  },
  {
   "cell_type": "code",
   "execution_count": 39,
   "metadata": {},
   "outputs": [
    {
     "data": {
      "application/vnd.jupyter.widget-view+json": {
       "model_id": "364478517b994b8a93531963b2b22e6b",
       "version_major": 2,
       "version_minor": 0
      },
      "text/plain": [
       "VBox()"
      ]
     },
     "metadata": {},
     "output_type": "display_data"
    },
    {
     "data": {
      "application/vnd.jupyter.widget-view+json": {
       "model_id": "",
       "version_major": 2,
       "version_minor": 0
      },
      "text/plain": [
       "FloatProgress(value=0.0, bar_style='info', description='Progress:', layout=Layout(height='25px', width='50%'),…"
      ]
     },
     "metadata": {},
     "output_type": "display_data"
    }
   ],
   "source": [
    "df_fall_complete.repartition(1).write.partitionBy('dpto')\\\n",
    "    .mode('overwrite').option(\"header\",\"true\").csv(complete_fallecidos_path)"
   ]
  },
  {
   "cell_type": "code",
   "execution_count": null,
   "metadata": {},
   "outputs": [],
   "source": []
  }
 ],
 "metadata": {
  "kernelspec": {
   "display_name": "PySpark",
   "language": "",
   "name": "pysparkkernel"
  },
  "language_info": {
   "codemirror_mode": {
    "name": "python",
    "version": 2
   },
   "mimetype": "text/x-python",
   "name": "pyspark",
   "pygments_lexer": "python2"
  }
 },
 "nbformat": 4,
 "nbformat_minor": 4
}
