{
 "cells": [
  {
   "cell_type": "markdown",
   "metadata": {},
   "source": [
    "# Exploring CENSO dataset"
   ]
  },
  {
   "cell_type": "code",
   "execution_count": 6,
   "metadata": {},
   "outputs": [],
   "source": [
    "import pandas as pd\n",
    "import numpy as np\n",
    "import seaborn as sns\n",
    "import matplotlib.pyplot as plt\n",
    "import os"
   ]
  },
  {
   "cell_type": "code",
   "execution_count": 9,
   "metadata": {},
   "outputs": [],
   "source": [
    "os.chdir(os.path.join(os.getcwd(), \"..\", \"src\"))"
   ]
  },
  {
   "cell_type": "code",
   "execution_count": null,
   "metadata": {},
   "outputs": [],
   "source": []
  },
  {
   "cell_type": "markdown",
   "metadata": {},
   "source": [
    "## Inputs"
   ]
  },
  {
   "cell_type": "code",
   "execution_count": 41,
   "metadata": {},
   "outputs": [],
   "source": [
    "department = \"Antioquia\""
   ]
  },
  {
   "cell_type": "markdown",
   "metadata": {},
   "source": [
    "## Paths"
   ]
  },
  {
   "cell_type": "code",
   "execution_count": 39,
   "metadata": {},
   "outputs": [],
   "source": [
    "data_path = os.path.join(os.getcwd(), \"..\", \"data\")\n",
    "censo_data = os.path.join(data_path, \"censo\")\n",
    "\n",
    "dict_paths_departments = {}\n",
    "for name in os.listdir(censo_data):\n",
    "    if os.path.isdir(os.path.join(censo_data, name)):\n",
    "        dict_paths_departments[name[3:]] = os.path.join(censo_data, name, name + \"_CSV\")"
   ]
  },
  {
   "cell_type": "markdown",
   "metadata": {},
   "source": [
    "## Samples"
   ]
  },
  {
   "cell_type": "code",
   "execution_count": 45,
   "metadata": {},
   "outputs": [],
   "source": [
    "current_dict_files = {}\n",
    "for file in os.listdir(dict_paths_departments[department]):\n",
    "    if \"VIV\" in file:\n",
    "        current_dict_files[\"VIV\"] = os.path.join(dict_paths_departments[department],file)\n",
    "    elif \"HOG\" in file:\n",
    "        current_dict_files[\"HOG\"] = os.path.join(dict_paths_departments[department],file)\n",
    "    elif \"PER\" in file:\n",
    "        current_dict_files[\"PER\"] = os.path.join(dict_paths_departments[department],file)\n",
    "    elif \"FALL\" in file:\n",
    "        current_dict_files[\"FALL\"] = os.path.join(dict_paths_departments[department],file)\n",
    "    elif \"MGN\" in file:\n",
    "        current_dict_files[\"MGN\"] = os.path.join(dict_paths_departments[department],file)"
   ]
  },
  {
   "cell_type": "code",
   "execution_count": 46,
   "metadata": {},
   "outputs": [
    {
     "data": {
      "text/plain": [
       "{'VIV': '/Users/camilovelasquez/Desktop/Documents/Camilo/Udacity/censo_covid_colombia/src/../data/censo/05_Antioquia/05_Antioquia_CSV/CNPV2018_1VIV_A2_05.CSV',\n",
       " 'HOG': '/Users/camilovelasquez/Desktop/Documents/Camilo/Udacity/censo_covid_colombia/src/../data/censo/05_Antioquia/05_Antioquia_CSV/CNPV2018_2HOG_A2_05.CSV',\n",
       " 'PER': '/Users/camilovelasquez/Desktop/Documents/Camilo/Udacity/censo_covid_colombia/src/../data/censo/05_Antioquia/05_Antioquia_CSV/CNPV2018_5PER_A2_05.CSV',\n",
       " 'FALL': '/Users/camilovelasquez/Desktop/Documents/Camilo/Udacity/censo_covid_colombia/src/../data/censo/05_Antioquia/05_Antioquia_CSV/CNPV2018_3FALL_A2_05.CSV',\n",
       " 'MGN': '/Users/camilovelasquez/Desktop/Documents/Camilo/Udacity/censo_covid_colombia/src/../data/censo/05_Antioquia/05_Antioquia_CSV/CNPV2018_MGN_A2_05.CSV'}"
      ]
     },
     "execution_count": 46,
     "metadata": {},
     "output_type": "execute_result"
    }
   ],
   "source": [
    "current_dict_files"
   ]
  },
  {
   "cell_type": "markdown",
   "metadata": {},
   "source": [
    "### VIVIENDA\n",
    "**Columns:**\n",
    "- **'TIPO_REG':** Tipo de registro\n",
    "- **'U_DPTO':** Departamento\n",
    "- **'U_MPIO':** Municipio\n",
    "- **'UA_CLASE':** Clase\n",
    "    - 1_Cabecera Municipal\n",
    "    - 2_Centro Poblado\n",
    "    - 3_Rural Disperso\n",
    "    - 4_Resto Rural (2 y 3 )\n",
    "- **'U_EDIFICA':** Número de orden de la edificación\n",
    "- **'COD_ENCUESTAS':** Código encuesta\n",
    "- **'U_VIVIENDA':** Numero de orden de la Vivienda\n",
    "- **'UVA_ESTATER':** Vivienda en una territorialidad étnica\n",
    "- **'UVA1_TIPOTER':** Tipo de territorialidad étnica\n",
    "- **'UVA2_CODTER':** Código de territorialidad étnica\n",
    "- **'UVA_ESTA_AREAPROT':** Vivienda en un área protegida\n",
    "- **'UVA1_COD_AREAPROT':** Codigo area protegida\n",
    "- **'UVA_USO_UNIDAD':** Uso de la unidad\n",
    "    - 1 Vivienda\n",
    "    - 2 Mixto (Espacio independiente y separado que combina vivienda con otro uso no residencial)\n",
    "    - 3 Unidad NO Residencial (Espacio independiente y separado con uso <> vivienda)\n",
    "    - 4 Lugar Especial de Alojamiento - LEA\n",
    "- **'V_TIPO_VIV':** Tipo de vivienda\n",
    "    - 1 Casa\n",
    "    - 2 Apartamento\n",
    "    - 3 Tipo cuarto\n",
    "    - 4 Vivienda tradicional Indigena\n",
    "    - 5 Vivienda tradicional Etnica (Afrocolombiana, Isleña, Rrom)\n",
    "    - 6 Otro (contenedor, carpa, embarcacion, vagon, cueva, refugio natural, etc.)\n",
    "- **'V_CON_OCUP':** Condicion de ocupacion\n",
    "    - 1 Ocupada con personas presentes\n",
    "    - 2 Ocupada con todas las personas ausentes\n",
    "    - 3 Vivienda temporal (para vacaciones, trabajo etc.)\n",
    "    - 4 Desocupada\n",
    "- **'V_TOT_HOG':** Total de hogares en la vivienda\n",
    "    - 0.Nro_Hogar 00\n",
    "    - 1.Nro_Hogar 01\n",
    "    - 2.Nro_Hogar 02\n",
    "    - ...\n",
    "    - 25.Nro_Hogar 25\n",
    "- **'V_MAT_PARED':** Material predominante en paredes exteriores\n",
    "    - 1 Bloque, ladrillo, piedra, madera pulida\n",
    "    - 2 Concreto vaciado\n",
    "    - 3 Material prefabricado\n",
    "    - 4 Guadua\n",
    "    - 5 Tapia pisada, bahareque, adobe\n",
    "    - 6 Madera burda, tabla, tablon\n",
    "    - 7 Caña, esterilla, otros vegetales\n",
    "    - 8 Materiales de deshecho (Zinc, tela, carton, latas, plasticos, otros)\n",
    "    - 9 No tiene paredes\n",
    "- **'V_MAT_PISO':** Material predominante en los pisos\n",
    "    - 1 Marmol, parque, madera pulida y lacada\n",
    "    - 2 Baldosa, vinilo, tableta, ladrillo, laminado\n",
    "    - 3 Alfombra\n",
    "    - 4 Cemento, gravilla\n",
    "    - 5 Madera burda, tabla, tablon, otro vegetal\n",
    "    - 6 Tierra, arena, barro\n",
    "- **'VA_EE':** Cuenta con servicio de energía eléctrica\n",
    "    - 1 Si\n",
    "    - 2 No\n",
    "- **'VA1_ESTRATO':** Estrato de la vivienda (según servicio de energía)\n",
    "    - 0 Sin Estrato\n",
    "    - 1 Estrato 1\n",
    "    - 2 Estrato 2\n",
    "    - 3 Estrato 3\n",
    "    - 4 Estrato 4\n",
    "    - 5 Estrato 5\n",
    "    - 6 Estrato 6\n",
    "    - 9 No sabe el estrato\n",
    "- **'VB_ACU':** Cuenta con servicio de acueducto\n",
    "    - 1 Si\n",
    "    - 2 No\n",
    "- **'VC_ALC':** Cuenta con servicio de alcantarillado\n",
    "    - 1 Si\n",
    "    - 2 No\n",
    "- **'VD_GAS':** Cuenta con servicio de gas natural conectado a red pública\n",
    "    - 1 Si\n",
    "    - 2 No\n",
    "    - 9 No informa\n",
    "- **'VE_RECBAS':** Cuenta con servicio de recolección de basura\n",
    "    - 1 Si\n",
    "    - 2 No\n",
    "    - 9 No informa\n",
    "- **'VE1_QSEM':** Cuántas veces por semana (recolección basura)\n",
    "    - 1 1 Vez\n",
    "    - 2 2 Veces\n",
    "    - 3 3 Veces\n",
    "    - 4 4 Veces\n",
    "    - 5 5 Veces\n",
    "    - 6 6 Veces\n",
    "    - 7 7 Veces\n",
    "    - 8 Mayor periodicidad\n",
    "    - 9 No Sabe\n",
    "    - No aplica\n",
    "- **'VF_INTERNET':** Cuenta con servicio de internet (fijo o móvil)\n",
    "    - 1 Si\n",
    "    - 2 No\n",
    "- **'V_TIPO_SERSA':** Tipo de servicio sanitario (inodoro)\n",
    "    - 1 Inodoro conectado al alcantarillado?\n",
    "    - 2 Inodoro conectado a pozo septico?\n",
    "    - 3 Inodoro sin conexion?\n",
    "    - 4 Letrina?\n",
    "    - 5 Inodoro con descarga directa a fuentes de agua (bajamar)?\n",
    "    - 6 esta vivienda No tiene servicio sanitario?\n",
    "- **'L_TIPO_INST':** LEA_Tipo de institución o establecimiento\n",
    "    - 1 Centro penitenciario\n",
    "    - 2 Institucion de proteccion e internado preventivo para niños, niñas y adolescentes\n",
    "    - 3 Centro de proteccion y atencion al adulto mayor\n",
    "    - 4 Convento, seminario, monasterio u otras instituciones similiares\n",
    "    - 5 Sede educativa con Poblacion interna\n",
    "    - 6 Cuartel, guarnicion militar (Ejercito, Armada y Fuerza AErea)\n",
    "    - 7 Comando de policIa, estacion de policIa\n",
    "    - 8 Campamento de trabajo\n",
    "    - 9 Casa de lenocinio o prostIbulo\n",
    "    - 10 Albergue de desplazados\n",
    "    - 11 Hogar de paz\n",
    "    - 12 Centro de rehabilitacion funcional\n",
    "    - 13 Casa de paso indigena\n",
    "    - No Aplica\n",
    "- **'L_EXISTEHOG':** LEA_Existencia de hogar\n",
    "    - 1 Si\n",
    "    - 2 No\n",
    "    - 9 No Informa\n",
    "    - No Aplica\n",
    "- **'L_TOT_PERL':** LEA_Total de residentes (no pertenecen a hogares)"
   ]
  },
  {
   "cell_type": "code",
   "execution_count": 47,
   "metadata": {},
   "outputs": [],
   "source": [
    "df_viv = pd.read_csv(current_dict_files[\"VIV\"])"
   ]
  },
  {
   "cell_type": "code",
   "execution_count": 52,
   "metadata": {},
   "outputs": [
    {
     "data": {
      "text/plain": [
       "TIPO_REG                   0\n",
       "U_DPTO                     0\n",
       "U_MPIO                     0\n",
       "UA_CLASE                   0\n",
       "U_EDIFICA                  0\n",
       "COD_ENCUESTAS              0\n",
       "U_VIVIENDA                 0\n",
       "UVA_ESTATER                0\n",
       "UVA1_TIPOTER         2316994\n",
       "UVA2_CODTER          2316994\n",
       "UVA_ESTA_AREAPROT          0\n",
       "UVA1_COD_AREAPROT    2302918\n",
       "UVA_USO_UNIDAD             0\n",
       "V_TIPO_VIV              1794\n",
       "V_CON_OCUP              1794\n",
       "V_TOT_HOG             390497\n",
       "V_MAT_PARED           390497\n",
       "V_MAT_PISO            390497\n",
       "VA_EE                 390497\n",
       "VA1_ESTRATO           413694\n",
       "VB_ACU                390497\n",
       "VC_ALC                390497\n",
       "VD_GAS                390497\n",
       "VE_RECBAS             390497\n",
       "VE1_QSEM              603315\n",
       "VF_INTERNET           390497\n",
       "V_TIPO_SERSA          390497\n",
       "L_TIPO_INST          2322286\n",
       "L_EXISTEHOG          2322286\n",
       "L_TOT_PERL           2322286\n",
       "dtype: int64"
      ]
     },
     "execution_count": 52,
     "metadata": {},
     "output_type": "execute_result"
    }
   ],
   "source": [
    "df_viv.isnull().sum()"
   ]
  },
  {
   "cell_type": "code",
   "execution_count": 53,
   "metadata": {},
   "outputs": [
    {
     "data": {
      "text/plain": [
       "(2324080, 30)"
      ]
     },
     "execution_count": 53,
     "metadata": {},
     "output_type": "execute_result"
    }
   ],
   "source": [
    "df_viv.shape"
   ]
  },
  {
   "cell_type": "markdown",
   "metadata": {},
   "source": [
    "### HOGAR\n",
    "**Columns:**\n",
    "- **'TIPO_REG':** Tipo de registro\n",
    "- **'U_DPTO':** Departamento\n",
    "- **'U_MPIO':** Municipio\n",
    "- **'UA_CLASE':** Clase\n",
    "    - 1_Cabecera Municipal\n",
    "    - 2_Centro Poblado\n",
    "    - 3_Rural Disperso\n",
    "    - 4_Resto Rural (2 y 3 )\n",
    "- **'COD_ENCUESTAS':** Codigo Encuesta\n",
    "- **'U_VIVIENDA':** Numero roden de la vivienda\n",
    "- **'H_NROHOG':** Número de hogar en la vivienda\n",
    "    - 0.Nro_Hogar 00\n",
    "    - 1.Nro_Hogar 01\n",
    "    - 2.Nro_Hogar 02\n",
    "    - ...\n",
    "    - 25.Nro_Hogar 25\n",
    "- **'H_NRO_CUARTOS':** Número de cuartos en total\n",
    "    - 1 1 cuartos\n",
    "    - 2 2 cuartos\n",
    "    - 3 3 cuartos\n",
    "    - 4 4 cuartos\n",
    "    - 5 5 cuartos\n",
    "    - 6 6 cuartos\n",
    "    - 7 7 cuartos\n",
    "    - 8 8 cuartos\n",
    "    - 9 9 cuartos\n",
    "    - 10 10 cuartos\n",
    "    - 11 11 cuartos\n",
    "    - 12 12 cuartos\n",
    "    - 13 13 cuartos\n",
    "    - 14 14 cuartos\n",
    "    - 15 15 cuartos\n",
    "    - 16 16 cuartos\n",
    "    - 17 17 cuartos\n",
    "    - 18 18 cuartos\n",
    "    - 19 19 cuartos\n",
    "    - 20 20 cuartos\n",
    "    - 99 No informa\n",
    "- **'H_NRO_DORMIT':** Número de cuartos para dormir\n",
    "    - 1 1 cuartos\n",
    "    - 2 2 cuartos\n",
    "    - 3 3 cuartos\n",
    "    - 4 4 cuartos\n",
    "    - 5 5 cuartos\n",
    "    - 6 6 cuartos\n",
    "    - 7 7 cuartos\n",
    "    - 8 8 cuartos\n",
    "    - 9 9 cuartos\n",
    "    - 10 10 cuartos\n",
    "    - 11 11 cuartos\n",
    "    - 12 12 cuartos\n",
    "    - 13 13 cuartos\n",
    "    - 14 14 cuartos\n",
    "    - 15 15 cuartos\n",
    "    - 16 16 cuartos\n",
    "    - 17 17 cuartos\n",
    "    - 18 18 cuartos\n",
    "    - 19 19 cuartos\n",
    "    - 20 20 cuartos\n",
    "    - 99 No informa\n",
    "- **'H_DONDE_PREPALIM':** Lugar donde preparan los alimentos\n",
    "    - 1 En un cuarto usado solo para cocinar?\n",
    "    - 2 En un cuarto usado también para dormir?\n",
    "    - 3 En una sala-comedor con lavaplatos?\n",
    "    - 4 En una sala-comedor sin lavaplatos?\n",
    "    - 5 En un patio, corredor, enramada o al aire libre?\n",
    "    - 6 No preparan alimentos en la vivienda?\n",
    "    - 9 No informa\n",
    "- **'H_AGUA_COCIN':** Fuente de agua para preparar los alimentos\n",
    "    - 1 Acueducto público?\n",
    "    - 2 Acueducto veredal?\n",
    "    - 3 Red de distribución comunitaria?\n",
    "    - 4 Pozo con bomba?\n",
    "    - 5 Pozo sin bomba, aljibe, jaguey o barreno?\n",
    "    - 6 Agua lluvia?\n",
    "    - 7 RÍo, quebrada, manantial, nacimiento?\n",
    "    - 8 Pila pública?\n",
    "    - 9 Carrotanque?\n",
    "    - 10 Aguatero?\n",
    "    - 11 Agua embotellada o en bolsa?\n",
    "    - 12 no preparan alimentos\n",
    "    - 99 No informa\n",
    "- **'HA_NRO_FALL':** Total fallecidos en el hogar (2017)\n",
    "    - 0 00 Personas\n",
    "    - 1 01 Persona\n",
    "    - 2 02 Personas\n",
    "    - 3 03 Personas\n",
    "    - 4 04 Personas\n",
    "    - 5 05 Personas\n",
    "    - 6 06 Personas\n",
    "    - 7 07 Personas\n",
    "    - 8 08 Personas\n",
    "    - 9 09 Personas\n",
    "    - 10 10 Personas\n",
    "    - 11 11 Personas\n",
    "    - 12 12 Personas\n",
    "    - 13 13 Personas\n",
    "    - 14 14 Personas\n",
    "    - 15 15 Personas\n",
    "    - 16 16 Personas\n",
    "    - 17 17 Personas\n",
    "    - 18 18 Personas\n",
    "    - 19 19 Personas\n",
    "    - 20 20 Personas\n",
    "- **'HA_TOT_PER':** Total personas en el hogar\n",
    "    - 1 01 Persona\n",
    "    - 2 02 Personas\n",
    "    - 3 03 Personas\n",
    "    - 4 04 Personas\n",
    "    - 5 05 Personas\n",
    "    - 6 06 Personas\n",
    "    - 7 07 Personas\n",
    "    - 8 08 Personas\n",
    "    - 9 09 Personas\n",
    "    - 10 10 Personas\n",
    "    - 11 11 Personas\n",
    "    - 12 12 Personas\n",
    "    - 13 13 Personas\n",
    "    - 14 14 Personas\n",
    "    - 15 15 Personas\n",
    "    - 16 16 Personas\n",
    "    - 17 17 Personas\n",
    "    - 18 18 Personas\n",
    "    - 19 19 Personas\n",
    "    - 20 20 Personas\n",
    "    - 21 21 Personas\n",
    "    - 22 22 Personas\n",
    "    - 23 23 Personas\n",
    "    - 24 24 Personas\n",
    "    - 25 25 Personas\n",
    "    - 26 26 Personas\n",
    "    - 27 27 Personas\n",
    "    - 28 28 Personas\n",
    "    - 29 29 Personas\n",
    "    - 30 30 Personas\n",
    "    - 31 31 Personas\n",
    "    - 32 32 Personas\n",
    "    - 33 33 Personas\n",
    "    - 34 34 Personas\n",
    "    - 35 35 Personas\n",
    "    - 36 36 Personas\n",
    "    - 37 37 Personas\n",
    "    - 38 38 Personas\n",
    "    - 39 39 Personas\n",
    "    - 40 40 Personas"
   ]
  },
  {
   "cell_type": "code",
   "execution_count": 54,
   "metadata": {},
   "outputs": [],
   "source": [
    "df_hog = pd.read_csv(current_dict_files[\"HOG\"])"
   ]
  },
  {
   "cell_type": "code",
   "execution_count": 57,
   "metadata": {},
   "outputs": [
    {
     "data": {
      "text/plain": [
       "TIPO_REG                  0\n",
       "U_DPTO                    0\n",
       "U_MPIO                    0\n",
       "UA_CLASE                  0\n",
       "COD_ENCUESTAS             0\n",
       "U_VIVIENDA                0\n",
       "H_NROHOG               1794\n",
       "H_NRO_CUARTOS          1794\n",
       "H_NRO_DORMIT           1794\n",
       "H_DONDE_PREPALIM       1794\n",
       "H_AGUA_COCIN          17469\n",
       "HA_NRO_FALL         1955762\n",
       "HA_TOT_PER             1794\n",
       "dtype: int64"
      ]
     },
     "execution_count": 57,
     "metadata": {},
     "output_type": "execute_result"
    }
   ],
   "source": [
    "df_hog.isnull().sum()"
   ]
  },
  {
   "cell_type": "code",
   "execution_count": 58,
   "metadata": {},
   "outputs": [
    {
     "data": {
      "text/plain": [
       "(1985360, 13)"
      ]
     },
     "execution_count": 58,
     "metadata": {},
     "output_type": "execute_result"
    }
   ],
   "source": [
    "df_hog.shape"
   ]
  },
  {
   "cell_type": "markdown",
   "metadata": {},
   "source": [
    "### HOGAR\n",
    "**Columns:**\n",
    "- **'TIPO_REG':** Tipo de registro\n",
    "- **'U_DPTO':** Departamento\n",
    "- **'U_MPIO':** Municipio\n",
    "- **'UA_CLASE':** Clase\n",
    "    - 1_Cabecera Municipal\n",
    "    - 2_Centro Poblado\n",
    "    - 3_Rural Disperso\n",
    "    - 4_Resto Rural (2 y 3 )\n",
    "- **'COD_ENCUESTAS':** Codigo Encuesta\n",
    "- **'U_VIVIENDA':** Numero roden de la vivienda\n",
    "- **'H_NROHOG':** Número de hogar en la vivienda\n",
    "    - 0.Nro_Hogar 00\n",
    "    - 1.Nro_Hogar 01\n",
    "    - 2.Nro_Hogar 02\n",
    "    - ...\n",
    "    - 25.Nro_Hogar 25\n",
    "- **'H_NRO_CUARTOS':** Número de cuartos en total\n",
    "    - 1 1 cuartos\n",
    "    - 2 2 cuartos\n",
    "    - 3 3 cuartos\n",
    "    - 4 4 cuartos\n",
    "    - 5 5 cuartos\n",
    "    - 6 6 cuartos\n",
    "    - 7 7 cuartos\n",
    "    - 8 8 cuartos\n",
    "    - 9 9 cuartos\n",
    "    - 10 10 cuartos\n",
    "    - 11 11 cuartos\n",
    "    - 12 12 cuartos\n",
    "    - 13 13 cuartos\n",
    "    - 14 14 cuartos\n",
    "    - 15 15 cuartos\n",
    "    - 16 16 cuartos\n",
    "    - 17 17 cuartos\n",
    "    - 18 18 cuartos\n",
    "    - 19 19 cuartos\n",
    "    - 20 20 cuartos\n",
    "    - 99 No informa\n",
    "- **'H_NRO_DORMIT':** Número de cuartos para dormir\n",
    "    - 1 1 cuartos\n",
    "    - 2 2 cuartos\n",
    "    - 3 3 cuartos\n",
    "    - 4 4 cuartos\n",
    "    - 5 5 cuartos\n",
    "    - 6 6 cuartos\n",
    "    - 7 7 cuartos\n",
    "    - 8 8 cuartos\n",
    "    - 9 9 cuartos\n",
    "    - 10 10 cuartos\n",
    "    - 11 11 cuartos\n",
    "    - 12 12 cuartos\n",
    "    - 13 13 cuartos\n",
    "    - 14 14 cuartos\n",
    "    - 15 15 cuartos\n",
    "    - 16 16 cuartos\n",
    "    - 17 17 cuartos\n",
    "    - 18 18 cuartos\n",
    "    - 19 19 cuartos\n",
    "    - 20 20 cuartos\n",
    "    - 99 No informa\n",
    "- **'H_DONDE_PREPALIM':** Lugar donde preparan los alimentos\n",
    "    - 1 En un cuarto usado solo para cocinar?\n",
    "    - 2 En un cuarto usado también para dormir?\n",
    "    - 3 En una sala-comedor con lavaplatos?\n",
    "    - 4 En una sala-comedor sin lavaplatos?\n",
    "    - 5 En un patio, corredor, enramada o al aire libre?\n",
    "    - 6 No preparan alimentos en la vivienda?\n",
    "    - 9 No informa\n",
    "- **'H_AGUA_COCIN':** Fuente de agua para preparar los alimentos\n",
    "    - 1 Acueducto público?\n",
    "    - 2 Acueducto veredal?\n",
    "    - 3 Red de distribución comunitaria?\n",
    "    - 4 Pozo con bomba?\n",
    "    - 5 Pozo sin bomba, aljibe, jaguey o barreno?\n",
    "    - 6 Agua lluvia?\n",
    "    - 7 RÍo, quebrada, manantial, nacimiento?\n",
    "    - 8 Pila pública?\n",
    "    - 9 Carrotanque?\n",
    "    - 10 Aguatero?\n",
    "    - 11 Agua embotellada o en bolsa?\n",
    "    - 12 no preparan alimentos\n",
    "    - 99 No informa\n",
    "- **'HA_NRO_FALL':** Total fallecidos en el hogar (2017)\n",
    "    - 0 00 Personas\n",
    "    - 1 01 Persona\n",
    "    - 2 02 Personas\n",
    "    - 3 03 Personas\n",
    "    - 4 04 Personas\n",
    "    - 5 05 Personas\n",
    "    - 6 06 Personas\n",
    "    - 7 07 Personas\n",
    "    - 8 08 Personas\n",
    "    - 9 09 Personas\n",
    "    - 10 10 Personas\n",
    "    - 11 11 Personas\n",
    "    - 12 12 Personas\n",
    "    - 13 13 Personas\n",
    "    - 14 14 Personas\n",
    "    - 15 15 Personas\n",
    "    - 16 16 Personas\n",
    "    - 17 17 Personas\n",
    "    - 18 18 Personas\n",
    "    - 19 19 Personas\n",
    "    - 20 20 Personas\n",
    "- **'HA_TOT_PER':** Total personas en el hogar\n",
    "    - 1 01 Persona\n",
    "    - 2 02 Personas\n",
    "    - 3 03 Personas\n",
    "    - 4 04 Personas\n",
    "    - 5 05 Personas\n",
    "    - 6 06 Personas\n",
    "    - 7 07 Personas\n",
    "    - 8 08 Personas\n",
    "    - 9 09 Personas\n",
    "    - 10 10 Personas\n",
    "    - 11 11 Personas\n",
    "    - 12 12 Personas\n",
    "    - 13 13 Personas\n",
    "    - 14 14 Personas\n",
    "    - 15 15 Personas\n",
    "    - 16 16 Personas\n",
    "    - 17 17 Personas\n",
    "    - 18 18 Personas\n",
    "    - 19 19 Personas\n",
    "    - 20 20 Personas\n",
    "    - 21 21 Personas\n",
    "    - 22 22 Personas\n",
    "    - 23 23 Personas\n",
    "    - 24 24 Personas\n",
    "    - 25 25 Personas\n",
    "    - 26 26 Personas\n",
    "    - 27 27 Personas\n",
    "    - 28 28 Personas\n",
    "    - 29 29 Personas\n",
    "    - 30 30 Personas\n",
    "    - 31 31 Personas\n",
    "    - 32 32 Personas\n",
    "    - 33 33 Personas\n",
    "    - 34 34 Personas\n",
    "    - 35 35 Personas\n",
    "    - 36 36 Personas\n",
    "    - 37 37 Personas\n",
    "    - 38 38 Personas\n",
    "    - 39 39 Personas\n",
    "    - 40 40 Personas"
   ]
  },
  {
   "cell_type": "code",
   "execution_count": 54,
   "metadata": {},
   "outputs": [],
   "source": [
    "df_hog = pd.read_csv(current_dict_files[\"HOG\"])"
   ]
  },
  {
   "cell_type": "code",
   "execution_count": 57,
   "metadata": {},
   "outputs": [
    {
     "data": {
      "text/plain": [
       "TIPO_REG                  0\n",
       "U_DPTO                    0\n",
       "U_MPIO                    0\n",
       "UA_CLASE                  0\n",
       "COD_ENCUESTAS             0\n",
       "U_VIVIENDA                0\n",
       "H_NROHOG               1794\n",
       "H_NRO_CUARTOS          1794\n",
       "H_NRO_DORMIT           1794\n",
       "H_DONDE_PREPALIM       1794\n",
       "H_AGUA_COCIN          17469\n",
       "HA_NRO_FALL         1955762\n",
       "HA_TOT_PER             1794\n",
       "dtype: int64"
      ]
     },
     "execution_count": 57,
     "metadata": {},
     "output_type": "execute_result"
    }
   ],
   "source": [
    "df_hog.isnull().sum()"
   ]
  },
  {
   "cell_type": "code",
   "execution_count": 58,
   "metadata": {},
   "outputs": [
    {
     "data": {
      "text/plain": [
       "(1985360, 13)"
      ]
     },
     "execution_count": 58,
     "metadata": {},
     "output_type": "execute_result"
    }
   ],
   "source": [
    "df_hog.shape"
   ]
  },
  {
   "cell_type": "code",
   "execution_count": null,
   "metadata": {},
   "outputs": [],
   "source": []
  }
 ],
 "metadata": {
  "kernelspec": {
   "display_name": "Python [conda env:censo]",
   "language": "python",
   "name": "conda-env-censo-py"
  },
  "language_info": {
   "codemirror_mode": {
    "name": "ipython",
    "version": 3
   },
   "file_extension": ".py",
   "mimetype": "text/x-python",
   "name": "python",
   "nbconvert_exporter": "python",
   "pygments_lexer": "ipython3",
   "version": "3.7.7"
  }
 },
 "nbformat": 4,
 "nbformat_minor": 2
}
